{
 "cells": [
  {
   "cell_type": "code",
   "execution_count": 1,
   "metadata": {
    "executionInfo": {
     "elapsed": 3113,
     "status": "ok",
     "timestamp": 1635811753910,
     "user": {
      "displayName": "Sathyanarayanan Vasudevan",
      "photoUrl": "https://lh3.googleusercontent.com/a/default-user=s64",
      "userId": "18152865855978230831"
     },
     "user_tz": -330
    },
    "id": "SWhX3w0JK0w7"
   },
   "outputs": [],
   "source": [
    "#importing the required packages\n",
    "import tensorflow as tf\n",
    "from tensorflow.keras.optimizers import Adam \n",
    "from tensorflow import keras\n",
    "from tensorflow.keras import layers\n",
    "import os \n",
    "import numpy as np\n",
    "from matplotlib import pyplot as plt  \n",
    "import seaborn as sns"
   ]
  },
  {
   "cell_type": "code",
   "execution_count": 2,
   "metadata": {
    "executionInfo": {
     "elapsed": 17,
     "status": "ok",
     "timestamp": 1635811753912,
     "user": {
      "displayName": "Sathyanarayanan Vasudevan",
      "photoUrl": "https://lh3.googleusercontent.com/a/default-user=s64",
      "userId": "18152865855978230831"
     },
     "user_tz": -330
    },
    "id": "QnTEvwDQMMxw"
   },
   "outputs": [],
   "source": [
    "#specifying the path \n",
    "DATASET_PATH = \"\\\\Users\\\\vvsat\\\\Documents\\\\machine learning\\\\Alzheimer_s\\\\Dataset\"  "
   ]
  },
  {
   "cell_type": "code",
   "execution_count": 3,
   "metadata": {
    "executionInfo": {
     "elapsed": 20,
     "status": "ok",
     "timestamp": 1635811753914,
     "user": {
      "displayName": "Sathyanarayanan Vasudevan",
      "photoUrl": "https://lh3.googleusercontent.com/a/default-user=s64",
      "userId": "18152865855978230831"
     },
     "user_tz": -330
    },
    "id": "u1lbLmEdMsTC"
   },
   "outputs": [],
   "source": [
    "#defining the classes of the dataset \n",
    "disease_cls = ['MildDemented','ModerateDemented','NonDemented','VeryMildDemented']  "
   ]
  },
  {
   "cell_type": "markdown",
   "metadata": {
    "id": "PWqoikd4YUP7"
   },
   "source": [
    "SPLITTTING THE IMAGES INTO TRAIN, TEST AND VALID DATASETS"
   ]
  },
  {
   "cell_type": "code",
   "execution_count": 4,
   "metadata": {
    "colab": {
     "base_uri": "https://localhost:8080/"
    },
    "executionInfo": {
     "elapsed": 18870,
     "status": "ok",
     "timestamp": 1635811775274,
     "user": {
      "displayName": "Sathyanarayanan Vasudevan",
      "photoUrl": "https://lh3.googleusercontent.com/a/default-user=s64",
      "userId": "18152865855978230831"
     },
     "user_tz": -330
    },
    "id": "8xXGHVOIlheA",
    "outputId": "ba9061b6-8e28-49c3-d622-4fe5b2a955f8"
   },
   "outputs": [],
   "source": [
    "#splitting the images into train, test and valid datasets with 70, 15 and 15 percentage weightage\n",
    "import splitfolders \n",
    "splitfolders.ratio(DATASET_PATH, output=\"split\", seed=1, ratio=(.7, .15, .15), group_prefix=None)  "
   ]
  },
  {
   "cell_type": "markdown",
   "metadata": {
    "id": "6hqNNOjeQ_46"
   },
   "source": [
    "IMAGE DATA PREPROCESSING"
   ]
  },
  {
   "cell_type": "code",
   "execution_count": 5,
   "metadata": {
    "executionInfo": {
     "elapsed": 11,
     "status": "ok",
     "timestamp": 1635811775277,
     "user": {
      "displayName": "Sathyanarayanan Vasudevan",
      "photoUrl": "https://lh3.googleusercontent.com/a/default-user=s64",
      "userId": "18152865855978230831"
     },
     "user_tz": -330
    },
    "id": "2XANDdVKUSjB"
   },
   "outputs": [],
   "source": [
    "#importing the required packages \n",
    "from tensorflow.keras.preprocessing.image import ImageDataGenerator  "
   ]
  },
  {
   "cell_type": "code",
   "execution_count": 6,
   "metadata": {
    "colab": {
     "base_uri": "https://localhost:8080/"
    },
    "executionInfo": {
     "elapsed": 579,
     "status": "ok",
     "timestamp": 1635811775846,
     "user": {
      "displayName": "Sathyanarayanan Vasudevan",
      "photoUrl": "https://lh3.googleusercontent.com/a/default-user=s64",
      "userId": "18152865855978230831"
     },
     "user_tz": -330
    },
    "id": "25OOia7FUd2m",
    "outputId": "26c4444e-2746-44d0-e6f1-ba84c476d108"
   },
   "outputs": [
    {
     "name": "stderr",
     "output_type": "stream",
     "text": [
      "C:\\Users\\vvsat\\anaconda3\\envs\\tf-gpu\\lib\\site-packages\\keras_preprocessing\\image\\image_data_generator.py:349: UserWarning: This ImageDataGenerator specifies `featurewise_std_normalization`, which overrides setting of `featurewise_center`.\n",
      "  warnings.warn('This ImageDataGenerator specifies '\n",
      "C:\\Users\\vvsat\\anaconda3\\envs\\tf-gpu\\lib\\site-packages\\keras_preprocessing\\image\\image_data_generator.py:356: UserWarning: This ImageDataGenerator specifies `samplewise_std_normalization`, which overrides setting of `samplewise_center`.\n",
      "  warnings.warn('This ImageDataGenerator specifies '\n"
     ]
    },
    {
     "name": "stdout",
     "output_type": "stream",
     "text": [
      "Found 5848 images belonging to 4 classes.\n",
      "Found 1766 images belonging to 4 classes.\n",
      "Found 1787 images belonging to 4 classes.\n"
     ]
    }
   ],
   "source": [
    "#applying the neccessary preprocessing required for this data\n",
    "train_datagen = ImageDataGenerator(rescale=1./255, \n",
    "                                   featurewise_std_normalization=True,\n",
    "                                   samplewise_std_normalization=True,\n",
    "                                   brightness_range=[0.3,0.5],\n",
    "                                   zoom_range = 0.05, \n",
    "                                   horizontal_flip = True) \n",
    "\n",
    "validation_datagen = ImageDataGenerator(rescale=1./255, \n",
    "                                        featurewise_std_normalization=True,\n",
    "                                        samplewise_std_normalization=True,\n",
    "                                        brightness_range=[0.3,0.5],\n",
    "                                        zoom_range = 0.05, \n",
    "                                        horizontal_flip = True)\n",
    "\n",
    "test_datagen = ImageDataGenerator(rescale=1./255,\n",
    "                                  featurewise_std_normalization=True,\n",
    "                                  samplewise_std_normalization=True,\n",
    "                                  brightness_range=[0.3,0.5],\n",
    "                                  zoom_range = 0.05, \n",
    "                                  horizontal_flip = True)\n",
    "\n",
    "\n",
    "# Read the training sample and set the batch size \n",
    "train_generator = train_datagen.flow_from_directory(\n",
    "        'split/train/',\n",
    "        target_size=(128, 128),\n",
    "        batch_size=32,\n",
    "        seed=100,\n",
    "        class_mode='categorical')\n",
    "\n",
    "# Read Validation data from directory and define target size with batch size\n",
    "validation_generator = validation_datagen.flow_from_directory(\n",
    "        'split/val/',\n",
    "        target_size=(128, 128),\n",
    "        batch_size=32,\n",
    "        class_mode='categorical',\n",
    "        seed=500, \n",
    "        shuffle=False)\n",
    "\n",
    "# Read test data from directory and define target size with batch size\n",
    "test_generator = test_datagen.flow_from_directory(\n",
    "        'split/test/',\n",
    "        target_size=(128, 128),\n",
    "        batch_size=32,\n",
    "        seed=1000,\n",
    "        class_mode='categorical',\n",
    "        shuffle=False)  "
   ]
  },
  {
   "cell_type": "markdown",
   "metadata": {
    "id": "ITEQZMJHfqbO"
   },
   "source": [
    "MODEL BUILDING"
   ]
  },
  {
   "cell_type": "markdown",
   "metadata": {
    "id": "YLMHOGGjDDYc"
   },
   "source": [
    "HYPERPARAMETER TUNING"
   ]
  },
  {
   "cell_type": "code",
   "execution_count": 7,
   "metadata": {
    "id": "tBHn5wKsd1Y5"
   },
   "outputs": [],
   "source": [
    "#importing the required packages\n",
    "from tensorflow.keras.models import Sequential \n",
    "from tensorflow.keras import regularizers \n",
    "from tensorflow.keras.applications.resnet import ResNet101\n",
    "from tensorflow.keras.layers import Dense, Flatten, GlobalAveragePooling2D,BatchNormalization,Dropout,Conv2D,MaxPool2D      "
   ]
  },
  {
   "cell_type": "markdown",
   "metadata": {},
   "source": [
    "FREEZING THE MODEL"
   ]
  },
  {
   "cell_type": "code",
   "execution_count": 8,
   "metadata": {
    "id": "fMPvu-5Md1Y7"
   },
   "outputs": [],
   "source": [
    "#defining a function with all the hyperparameters for tuning  \n",
    "def model_builder(hp):    \n",
    "    #defining the hyperparameters units, dropout, lr and weight decay\n",
    "    hp_units = hp.Int('units', min_value=256, max_value=512, step=10)\n",
    "    hp_dropout = hp.Choice('drop_out', values=[0.2, 0.3, 0.5, 0.7, 0.8]) \n",
    "    hp_learning_rate = hp.Choice('learning_rate', values=[0.0001, 0.001, 0.01, 0.05, 0.1])\n",
    "    hp_weight_decay = hp.Choice('weight_decay', values=[0.0001, 0.001, 0.01, 0.05, 0.1])   \n",
    "    hp_weight_decay_2 = hp.Choice('weight_decay_2', values=[0.0001, 0.001, 0.01, 0.05, 0.1])  \n",
    "    # building a sequential model \n",
    "    model = Sequential()  \n",
    "    model.add(ResNet101(include_top=False,input_tensor=None,input_shape=(128,128,3),\n",
    "                     pooling='avg',classes=4,weights='imagenet'))     \n",
    "    #freezing the pretrained layers\n",
    "    model.layers[0].trainable = False    \n",
    "    model.add(Flatten())  \n",
    "    model.add(Dropout(rate = hp_dropout))   \n",
    "    #fully connected layers\n",
    "    model.add(Dense(units = hp_units, activation='relu', kernel_regularizer=regularizers.l2(l2 = hp_weight_decay)))\n",
    "    model.add(Dense(128, activation='relu'))\n",
    "    model.add(Dense(64))\n",
    "    model.add(Dense(32, kernel_regularizer=regularizers.l2(l2 = hp_weight_decay_2)))\n",
    "    model.add(Dense(16, activation='relu'))\n",
    "    model.add(Dense(8))\n",
    "    model.add(Dense(4, activation='softmax'))\n",
    "    model.summary()  \n",
    "    \n",
    "                                     \n",
    "    model.compile(optimizer=keras.optimizers.Adam(learning_rate = hp_learning_rate),\n",
    "                  loss=keras.losses.CategoricalCrossentropy(from_logits=True),\n",
    "                  metrics=[['acc'], tf.keras.metrics.AUC(), tf.keras.metrics.Precision(), tf.keras.metrics.Recall()]) \n",
    "\n",
    "    return model   "
   ]
  },
  {
   "cell_type": "code",
   "execution_count": 9,
   "metadata": {
    "id": "ax5iRSAhXJ_I"
   },
   "outputs": [],
   "source": [
    "import keras_tuner as kt "
   ]
  },
  {
   "cell_type": "code",
   "execution_count": 10,
   "metadata": {
    "id": "zY475JOiW76I"
   },
   "outputs": [
    {
     "name": "stdout",
     "output_type": "stream",
     "text": [
      "INFO:tensorflow:Reloading Oracle from existing project alzheimer_resnet101\\intro_to_kt\\oracle.json\n",
      "Model: \"sequential\"\n",
      "_________________________________________________________________\n",
      "Layer (type)                 Output Shape              Param #   \n",
      "=================================================================\n",
      "resnet101 (Functional)       (None, 2048)              42658176  \n",
      "_________________________________________________________________\n",
      "flatten (Flatten)            (None, 2048)              0         \n",
      "_________________________________________________________________\n",
      "dropout (Dropout)            (None, 2048)              0         \n",
      "_________________________________________________________________\n",
      "dense (Dense)                (None, 256)               524544    \n",
      "_________________________________________________________________\n",
      "dense_1 (Dense)              (None, 128)               32896     \n",
      "_________________________________________________________________\n",
      "dense_2 (Dense)              (None, 64)                8256      \n",
      "_________________________________________________________________\n",
      "dense_3 (Dense)              (None, 32)                2080      \n",
      "_________________________________________________________________\n",
      "dense_4 (Dense)              (None, 16)                528       \n",
      "_________________________________________________________________\n",
      "dense_5 (Dense)              (None, 8)                 136       \n",
      "_________________________________________________________________\n",
      "dense_6 (Dense)              (None, 4)                 36        \n",
      "=================================================================\n",
      "Total params: 43,226,652\n",
      "Trainable params: 568,476\n",
      "Non-trainable params: 42,658,176\n",
      "_________________________________________________________________\n",
      "INFO:tensorflow:Reloading Tuner from alzheimer_resnet101\\intro_to_kt\\tuner0.json\n"
     ]
    }
   ],
   "source": [
    "#creating a hyperband tuner using keras tuner \n",
    "tuner = kt.Hyperband(model_builder, \n",
    "                     objective='acc', \n",
    "                     max_epochs=10, \n",
    "                     hyperband_iterations=10,        \n",
    "                     factor=50,\n",
    "                     directory='alzheimer_resnet101',\n",
    "                     project_name='intro_to_kt')    "
   ]
  },
  {
   "cell_type": "code",
   "execution_count": 11,
   "metadata": {
    "id": "0P8Ct8VZXL-B"
   },
   "outputs": [],
   "source": [
    "#early stopping callback to stop the model when the loss shoots up \n",
    "stop_early = tf.keras.callbacks.EarlyStopping(monitor='loss', patience=3, mode = 'auto', restore_best_weights=True)    "
   ]
  },
  {
   "cell_type": "code",
   "execution_count": 12,
   "metadata": {
    "id": "Syofi2qiVkgi"
   },
   "outputs": [
    {
     "name": "stdout",
     "output_type": "stream",
     "text": [
      "INFO:tensorflow:Oracle triggered exit\n",
      "best number of units for the dense layer 266\n",
      "best dropout 0.2\n",
      "best learning rate 0.0001\n",
      "best weight decay 0.0001\n",
      "best weight decay 2 0.1\n"
     ]
    }
   ],
   "source": [
    "#run the hyperband tuner\n",
    "tuner.search(train_generator, callbacks=[stop_early])    \n",
    "# Get the optimal hyperparameters\n",
    "best_hps=tuner.get_best_hyperparameters(num_trials=1)[0]\n",
    "print('best number of units for the dense layer', best_hps.get('units'))\n",
    "print('best dropout', best_hps.get('drop_out'))\n",
    "print('best learning rate', best_hps.get('learning_rate'))\n",
    "print('best weight decay', best_hps.get('weight_decay'))\n",
    "print('best weight decay 2', best_hps.get('weight_decay_2'))"
   ]
  },
  {
   "cell_type": "markdown",
   "metadata": {},
   "source": [
    "CREATING A NEW SEQUENTIAL MODEL"
   ]
  },
  {
   "cell_type": "code",
   "execution_count": 13,
   "metadata": {},
   "outputs": [
    {
     "name": "stdout",
     "output_type": "stream",
     "text": [
      "Model: \"sequential_1\"\n",
      "_________________________________________________________________\n",
      "Layer (type)                 Output Shape              Param #   \n",
      "=================================================================\n",
      "resnet101 (Functional)       (None, 2048)              42658176  \n",
      "_________________________________________________________________\n",
      "flatten_1 (Flatten)          (None, 2048)              0         \n",
      "_________________________________________________________________\n",
      "dropout_1 (Dropout)          (None, 2048)              0         \n",
      "_________________________________________________________________\n",
      "dense_7 (Dense)              (None, 266)               545034    \n",
      "_________________________________________________________________\n",
      "dense_8 (Dense)              (None, 128)               34176     \n",
      "_________________________________________________________________\n",
      "dense_9 (Dense)              (None, 64)                8256      \n",
      "_________________________________________________________________\n",
      "dense_10 (Dense)             (None, 32)                2080      \n",
      "_________________________________________________________________\n",
      "dense_11 (Dense)             (None, 16)                528       \n",
      "_________________________________________________________________\n",
      "dense_12 (Dense)             (None, 8)                 136       \n",
      "_________________________________________________________________\n",
      "dense_13 (Dense)             (None, 4)                 36        \n",
      "=================================================================\n",
      "Total params: 43,248,422\n",
      "Trainable params: 590,246\n",
      "Non-trainable params: 42,658,176\n",
      "_________________________________________________________________\n"
     ]
    }
   ],
   "source": [
    "# building the final sequential model \n",
    "model = Sequential()  \n",
    "#adding VGG19 with the imagenet weights\n",
    "model.add(ResNet101(include_top=False,input_tensor=None,input_shape=(128,128,3),\n",
    "                     pooling='avg',classes=4,weights='imagenet')) \n",
    "#freezing the pretrained layers\n",
    "model.layers[0].trainable = False\n",
    "#flattening the outputs of the model    \n",
    "model.add(Flatten())  \n",
    "#dropping out the a percentage of the model weights\n",
    "model.add(Dropout(rate = best_hps.get('drop_out')))   \n",
    "#fully connected layer\n",
    "model.add(Dense(units = best_hps.get('units'), activation='relu', \n",
    "                kernel_regularizer=regularizers.l2(l2 = best_hps.get('weight_decay'))))\n",
    "model.add(Dense(128, activation='relu'))\n",
    "model.add(Dense(64))\n",
    "model.add(Dense(32, kernel_regularizer=regularizers.l2(l2 = best_hps.get('weight_decay_2'))))\n",
    "model.add(Dense(16, activation='relu'))\n",
    "model.add(Dense(8))\n",
    "model.add(Dense(4, activation='softmax'))\n",
    "model.summary()                                      "
   ]
  },
  {
   "cell_type": "code",
   "execution_count": 14,
   "metadata": {},
   "outputs": [],
   "source": [
    "#compliling the model\n",
    "model.compile(optimizer=keras.optimizers.Adam(learning_rate = best_hps.get('learning_rate')),\n",
    "              loss=keras.losses.CategoricalCrossentropy(from_logits=True),\n",
    "              metrics=[['acc'], tf.keras.metrics.AUC(), tf.keras.metrics.Precision(), tf.keras.metrics.Recall()]) "
   ]
  },
  {
   "cell_type": "code",
   "execution_count": 15,
   "metadata": {},
   "outputs": [
    {
     "name": "stderr",
     "output_type": "stream",
     "text": [
      "C:\\Users\\vvsat\\anaconda3\\envs\\tf-gpu\\lib\\site-packages\\keras_preprocessing\\image\\image_data_generator.py:720: UserWarning: This ImageDataGenerator specifies `featurewise_center`, but it hasn't been fit on any training data. Fit it first by calling `.fit(numpy_data)`.\n",
      "  warnings.warn('This ImageDataGenerator specifies '\n",
      "C:\\Users\\vvsat\\anaconda3\\envs\\tf-gpu\\lib\\site-packages\\keras_preprocessing\\image\\image_data_generator.py:728: UserWarning: This ImageDataGenerator specifies `featurewise_std_normalization`, but it hasn't been fit on any training data. Fit it first by calling `.fit(numpy_data)`.\n",
      "  warnings.warn('This ImageDataGenerator specifies '\n"
     ]
    },
    {
     "name": "stdout",
     "output_type": "stream",
     "text": [
      "Epoch 1/30\n"
     ]
    },
    {
     "name": "stderr",
     "output_type": "stream",
     "text": [
      "C:\\Users\\vvsat\\anaconda3\\envs\\tf-gpu\\lib\\site-packages\\tensorflow\\python\\keras\\backend.py:4869: UserWarning: \"`categorical_crossentropy` received `from_logits=True`, but the `output` argument was produced by a sigmoid or softmax activation and thus does not represent logits. Was this intended?\"\n",
      "  warnings.warn(\n"
     ]
    },
    {
     "name": "stdout",
     "output_type": "stream",
     "text": [
      "182/182 [==============================] - 42s 177ms/step - loss: 4.8227 - acc: 0.4950 - auc_1: 0.7807 - precision_1: 0.5502 - recall_1: 0.1744 - val_loss: 4.3641 - val_acc: 0.5164 - val_auc_1: 0.8186 - val_precision_1: 0.8147 - val_recall_1: 0.1444\n",
      "Epoch 2/30\n",
      "182/182 [==============================] - 29s 160ms/step - loss: 4.0128 - acc: 0.5127 - auc_1: 0.8073 - precision_1: 0.6248 - recall_1: 0.3104 - val_loss: 3.6559 - val_acc: 0.5289 - val_auc_1: 0.8249 - val_precision_1: 0.7408 - val_recall_1: 0.2848\n",
      "Epoch 3/30\n",
      "182/182 [==============================] - 29s 161ms/step - loss: 3.3874 - acc: 0.5245 - auc_1: 0.8155 - precision_1: 0.6267 - recall_1: 0.3324 - val_loss: 3.1147 - val_acc: 0.5442 - val_auc_1: 0.8269 - val_precision_1: 0.7846 - val_recall_1: 0.2475\n",
      "Epoch 4/30\n",
      "182/182 [==============================] - 29s 159ms/step - loss: 2.8856 - acc: 0.5267 - auc_1: 0.8200 - precision_1: 0.6468 - recall_1: 0.3307 - val_loss: 2.6399 - val_acc: 0.5419 - val_auc_1: 0.8340 - val_precision_1: 0.7063 - val_recall_1: 0.3199\n",
      "Epoch 5/30\n",
      "182/182 [==============================] - 29s 159ms/step - loss: 2.4876 - acc: 0.5303 - auc_1: 0.8200 - precision_1: 0.6537 - recall_1: 0.3215 - val_loss: 2.2837 - val_acc: 0.5527 - val_auc_1: 0.8374 - val_precision_1: 0.7699 - val_recall_1: 0.2899\n",
      "Epoch 6/30\n",
      "182/182 [==============================] - 29s 160ms/step - loss: 2.1539 - acc: 0.5311 - auc_1: 0.8253 - precision_1: 0.6703 - recall_1: 0.3299 - val_loss: 1.9888 - val_acc: 0.5487 - val_auc_1: 0.8362 - val_precision_1: 0.7401 - val_recall_1: 0.3080\n",
      "Epoch 7/30\n",
      "182/182 [==============================] - 29s 160ms/step - loss: 1.8934 - acc: 0.5414 - auc_1: 0.8266 - precision_1: 0.6736 - recall_1: 0.3228 - val_loss: 1.7615 - val_acc: 0.5617 - val_auc_1: 0.8390 - val_precision_1: 0.7402 - val_recall_1: 0.3001\n",
      "Epoch 8/30\n",
      "182/182 [==============================] - 31s 170ms/step - loss: 1.6810 - acc: 0.5489 - auc_1: 0.8292 - precision_1: 0.6779 - recall_1: 0.3278 - val_loss: 1.5592 - val_acc: 0.5629 - val_auc_1: 0.8433 - val_precision_1: 0.7436 - val_recall_1: 0.3137\n",
      "Epoch 9/30\n",
      "182/182 [==============================] - 30s 162ms/step - loss: 1.5148 - acc: 0.5482 - auc_1: 0.8303 - precision_1: 0.6796 - recall_1: 0.3264 - val_loss: 1.4124 - val_acc: 0.5680 - val_auc_1: 0.8425 - val_precision_1: 0.7338 - val_recall_1: 0.3279\n",
      "Epoch 10/30\n",
      "182/182 [==============================] - 29s 161ms/step - loss: 1.3815 - acc: 0.5439 - auc_1: 0.8305 - precision_1: 0.6911 - recall_1: 0.3271 - val_loss: 1.3280 - val_acc: 0.5629 - val_auc_1: 0.8395 - val_precision_1: 0.7754 - val_recall_1: 0.2503\n",
      "Epoch 11/30\n",
      "182/182 [==============================] - 29s 159ms/step - loss: 1.2802 - acc: 0.5491 - auc_1: 0.8316 - precision_1: 0.6914 - recall_1: 0.3264 - val_loss: 1.2091 - val_acc: 0.5566 - val_auc_1: 0.8439 - val_precision_1: 0.7451 - val_recall_1: 0.3228\n",
      "Epoch 12/30\n",
      "182/182 [==============================] - 29s 158ms/step - loss: 1.1989 - acc: 0.5462 - auc_1: 0.8314 - precision_1: 0.6933 - recall_1: 0.3177 - val_loss: 1.1360 - val_acc: 0.5629 - val_auc_1: 0.8427 - val_precision_1: 0.7298 - val_recall_1: 0.3318\n",
      "Epoch 13/30\n",
      "182/182 [==============================] - 29s 160ms/step - loss: 1.1357 - acc: 0.5489 - auc_1: 0.8327 - precision_1: 0.6898 - recall_1: 0.3201 - val_loss: 1.0853 - val_acc: 0.5861 - val_auc_1: 0.8513 - val_precision_1: 0.7767 - val_recall_1: 0.2797\n",
      "Epoch 14/30\n",
      "182/182 [==============================] - 29s 159ms/step - loss: 1.0862 - acc: 0.5496 - auc_1: 0.8340 - precision_1: 0.6954 - recall_1: 0.3182 - val_loss: 1.0456 - val_acc: 0.5640 - val_auc_1: 0.8486 - val_precision_1: 0.7779 - val_recall_1: 0.2877\n",
      "Epoch 15/30\n",
      "182/182 [==============================] - 29s 161ms/step - loss: 1.0482 - acc: 0.5532 - auc_1: 0.8353 - precision_1: 0.7020 - recall_1: 0.3182 - val_loss: 1.0006 - val_acc: 0.5736 - val_auc_1: 0.8504 - val_precision_1: 0.7616 - val_recall_1: 0.3256\n",
      "Epoch 16/30\n",
      "182/182 [==============================] - 29s 158ms/step - loss: 1.0264 - acc: 0.5510 - auc_1: 0.8333 - precision_1: 0.6973 - recall_1: 0.3131 - val_loss: 0.9851 - val_acc: 0.5713 - val_auc_1: 0.8469 - val_precision_1: 0.7693 - val_recall_1: 0.2984\n",
      "Epoch 17/30\n",
      "182/182 [==============================] - 28s 153ms/step - loss: 1.0014 - acc: 0.5527 - auc_1: 0.8348 - precision_1: 0.7068 - recall_1: 0.3170 - val_loss: 0.9762 - val_acc: 0.5640 - val_auc_1: 0.8480 - val_precision_1: 0.7885 - val_recall_1: 0.2639\n",
      "Epoch 18/30\n",
      "182/182 [==============================] - 29s 160ms/step - loss: 0.9816 - acc: 0.5593 - auc_1: 0.8375 - precision_1: 0.7005 - recall_1: 0.3220 - val_loss: 0.9567 - val_acc: 0.5764 - val_auc_1: 0.8461 - val_precision_1: 0.7527 - val_recall_1: 0.3103\n",
      "Epoch 19/30\n",
      "182/182 [==============================] - 31s 172ms/step - loss: 0.9744 - acc: 0.5539 - auc_1: 0.8359 - precision_1: 0.6970 - recall_1: 0.3143 - val_loss: 0.9459 - val_acc: 0.5657 - val_auc_1: 0.8496 - val_precision_1: 0.7623 - val_recall_1: 0.2905\n",
      "Epoch 20/30\n",
      "182/182 [==============================] - 35s 191ms/step - loss: 0.9652 - acc: 0.5595 - auc_1: 0.8371 - precision_1: 0.7062 - recall_1: 0.3194 - val_loss: 0.9295 - val_acc: 0.5776 - val_auc_1: 0.8519 - val_precision_1: 0.7601 - val_recall_1: 0.3086\n",
      "Epoch 21/30\n",
      "182/182 [==============================] - 35s 194ms/step - loss: 0.9570 - acc: 0.5598 - auc_1: 0.8382 - precision_1: 0.7080 - recall_1: 0.3225 - val_loss: 0.9203 - val_acc: 0.5832 - val_auc_1: 0.8542 - val_precision_1: 0.7555 - val_recall_1: 0.3097\n",
      "Epoch 22/30\n",
      "182/182 [==============================] - 32s 177ms/step - loss: 0.9456 - acc: 0.5604 - auc_1: 0.8400 - precision_1: 0.7120 - recall_1: 0.3230 - val_loss: 0.9233 - val_acc: 0.5736 - val_auc_1: 0.8516 - val_precision_1: 0.7623 - val_recall_1: 0.2888\n",
      "Epoch 23/30\n",
      "182/182 [==============================] - 33s 179ms/step - loss: 0.9461 - acc: 0.5610 - auc_1: 0.8394 - precision_1: 0.7055 - recall_1: 0.3240 - val_loss: 0.9259 - val_acc: 0.5804 - val_auc_1: 0.8527 - val_precision_1: 0.7862 - val_recall_1: 0.2894\n",
      "Epoch 24/30\n",
      "182/182 [==============================] - 32s 177ms/step - loss: 0.9364 - acc: 0.5682 - auc_1: 0.8427 - precision_1: 0.7090 - recall_1: 0.3228 - val_loss: 0.9174 - val_acc: 0.5708 - val_auc_1: 0.8516 - val_precision_1: 0.7727 - val_recall_1: 0.3041\n",
      "Epoch 25/30\n",
      "182/182 [==============================] - 33s 181ms/step - loss: 0.9406 - acc: 0.5641 - auc_1: 0.8407 - precision_1: 0.7110 - recall_1: 0.3184 - val_loss: 0.9311 - val_acc: 0.5719 - val_auc_1: 0.8493 - val_precision_1: 0.8033 - val_recall_1: 0.2497\n",
      "Epoch 26/30\n",
      "182/182 [==============================] - 33s 180ms/step - loss: 0.9363 - acc: 0.5650 - auc_1: 0.8413 - precision_1: 0.7111 - recall_1: 0.3211 - val_loss: 0.8952 - val_acc: 0.5798 - val_auc_1: 0.8551 - val_precision_1: 0.7352 - val_recall_1: 0.3443\n",
      "Epoch 27/30\n",
      "182/182 [==============================] - 36s 199ms/step - loss: 0.9304 - acc: 0.5698 - auc_1: 0.8433 - precision_1: 0.7077 - recall_1: 0.3258 - val_loss: 0.9051 - val_acc: 0.5951 - val_auc_1: 0.8586 - val_precision_1: 0.7869 - val_recall_1: 0.3052\n",
      "Epoch 28/30\n",
      "182/182 [==============================] - 34s 186ms/step - loss: 0.9264 - acc: 0.5694 - auc_1: 0.8442 - precision_1: 0.7085 - recall_1: 0.3329 - val_loss: 0.9266 - val_acc: 0.5747 - val_auc_1: 0.8522 - val_precision_1: 0.8010 - val_recall_1: 0.2758\n",
      "Epoch 29/30\n",
      "182/182 [==============================] - 31s 170ms/step - loss: 0.9204 - acc: 0.5756 - auc_1: 0.8461 - precision_1: 0.7117 - recall_1: 0.3348 - val_loss: 0.9101 - val_acc: 0.5878 - val_auc_1: 0.8564 - val_precision_1: 0.8000 - val_recall_1: 0.2809\n",
      "Epoch 30/30\n",
      "182/182 [==============================] - 31s 171ms/step - loss: 0.9156 - acc: 0.5764 - auc_1: 0.8493 - precision_1: 0.7085 - recall_1: 0.3446 - val_loss: 0.9342 - val_acc: 0.5804 - val_auc_1: 0.8474 - val_precision_1: 0.8047 - val_recall_1: 0.2520\n"
     ]
    }
   ],
   "source": [
    "#training the model\n",
    "history = model.fit(train_generator, \n",
    "      steps_per_epoch=train_generator.samples/train_generator.batch_size,\n",
    "      epochs=30, \n",
    "      validation_data=validation_generator, \n",
    "      validation_steps=validation_generator.samples/validation_generator.batch_size,\n",
    "      verbose=1)   "
   ]
  },
  {
   "cell_type": "markdown",
   "metadata": {},
   "source": [
    "UNFREEZING THE MODEL"
   ]
  },
  {
   "cell_type": "code",
   "execution_count": 16,
   "metadata": {},
   "outputs": [
    {
     "name": "stdout",
     "output_type": "stream",
     "text": [
      "Model: \"sequential_1\"\n",
      "_________________________________________________________________\n",
      "Layer (type)                 Output Shape              Param #   \n",
      "=================================================================\n",
      "resnet101 (Functional)       (None, 2048)              42658176  \n",
      "_________________________________________________________________\n",
      "flatten_1 (Flatten)          (None, 2048)              0         \n",
      "_________________________________________________________________\n",
      "dropout_1 (Dropout)          (None, 2048)              0         \n",
      "_________________________________________________________________\n",
      "dense_7 (Dense)              (None, 266)               545034    \n",
      "_________________________________________________________________\n",
      "dense_8 (Dense)              (None, 128)               34176     \n",
      "_________________________________________________________________\n",
      "dense_9 (Dense)              (None, 64)                8256      \n",
      "_________________________________________________________________\n",
      "dense_10 (Dense)             (None, 32)                2080      \n",
      "_________________________________________________________________\n",
      "dense_11 (Dense)             (None, 16)                528       \n",
      "_________________________________________________________________\n",
      "dense_12 (Dense)             (None, 8)                 136       \n",
      "_________________________________________________________________\n",
      "dense_13 (Dense)             (None, 4)                 36        \n",
      "=================================================================\n",
      "Total params: 43,248,422\n",
      "Trainable params: 43,143,078\n",
      "Non-trainable params: 105,344\n",
      "_________________________________________________________________\n"
     ]
    }
   ],
   "source": [
    "#unfreezing the pretrained layers\n",
    "model.layers[0].trainable = True\n",
    "model.summary()"
   ]
  },
  {
   "cell_type": "code",
   "execution_count": 17,
   "metadata": {},
   "outputs": [],
   "source": [
    "#compliling the model\n",
    "model.compile(optimizer=keras.optimizers.Adam(learning_rate = best_hps.get('learning_rate')),\n",
    "              loss=keras.losses.CategoricalCrossentropy(from_logits=True),\n",
    "              metrics=[['acc'], tf.keras.metrics.AUC(), tf.keras.metrics.Precision(), tf.keras.metrics.Recall()]) "
   ]
  },
  {
   "cell_type": "code",
   "execution_count": 18,
   "metadata": {
    "scrolled": true
   },
   "outputs": [
    {
     "name": "stdout",
     "output_type": "stream",
     "text": [
      "Epoch 1/30\n",
      "182/182 [==============================] - 51s 208ms/step - loss: 0.9030 - acc: 0.5711 - auc_2: 0.8537 - precision_2: 0.6823 - recall_2: 0.3741 - val_loss: 1.4309 - val_acc: 0.1421 - val_auc_2: 0.5417 - val_precision_2: 0.1579 - val_recall_2: 0.0017\n",
      "Epoch 2/30\n",
      "182/182 [==============================] - 36s 195ms/step - loss: 0.6578 - acc: 0.7254 - auc_2: 0.9269 - precision_2: 0.7690 - recall_2: 0.6659 - val_loss: 1.8195 - val_acc: 0.1387 - val_auc_2: 0.4925 - val_precision_2: 0.1518 - val_recall_2: 0.1387\n",
      "Epoch 3/30\n",
      "182/182 [==============================] - 35s 192ms/step - loss: 0.4691 - acc: 0.8191 - auc_2: 0.9637 - precision_2: 0.8396 - recall_2: 0.7950 - val_loss: 1.5006 - val_acc: 0.2741 - val_auc_2: 0.6301 - val_precision_2: 0.3064 - val_recall_2: 0.1891\n",
      "Epoch 4/30\n",
      "182/182 [==============================] - 35s 193ms/step - loss: 0.3268 - acc: 0.8812 - auc_2: 0.9823 - precision_2: 0.8945 - recall_2: 0.8716 - val_loss: 1.7845 - val_acc: 0.3794 - val_auc_2: 0.6969 - val_precision_2: 0.3807 - val_recall_2: 0.3777\n",
      "Epoch 5/30\n",
      "182/182 [==============================] - 35s 194ms/step - loss: 0.2262 - acc: 0.9273 - auc_2: 0.9912 - precision_2: 0.9322 - recall_2: 0.9193 - val_loss: 1.9698 - val_acc: 0.4320 - val_auc_2: 0.7192 - val_precision_2: 0.4362 - val_recall_2: 0.4298\n",
      "Epoch 6/30\n",
      "182/182 [==============================] - 36s 197ms/step - loss: 0.1741 - acc: 0.9437 - auc_2: 0.9945 - precision_2: 0.9478 - recall_2: 0.9413 - val_loss: 1.7113 - val_acc: 0.5306 - val_auc_2: 0.8133 - val_precision_2: 0.5332 - val_recall_2: 0.5272\n",
      "Epoch 7/30\n",
      "182/182 [==============================] - 36s 198ms/step - loss: 0.1641 - acc: 0.9543 - auc_2: 0.9951 - precision_2: 0.9576 - recall_2: 0.9504 - val_loss: 0.3106 - val_acc: 0.8845 - val_auc_2: 0.9837 - val_precision_2: 0.8902 - val_recall_2: 0.8817\n",
      "Epoch 8/30\n",
      "182/182 [==============================] - 36s 197ms/step - loss: 0.1174 - acc: 0.9663 - auc_2: 0.9978 - precision_2: 0.9681 - recall_2: 0.9649 - val_loss: 0.1753 - val_acc: 0.9434 - val_auc_2: 0.9942 - val_precision_2: 0.9449 - val_recall_2: 0.9422\n",
      "Epoch 9/30\n",
      "182/182 [==============================] - 36s 198ms/step - loss: 0.1032 - acc: 0.9713 - auc_2: 0.9978 - precision_2: 0.9732 - recall_2: 0.9702 - val_loss: 0.3249 - val_acc: 0.8918 - val_auc_2: 0.9840 - val_precision_2: 0.8954 - val_recall_2: 0.8867\n",
      "Epoch 10/30\n",
      "182/182 [==============================] - 37s 201ms/step - loss: 0.0903 - acc: 0.9761 - auc_2: 0.9984 - precision_2: 0.9774 - recall_2: 0.9749 - val_loss: 0.0995 - val_acc: 0.9711 - val_auc_2: 0.9977 - val_precision_2: 0.9722 - val_recall_2: 0.9706\n",
      "Epoch 11/30\n",
      "182/182 [==============================] - 36s 199ms/step - loss: 0.0846 - acc: 0.9786 - auc_2: 0.9985 - precision_2: 0.9793 - recall_2: 0.9771 - val_loss: 0.1801 - val_acc: 0.9519 - val_auc_2: 0.9927 - val_precision_2: 0.9519 - val_recall_2: 0.9519\n",
      "Epoch 12/30\n",
      "182/182 [==============================] - 36s 197ms/step - loss: 0.0734 - acc: 0.9795 - auc_2: 0.9991 - precision_2: 0.9806 - recall_2: 0.9790 - val_loss: 0.0953 - val_acc: 0.9745 - val_auc_2: 0.9978 - val_precision_2: 0.9756 - val_recall_2: 0.9734\n",
      "Epoch 13/30\n",
      "182/182 [==============================] - 36s 198ms/step - loss: 0.0652 - acc: 0.9839 - auc_2: 0.9991 - precision_2: 0.9839 - recall_2: 0.9831 - val_loss: 0.1028 - val_acc: 0.9717 - val_auc_2: 0.9971 - val_precision_2: 0.9738 - val_recall_2: 0.9700\n",
      "Epoch 14/30\n",
      "182/182 [==============================] - 37s 199ms/step - loss: 0.0640 - acc: 0.9839 - auc_2: 0.9990 - precision_2: 0.9844 - recall_2: 0.9836 - val_loss: 0.1189 - val_acc: 0.9649 - val_auc_2: 0.9971 - val_precision_2: 0.9659 - val_recall_2: 0.9626\n",
      "Epoch 15/30\n",
      "182/182 [==============================] - 36s 198ms/step - loss: 0.0608 - acc: 0.9843 - auc_2: 0.9992 - precision_2: 0.9849 - recall_2: 0.9841 - val_loss: 0.0617 - val_acc: 0.9870 - val_auc_2: 0.9991 - val_precision_2: 0.9892 - val_recall_2: 0.9864\n",
      "Epoch 16/30\n",
      "182/182 [==============================] - 37s 200ms/step - loss: 0.0563 - acc: 0.9853 - auc_2: 0.9993 - precision_2: 0.9860 - recall_2: 0.9851 - val_loss: 0.2514 - val_acc: 0.9343 - val_auc_2: 0.9865 - val_precision_2: 0.9353 - val_recall_2: 0.9332\n",
      "Epoch 17/30\n",
      "182/182 [==============================] - 36s 198ms/step - loss: 0.0574 - acc: 0.9868 - auc_2: 0.9989 - precision_2: 0.9872 - recall_2: 0.9865 - val_loss: 0.0854 - val_acc: 0.9790 - val_auc_2: 0.9979 - val_precision_2: 0.9796 - val_recall_2: 0.9773\n",
      "Epoch 18/30\n",
      "182/182 [==============================] - 37s 200ms/step - loss: 0.0499 - acc: 0.9897 - auc_2: 0.9991 - precision_2: 0.9897 - recall_2: 0.9892 - val_loss: 0.0540 - val_acc: 0.9870 - val_auc_2: 0.9996 - val_precision_2: 0.9870 - val_recall_2: 0.9864\n",
      "Epoch 19/30\n",
      "182/182 [==============================] - 36s 198ms/step - loss: 0.0554 - acc: 0.9853 - auc_2: 0.9993 - precision_2: 0.9855 - recall_2: 0.9848 - val_loss: 0.1030 - val_acc: 0.9717 - val_auc_2: 0.9969 - val_precision_2: 0.9727 - val_recall_2: 0.9694\n",
      "Epoch 20/30\n",
      "182/182 [==============================] - 36s 199ms/step - loss: 0.0567 - acc: 0.9861 - auc_2: 0.9992 - precision_2: 0.9872 - recall_2: 0.9858 - val_loss: 0.0347 - val_acc: 0.9926 - val_auc_2: 0.9995 - val_precision_2: 0.9926 - val_recall_2: 0.9926\n",
      "Epoch 21/30\n",
      "182/182 [==============================] - 37s 201ms/step - loss: 0.0379 - acc: 0.9918 - auc_2: 0.9993 - precision_2: 0.9920 - recall_2: 0.9916 - val_loss: 0.0435 - val_acc: 0.9898 - val_auc_2: 0.9989 - val_precision_2: 0.9898 - val_recall_2: 0.9898\n",
      "Epoch 22/30\n",
      "182/182 [==============================] - 36s 199ms/step - loss: 0.0409 - acc: 0.9906 - auc_2: 0.9994 - precision_2: 0.9908 - recall_2: 0.9904 - val_loss: 0.0815 - val_acc: 0.9819 - val_auc_2: 0.9973 - val_precision_2: 0.9819 - val_recall_2: 0.9807\n",
      "Epoch 23/30\n",
      "182/182 [==============================] - 36s 198ms/step - loss: 0.0499 - acc: 0.9885 - auc_2: 0.9991 - precision_2: 0.9889 - recall_2: 0.9882 - val_loss: 0.1058 - val_acc: 0.9728 - val_auc_2: 0.9966 - val_precision_2: 0.9750 - val_recall_2: 0.9706\n",
      "Epoch 24/30\n",
      "182/182 [==============================] - 36s 199ms/step - loss: 0.0495 - acc: 0.9880 - auc_2: 0.9992 - precision_2: 0.9885 - recall_2: 0.9877 - val_loss: 0.0329 - val_acc: 0.9938 - val_auc_2: 0.9999 - val_precision_2: 0.9943 - val_recall_2: 0.9938\n",
      "Epoch 25/30\n",
      "182/182 [==============================] - 36s 198ms/step - loss: 0.0324 - acc: 0.9923 - auc_2: 0.9999 - precision_2: 0.9926 - recall_2: 0.9918 - val_loss: 0.0545 - val_acc: 0.9841 - val_auc_2: 0.9993 - val_precision_2: 0.9847 - val_recall_2: 0.9841\n",
      "Epoch 26/30\n",
      "182/182 [==============================] - 36s 198ms/step - loss: 0.0544 - acc: 0.9875 - auc_2: 0.9989 - precision_2: 0.9882 - recall_2: 0.9863 - val_loss: 0.0710 - val_acc: 0.9773 - val_auc_2: 0.9989 - val_precision_2: 0.9784 - val_recall_2: 0.9762\n",
      "Epoch 27/30\n",
      "182/182 [==============================] - 36s 198ms/step - loss: 0.0479 - acc: 0.9875 - auc_2: 0.9995 - precision_2: 0.9875 - recall_2: 0.9872 - val_loss: 0.0821 - val_acc: 0.9728 - val_auc_2: 0.9987 - val_precision_2: 0.9728 - val_recall_2: 0.9728\n",
      "Epoch 28/30\n",
      "182/182 [==============================] - 36s 198ms/step - loss: 0.0300 - acc: 0.9933 - auc_2: 0.9996 - precision_2: 0.9933 - recall_2: 0.9933 - val_loss: 0.0680 - val_acc: 0.9785 - val_auc_2: 0.9993 - val_precision_2: 0.9801 - val_recall_2: 0.9779\n",
      "Epoch 29/30\n",
      "182/182 [==============================] - 36s 199ms/step - loss: 0.0301 - acc: 0.9944 - auc_2: 0.9997 - precision_2: 0.9944 - recall_2: 0.9942 - val_loss: 0.0642 - val_acc: 0.9824 - val_auc_2: 0.9982 - val_precision_2: 0.9836 - val_recall_2: 0.9824\n",
      "Epoch 30/30\n",
      "182/182 [==============================] - 36s 198ms/step - loss: 0.0401 - acc: 0.9903 - auc_2: 0.9995 - precision_2: 0.9906 - recall_2: 0.9899 - val_loss: 0.0822 - val_acc: 0.9773 - val_auc_2: 0.9990 - val_precision_2: 0.9784 - val_recall_2: 0.9768\n"
     ]
    }
   ],
   "source": [
    "#training the model\n",
    "history = model.fit(train_generator, \n",
    "      steps_per_epoch=train_generator.samples/train_generator.batch_size,\n",
    "      epochs=30, \n",
    "      validation_data=validation_generator, \n",
    "      validation_steps=validation_generator.samples/validation_generator.batch_size,\n",
    "      verbose=1)  "
   ]
  },
  {
   "cell_type": "markdown",
   "metadata": {
    "id": "-YZeZC_qqazZ"
   },
   "source": [
    "SAVING THE MODEL AND ITS WEIGHTS AFTER HYPERPARAMETER TUNING"
   ]
  },
  {
   "cell_type": "code",
   "execution_count": 19,
   "metadata": {
    "id": "ldwQxrwPrWvW"
   },
   "outputs": [
    {
     "name": "stderr",
     "output_type": "stream",
     "text": [
      "C:\\Users\\vvsat\\anaconda3\\envs\\tf-gpu\\lib\\site-packages\\tensorflow\\python\\keras\\utils\\generic_utils.py:494: CustomMaskWarning: Custom mask layers require a config and must override get_config. When loading, the custom mask layer must be passed to the custom_objects argument.\n",
      "  warnings.warn('Custom mask layers require a config and must override '\n"
     ]
    },
    {
     "name": "stdout",
     "output_type": "stream",
     "text": [
      "INFO:tensorflow:Assets written to: \\Users\\vvsat\\Documents\\machine learning\\Alzheimer_s\\models\\save\\resnet101_after_hpt\\assets\n"
     ]
    }
   ],
   "source": [
    "#saving the model in both hdf5 and normal format\n",
    "model.save('\\\\Users\\\\vvsat\\\\Documents\\\\machine learning\\\\Alzheimer_s\\\\models\\\\save\\\\resnet101_after_hpt')  "
   ]
  },
  {
   "cell_type": "code",
   "execution_count": 20,
   "metadata": {
    "id": "lU3_Py4Tqazj"
   },
   "outputs": [],
   "source": [
    "#saving the model in both hdf5 and normal format\n",
    "model.save('model_after_hpt_resnet101.h5')  "
   ]
  },
  {
   "cell_type": "code",
   "execution_count": 21,
   "metadata": {
    "id": "VkcD3i33sLKh",
    "scrolled": false
   },
   "outputs": [],
   "source": [
    "#loading the model\n",
    "#model = keras.models.load_model('model_after_hpt_resnet50.h5') "
   ]
  },
  {
   "cell_type": "markdown",
   "metadata": {
    "id": "V8v_lEvcHpSr"
   },
   "source": [
    "PLOTTING THE GRAPHS"
   ]
  },
  {
   "cell_type": "code",
   "execution_count": 22,
   "metadata": {
    "id": "3oKDhC-QmvFE"
   },
   "outputs": [],
   "source": [
    "train_acc = history.history['acc'] \n",
    "val_acc = history.history['val_acc']\n",
    "train_loss = history.history['loss'] \n",
    "val_loss = history.history['val_loss'] \n",
    "train_precision = history.history['precision_2'] \n",
    "val_precision = history.history['val_precision_2'] \n",
    "train_recall = history.history['recall_2']\n",
    "val_recall = history.history['val_recall_2']\n",
    "train_auc = history.history['auc_2']\n",
    "val_auc = history.history['val_auc_2'] "
   ]
  },
  {
   "cell_type": "code",
   "execution_count": 23,
   "metadata": {
    "id": "-My1lI9qmvF6"
   },
   "outputs": [
    {
     "data": {
      "image/png": "[encoded data removed]",
      "text/plain": [
       "<Figure size 432x288 with 1 Axes>"
      ]
     },
     "metadata": {
      "needs_background": "light"
     },
     "output_type": "display_data"
    },
    {
     "data": {
      "text/plain": [
       "<Figure size 432x288 with 0 Axes>"
      ]
     },
     "metadata": {},
     "output_type": "display_data"
    },
    {
     "data": {
      "image/png": "[encoded data removed]",
      "text/plain": [
       "<Figure size 432x288 with 1 Axes>"
      ]
     },
     "metadata": {
      "needs_background": "light"
     },
     "output_type": "display_data"
    },
    {
     "data": {
      "image/png": "[encoded data removed]",
      "text/plain": [
       "<Figure size 432x288 with 1 Axes>"
      ]
     },
     "metadata": {
      "needs_background": "light"
     },
     "output_type": "display_data"
    },
    {
     "data": {
      "image/png": "[encoded data removed]",
      "text/plain": [
       "<Figure size 432x288 with 1 Axes>"
      ]
     },
     "metadata": {
      "needs_background": "light"
     },
     "output_type": "display_data"
    },
    {
     "data": {
      "image/png": "[encoded data removed]",
      "text/plain": [
       "<Figure size 432x288 with 1 Axes>"
      ]
     },
     "metadata": {
      "needs_background": "light"
     },
     "output_type": "display_data"
    }
   ],
   "source": [
    "epochs = range(len(train_acc)) \n",
    "plt.plot(epochs, train_acc, 'b', label='Training Accuracy')\n",
    "plt.plot(epochs, val_acc, 'r', label='Validation Accuracy')\n",
    "plt.title('Training and Validation Accuracy')\n",
    "plt.legend()\n",
    "plt.figure()\n",
    "plt.show()\n",
    "\n",
    "plt.plot(epochs, train_loss, 'b', label='Training Loss')\n",
    "plt.plot(epochs, val_loss, 'r', label='Validation Loss')\n",
    "plt.title('Training and Validation Loss')\n",
    "plt.legend()\n",
    "plt.show()\n",
    "\n",
    "plt.plot(epochs, train_precision, 'b', label='training precision')\n",
    "plt.plot(epochs, val_precision, 'r', label='valid precision')\n",
    "plt.title('Training and Validation precision')\n",
    "plt.legend()\n",
    "plt.show()\n",
    "\n",
    "plt.plot(epochs, train_recall, 'b', label='training recall')\n",
    "plt.plot(epochs, val_recall, 'r', label='valid recall')\n",
    "plt.title('Training and Validation recall')\n",
    "plt.legend()\n",
    "plt.show() \n",
    "\n",
    "plt.plot(epochs, train_auc, 'b', label='training auc')\n",
    "plt.plot(epochs, val_auc, 'r', label='valid auc')\n",
    "plt.title('Training and Validation auc curve')\n",
    "plt.legend()\n",
    "plt.show()"
   ]
  },
  {
   "cell_type": "markdown",
   "metadata": {
    "id": "CmGyOuglHnA5"
   },
   "source": [
    "TESTING THE MODEL"
   ]
  },
  {
   "cell_type": "code",
   "execution_count": 24,
   "metadata": {},
   "outputs": [
    {
     "name": "stderr",
     "output_type": "stream",
     "text": [
      "C:\\Users\\vvsat\\anaconda3\\envs\\tf-gpu\\lib\\site-packages\\keras_preprocessing\\image\\image_data_generator.py:720: UserWarning: This ImageDataGenerator specifies `featurewise_center`, but it hasn't been fit on any training data. Fit it first by calling `.fit(numpy_data)`.\n",
      "  warnings.warn('This ImageDataGenerator specifies '\n",
      "C:\\Users\\vvsat\\anaconda3\\envs\\tf-gpu\\lib\\site-packages\\keras_preprocessing\\image\\image_data_generator.py:728: UserWarning: This ImageDataGenerator specifies `featurewise_std_normalization`, but it hasn't been fit on any training data. Fit it first by calling `.fit(numpy_data)`.\n",
      "  warnings.warn('This ImageDataGenerator specifies '\n"
     ]
    },
    {
     "name": "stdout",
     "output_type": "stream",
     "text": [
      "56/56 [==============================] - 7s 127ms/step - loss: 0.0861 - acc: 0.9748 - auc_2: 0.9988 - precision_2: 0.9764 - recall_2: 0.9737\n",
      "[test loss, test accuracy]: [0.08612044155597687, 0.9748181104660034, 0.9988018870353699, 0.9764309525489807, 0.9736989140510559]\n"
     ]
    }
   ],
   "source": [
    "#testing the hypermodel on the test dataset\n",
    "eval_result = model.evaluate(test_generator)\n",
    "print(\"[test loss, test accuracy]:\", eval_result)  "
   ]
  },
  {
   "cell_type": "markdown",
   "metadata": {
    "id": "ZPQETN8jW-CS"
   },
   "source": [
    "CLASSIFICATION REPORTS AND CONFUSION MATRIX"
   ]
  },
  {
   "cell_type": "code",
   "execution_count": 25,
   "metadata": {},
   "outputs": [],
   "source": [
    "from sklearn.metrics import confusion_matrix, classification_report"
   ]
  },
  {
   "cell_type": "code",
   "execution_count": 26,
   "metadata": {},
   "outputs": [],
   "source": [
    "#Confution Matrix and Classification Report\n",
    "batch_size = 32\n",
    "#developing the predictions for the test dataset\n",
    "Y_pred = model.predict(test_generator, test_generator.samples // batch_size+1)\n",
    "y_pred = np.argmax(Y_pred, axis=1) "
   ]
  },
  {
   "cell_type": "code",
   "execution_count": 27,
   "metadata": {},
   "outputs": [
    {
     "data": {
      "text/plain": [
       "<AxesSubplot:>"
      ]
     },
     "execution_count": 27,
     "metadata": {},
     "output_type": "execute_result"
    },
    {
     "data": {
      "image/png": "[encoded data removed]",
      "text/plain": [
       "<Figure size 1080x720 with 2 Axes>"
      ]
     },
     "metadata": {
      "needs_background": "light"
     },
     "output_type": "display_data"
    }
   ],
   "source": [
    "#displaying the confusion matrix\n",
    "cf_matrix = confusion_matrix(test_generator.classes, y_pred)\n",
    "fig, ax = plt.subplots(figsize=(15,10)) \n",
    "sns.heatmap(cf_matrix, linewidths=1, annot=True, ax=ax, fmt='g') "
   ]
  },
  {
   "cell_type": "code",
   "execution_count": 28,
   "metadata": {},
   "outputs": [
    {
     "name": "stdout",
     "output_type": "stream",
     "text": [
      "Classification Report\n",
      "                  precision    recall  f1-score   support\n",
      "\n",
      "    MildDemented       0.97      0.98      0.97       254\n",
      "ModerateDemented       1.00      1.00      1.00        22\n",
      "     NonDemented       0.98      0.98      0.98       889\n",
      "VeryMildDemented       0.97      0.96      0.97       622\n",
      "\n",
      "        accuracy                           0.98      1787\n",
      "       macro avg       0.98      0.98      0.98      1787\n",
      "    weighted avg       0.98      0.98      0.98      1787\n",
      "\n"
     ]
    }
   ],
   "source": [
    "#Classification Report\n",
    "print('Classification Report') \n",
    "target_names = disease_cls\n",
    "print(classification_report(test_generator.classes, y_pred, target_names=target_names)) "
   ]
  },
  {
   "cell_type": "code",
   "execution_count": 29,
   "metadata": {},
   "outputs": [],
   "source": [
    "#tf.keras.models.save_model(model, \"\\\\Users\\\\vvsat\\\\Documents\\\\machine learning\\\\Alzheimer_s\\\\models\")"
   ]
  }
 ],
 "metadata": {
  "accelerator": "GPU",
  "colab": {
   "authorship_tag": "ABX9TyOY6ZEJhB2lP0ZoEQ73k5KI",
   "collapsed_sections": [],
   "name": "alzheimer classifier resnet50.ipynb",
   "provenance": []
  },
  "kernelspec": {
   "display_name": "Python 3 (ipykernel)",
   "language": "python",
   "name": "python3"
  },
  "language_info": {
   "codemirror_mode": {
    "name": "ipython",
    "version": 3
   },
   "file_extension": ".py",
   "mimetype": "text/x-python",
   "name": "python",
   "nbconvert_exporter": "python",
   "pygments_lexer": "ipython3",
   "version": "3.9.7"
  }
 },
 "nbformat": 4,
 "nbformat_minor": 1
}
