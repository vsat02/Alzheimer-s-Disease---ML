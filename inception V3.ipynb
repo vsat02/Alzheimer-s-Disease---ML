{
 "cells": [
  {
   "cell_type": "code",
   "execution_count": 1,
   "metadata": {
    "executionInfo": {
     "elapsed": 3113,
     "status": "ok",
     "timestamp": 1635811753910,
     "user": {
      "displayName": "Sathyanarayanan Vasudevan",
      "photoUrl": "https://lh3.googleusercontent.com/a/default-user=s64",
      "userId": "18152865855978230831"
     },
     "user_tz": -330
    },
    "id": "SWhX3w0JK0w7"
   },
   "outputs": [],
   "source": [
    "#importing the required packages\n",
    "import tensorflow as tf\n",
    "from tensorflow.keras.optimizers import Adam \n",
    "from tensorflow import keras\n",
    "from tensorflow.keras import layers\n",
    "import os \n",
    "import numpy as np\n",
    "from matplotlib import pyplot as plt  \n",
    "import seaborn as sns"
   ]
  },
  {
   "cell_type": "code",
   "execution_count": 2,
   "metadata": {
    "executionInfo": {
     "elapsed": 17,
     "status": "ok",
     "timestamp": 1635811753912,
     "user": {
      "displayName": "Sathyanarayanan Vasudevan",
      "photoUrl": "https://lh3.googleusercontent.com/a/default-user=s64",
      "userId": "18152865855978230831"
     },
     "user_tz": -330
    },
    "id": "QnTEvwDQMMxw"
   },
   "outputs": [],
   "source": [
    "#specifying the path \n",
    "DATASET_PATH = \"\\\\Users\\\\vvsat\\\\Documents\\\\machine learning\\\\Alzheimer_s\\\\Dataset\"  "
   ]
  },
  {
   "cell_type": "code",
   "execution_count": 3,
   "metadata": {
    "executionInfo": {
     "elapsed": 20,
     "status": "ok",
     "timestamp": 1635811753914,
     "user": {
      "displayName": "Sathyanarayanan Vasudevan",
      "photoUrl": "https://lh3.googleusercontent.com/a/default-user=s64",
      "userId": "18152865855978230831"
     },
     "user_tz": -330
    },
    "id": "u1lbLmEdMsTC"
   },
   "outputs": [],
   "source": [
    "#defining the classes of the dataset \n",
    "disease_cls = ['MildDemented','ModerateDemented','NonDemented','VeryMildDemented']  "
   ]
  },
  {
   "cell_type": "markdown",
   "metadata": {
    "id": "PWqoikd4YUP7"
   },
   "source": [
    "SPLITTTING THE IMAGES INTO TRAIN, TEST AND VALID DATASETS"
   ]
  },
  {
   "cell_type": "code",
   "execution_count": 4,
   "metadata": {
    "colab": {
     "base_uri": "https://localhost:8080/"
    },
    "executionInfo": {
     "elapsed": 18870,
     "status": "ok",
     "timestamp": 1635811775274,
     "user": {
      "displayName": "Sathyanarayanan Vasudevan",
      "photoUrl": "https://lh3.googleusercontent.com/a/default-user=s64",
      "userId": "18152865855978230831"
     },
     "user_tz": -330
    },
    "id": "8xXGHVOIlheA",
    "outputId": "ba9061b6-8e28-49c3-d622-4fe5b2a955f8"
   },
   "outputs": [],
   "source": [
    "#splitting the images into train, test and valid datasets with 70, 15 and 15 percentage weightage\n",
    "import splitfolders \n",
    "splitfolders.ratio(DATASET_PATH, output=\"split\", seed=1, ratio=(.7, .15, .15), group_prefix=None)  "
   ]
  },
  {
   "cell_type": "markdown",
   "metadata": {
    "id": "6hqNNOjeQ_46"
   },
   "source": [
    "IMAGE DATA PREPROCESSING"
   ]
  },
  {
   "cell_type": "code",
   "execution_count": 5,
   "metadata": {
    "executionInfo": {
     "elapsed": 11,
     "status": "ok",
     "timestamp": 1635811775277,
     "user": {
      "displayName": "Sathyanarayanan Vasudevan",
      "photoUrl": "https://lh3.googleusercontent.com/a/default-user=s64",
      "userId": "18152865855978230831"
     },
     "user_tz": -330
    },
    "id": "2XANDdVKUSjB"
   },
   "outputs": [],
   "source": [
    "#importing the required packages \n",
    "from tensorflow.keras.preprocessing.image import ImageDataGenerator  "
   ]
  },
  {
   "cell_type": "code",
   "execution_count": 6,
   "metadata": {
    "colab": {
     "base_uri": "https://localhost:8080/"
    },
    "executionInfo": {
     "elapsed": 579,
     "status": "ok",
     "timestamp": 1635811775846,
     "user": {
      "displayName": "Sathyanarayanan Vasudevan",
      "photoUrl": "https://lh3.googleusercontent.com/a/default-user=s64",
      "userId": "18152865855978230831"
     },
     "user_tz": -330
    },
    "id": "25OOia7FUd2m",
    "outputId": "26c4444e-2746-44d0-e6f1-ba84c476d108"
   },
   "outputs": [
    {
     "name": "stderr",
     "output_type": "stream",
     "text": [
      "C:\\Users\\vvsat\\anaconda3\\envs\\tf-gpu\\lib\\site-packages\\keras_preprocessing\\image\\image_data_generator.py:349: UserWarning: This ImageDataGenerator specifies `featurewise_std_normalization`, which overrides setting of `featurewise_center`.\n",
      "  warnings.warn('This ImageDataGenerator specifies '\n",
      "C:\\Users\\vvsat\\anaconda3\\envs\\tf-gpu\\lib\\site-packages\\keras_preprocessing\\image\\image_data_generator.py:356: UserWarning: This ImageDataGenerator specifies `samplewise_std_normalization`, which overrides setting of `samplewise_center`.\n",
      "  warnings.warn('This ImageDataGenerator specifies '\n"
     ]
    },
    {
     "name": "stdout",
     "output_type": "stream",
     "text": [
      "Found 5848 images belonging to 4 classes.\n",
      "Found 1766 images belonging to 4 classes.\n",
      "Found 1787 images belonging to 4 classes.\n"
     ]
    }
   ],
   "source": [
    "#applying the neccessary preprocessing required for this data\n",
    "train_datagen = ImageDataGenerator(rescale=1./255, \n",
    "                                   featurewise_std_normalization=True,\n",
    "                                   samplewise_std_normalization=True,\n",
    "                                   brightness_range=[0.3,0.5],\n",
    "                                   zoom_range = 0.05, \n",
    "                                   horizontal_flip = True) \n",
    "\n",
    "validation_datagen = ImageDataGenerator(rescale=1./255, \n",
    "                                        featurewise_std_normalization=True,\n",
    "                                        samplewise_std_normalization=True,\n",
    "                                        brightness_range=[0.3,0.5],\n",
    "                                        zoom_range = 0.05, \n",
    "                                        horizontal_flip = True)\n",
    "\n",
    "test_datagen = ImageDataGenerator(rescale=1./255,\n",
    "                                  featurewise_std_normalization=True,\n",
    "                                  samplewise_std_normalization=True,\n",
    "                                  brightness_range=[0.3,0.5],\n",
    "                                  zoom_range = 0.05, \n",
    "                                  horizontal_flip = True)\n",
    "\n",
    "\n",
    "# Read the training sample and set the batch size \n",
    "train_generator = train_datagen.flow_from_directory(\n",
    "        'split/train/',\n",
    "        target_size=(128, 128),\n",
    "        batch_size=32,\n",
    "        seed=100,\n",
    "        class_mode='categorical')\n",
    "\n",
    "# Read Validation data from directory and define target size with batch size\n",
    "validation_generator = validation_datagen.flow_from_directory(\n",
    "        'split/val/',\n",
    "        target_size=(128, 128),\n",
    "        batch_size=32,\n",
    "        class_mode='categorical',\n",
    "        seed=500, \n",
    "        shuffle=False)\n",
    "\n",
    "# Read test data from directory and define target size with batch size\n",
    "test_generator = test_datagen.flow_from_directory(\n",
    "        'split/test/',\n",
    "        target_size=(128, 128),\n",
    "        batch_size=32,\n",
    "        seed=1000,\n",
    "        class_mode='categorical',\n",
    "        shuffle=False)  "
   ]
  },
  {
   "cell_type": "markdown",
   "metadata": {
    "id": "ITEQZMJHfqbO"
   },
   "source": [
    "MODEL BUILDING"
   ]
  },
  {
   "cell_type": "markdown",
   "metadata": {
    "id": "YLMHOGGjDDYc"
   },
   "source": [
    "HYPERPARAMETER TUNING"
   ]
  },
  {
   "cell_type": "code",
   "execution_count": 7,
   "metadata": {
    "id": "tBHn5wKsd1Y5"
   },
   "outputs": [],
   "source": [
    "#importing the required packages\n",
    "from tensorflow.keras.models import Sequential \n",
    "from tensorflow.keras import regularizers \n",
    "from tensorflow.keras.applications.inception_v3 import InceptionV3\n",
    "from tensorflow.keras.layers import Dense, Flatten, GlobalAveragePooling2D,BatchNormalization,Dropout,Conv2D,MaxPool2D      "
   ]
  },
  {
   "cell_type": "markdown",
   "metadata": {},
   "source": [
    "FREEZING THE MODEL"
   ]
  },
  {
   "cell_type": "code",
   "execution_count": 8,
   "metadata": {
    "id": "fMPvu-5Md1Y7"
   },
   "outputs": [],
   "source": [
    "#defining a function with all the hyperparameters for tuning  \n",
    "def model_builder(hp):    \n",
    "    #defining the hyperparameters units, dropout, lr and weight decay\n",
    "    hp_units = hp.Int('units', min_value=256, max_value=512, step=10)\n",
    "    hp_dropout = hp.Choice('drop_out', values=[0.2, 0.3, 0.5, 0.7, 0.8]) \n",
    "    hp_learning_rate = hp.Choice('learning_rate', values=[0.0001, 0.001, 0.01, 0.05, 0.1])\n",
    "    hp_weight_decay = hp.Choice('weight_decay', values=[0.0001, 0.001, 0.01, 0.05, 0.1])   \n",
    "    hp_weight_decay_2 = hp.Choice('weight_decay_2', values=[0.0001, 0.001, 0.01, 0.05, 0.1])  \n",
    "    # building a sequential model \n",
    "    model = Sequential()  \n",
    "    model.add(InceptionV3(include_top=False,input_tensor=None,input_shape=(128,128,3),\n",
    "                     pooling='avg',classes=4,weights='imagenet'))     \n",
    "    #freezing the pretrained layers\n",
    "    model.layers[0].trainable = False    \n",
    "    model.add(Flatten())  \n",
    "    model.add(Dropout(rate = hp_dropout))   \n",
    "    #fully connected layers\n",
    "    model.add(Dense(units = hp_units, activation='relu', kernel_regularizer=regularizers.l2(l2 = hp_weight_decay)))\n",
    "    model.add(Dense(128, activation='relu'))\n",
    "    model.add(Dense(64))\n",
    "    model.add(Dense(32, kernel_regularizer=regularizers.l2(l2 = hp_weight_decay_2)))\n",
    "    model.add(Dense(16, activation='relu'))\n",
    "    model.add(Dense(8))\n",
    "    model.add(Dense(4, activation='softmax'))\n",
    "    model.summary()  \n",
    "    \n",
    "                                     \n",
    "    model.compile(optimizer=keras.optimizers.Adam(learning_rate = hp_learning_rate),\n",
    "                  loss=keras.losses.CategoricalCrossentropy(from_logits=True),\n",
    "                  metrics=[['acc'], tf.keras.metrics.AUC(), tf.keras.metrics.Precision(), tf.keras.metrics.Recall()]) \n",
    "\n",
    "    return model   "
   ]
  },
  {
   "cell_type": "code",
   "execution_count": 9,
   "metadata": {
    "id": "ax5iRSAhXJ_I"
   },
   "outputs": [],
   "source": [
    "import keras_tuner as kt "
   ]
  },
  {
   "cell_type": "code",
   "execution_count": 10,
   "metadata": {
    "id": "zY475JOiW76I"
   },
   "outputs": [
    {
     "name": "stdout",
     "output_type": "stream",
     "text": [
      "Downloading data from https://storage.googleapis.com/tensorflow/keras-applications/inception_v3/inception_v3_weights_tf_dim_ordering_tf_kernels_notop.h5\n",
      "87916544/87910968 [==============================] - 26s 0us/step\n",
      "Model: \"sequential\"\n",
      "_________________________________________________________________\n",
      "Layer (type)                 Output Shape              Param #   \n",
      "=================================================================\n",
      "inception_v3 (Functional)    (None, 2048)              21802784  \n",
      "_________________________________________________________________\n",
      "flatten (Flatten)            (None, 2048)              0         \n",
      "_________________________________________________________________\n",
      "dropout (Dropout)            (None, 2048)              0         \n",
      "_________________________________________________________________\n",
      "dense (Dense)                (None, 256)               524544    \n",
      "_________________________________________________________________\n",
      "dense_1 (Dense)              (None, 128)               32896     \n",
      "_________________________________________________________________\n",
      "dense_2 (Dense)              (None, 64)                8256      \n",
      "_________________________________________________________________\n",
      "dense_3 (Dense)              (None, 32)                2080      \n",
      "_________________________________________________________________\n",
      "dense_4 (Dense)              (None, 16)                528       \n",
      "_________________________________________________________________\n",
      "dense_5 (Dense)              (None, 8)                 136       \n",
      "_________________________________________________________________\n",
      "dense_6 (Dense)              (None, 4)                 36        \n",
      "=================================================================\n",
      "Total params: 22,371,260\n",
      "Trainable params: 568,476\n",
      "Non-trainable params: 21,802,784\n",
      "_________________________________________________________________\n"
     ]
    }
   ],
   "source": [
    "#creating a hyperband tuner using keras tuner \n",
    "tuner = kt.Hyperband(model_builder, \n",
    "                     objective='acc', \n",
    "                     max_epochs=10, \n",
    "                     hyperband_iterations=10,        \n",
    "                     factor=50,\n",
    "                     directory='alzheimer_inception_V3',\n",
    "                     project_name='intro_to_kt')    "
   ]
  },
  {
   "cell_type": "code",
   "execution_count": 11,
   "metadata": {
    "id": "0P8Ct8VZXL-B"
   },
   "outputs": [],
   "source": [
    "#early stopping callback to stop the model when the loss shoots up \n",
    "stop_early = tf.keras.callbacks.EarlyStopping(monitor='loss', patience=3, mode = 'auto', restore_best_weights=True)    "
   ]
  },
  {
   "cell_type": "code",
   "execution_count": 12,
   "metadata": {
    "id": "Syofi2qiVkgi"
   },
   "outputs": [
    {
     "name": "stdout",
     "output_type": "stream",
     "text": [
      "Trial 20 Complete [00h 04m 04s]\n",
      "acc: 0.5377907156944275\n",
      "\n",
      "Best acc So Far: 0.6020861864089966\n",
      "Total elapsed time: 01h 16m 24s\n",
      "INFO:tensorflow:Oracle triggered exit\n",
      "best number of units for the dense layer 506\n",
      "best dropout 0.2\n",
      "best learning rate 0.0001\n",
      "best weight decay 0.001\n",
      "best weight decay 2 0.1\n"
     ]
    }
   ],
   "source": [
    "#run the hyperband tuner\n",
    "tuner.search(train_generator, callbacks=[stop_early])    \n",
    "# Get the optimal hyperparameters\n",
    "best_hps=tuner.get_best_hyperparameters(num_trials=1)[0]\n",
    "print('best number of units for the dense layer', best_hps.get('units'))\n",
    "print('best dropout', best_hps.get('drop_out'))\n",
    "print('best learning rate', best_hps.get('learning_rate'))\n",
    "print('best weight decay', best_hps.get('weight_decay'))\n",
    "print('best weight decay 2', best_hps.get('weight_decay_2'))"
   ]
  },
  {
   "cell_type": "markdown",
   "metadata": {},
   "source": [
    "CREATING A NEW SEQUENTIAL MODEL"
   ]
  },
  {
   "cell_type": "code",
   "execution_count": 13,
   "metadata": {},
   "outputs": [
    {
     "name": "stdout",
     "output_type": "stream",
     "text": [
      "Model: \"sequential_1\"\n",
      "_________________________________________________________________\n",
      "Layer (type)                 Output Shape              Param #   \n",
      "=================================================================\n",
      "inception_v3 (Functional)    (None, 2048)              21802784  \n",
      "_________________________________________________________________\n",
      "flatten_1 (Flatten)          (None, 2048)              0         \n",
      "_________________________________________________________________\n",
      "dropout_1 (Dropout)          (None, 2048)              0         \n",
      "_________________________________________________________________\n",
      "dense_7 (Dense)              (None, 506)               1036794   \n",
      "_________________________________________________________________\n",
      "dense_8 (Dense)              (None, 128)               64896     \n",
      "_________________________________________________________________\n",
      "dense_9 (Dense)              (None, 64)                8256      \n",
      "_________________________________________________________________\n",
      "dense_10 (Dense)             (None, 32)                2080      \n",
      "_________________________________________________________________\n",
      "dense_11 (Dense)             (None, 16)                528       \n",
      "_________________________________________________________________\n",
      "dense_12 (Dense)             (None, 8)                 136       \n",
      "_________________________________________________________________\n",
      "dense_13 (Dense)             (None, 4)                 36        \n",
      "=================================================================\n",
      "Total params: 22,915,510\n",
      "Trainable params: 1,112,726\n",
      "Non-trainable params: 21,802,784\n",
      "_________________________________________________________________\n"
     ]
    }
   ],
   "source": [
    "# building the final sequential model \n",
    "model = Sequential()  \n",
    "#adding VGG19 with the imagenet weights\n",
    "model.add(InceptionV3(include_top=False,input_tensor=None,input_shape=(128,128,3),\n",
    "                     pooling='avg',classes=4,weights='imagenet')) \n",
    "#freezing the pretrained layers\n",
    "model.layers[0].trainable = False\n",
    "#flattening the outputs of the model    \n",
    "model.add(Flatten())  \n",
    "#dropping out the a percentage of the model weights \n",
    "model.add(Dropout(rate = best_hps.get('drop_out')))   \n",
    "#fully connected layer\n",
    "model.add(Dense(units = best_hps.get('units'), activation='relu', \n",
    "                kernel_regularizer=regularizers.l2(l2 = best_hps.get('weight_decay'))))\n",
    "model.add(Dense(128, activation='relu'))\n",
    "model.add(Dense(64))\n",
    "model.add(Dense(32, kernel_regularizer=regularizers.l2(l2 = best_hps.get('weight_decay_2'))))\n",
    "model.add(Dense(16, activation='relu'))\n",
    "model.add(Dense(8))\n",
    "model.add(Dense(4, activation='softmax'))\n",
    "model.summary()                                      "
   ]
  },
  {
   "cell_type": "code",
   "execution_count": 14,
   "metadata": {},
   "outputs": [],
   "source": [
    "#compliling the model\n",
    "model.compile(optimizer=keras.optimizers.Adam(learning_rate = best_hps.get('learning_rate')),\n",
    "              loss=keras.losses.CategoricalCrossentropy(from_logits=True),\n",
    "              metrics=[['acc'], tf.keras.metrics.AUC(), tf.keras.metrics.Precision(), tf.keras.metrics.Recall()]) "
   ]
  },
  {
   "cell_type": "code",
   "execution_count": 15,
   "metadata": {},
   "outputs": [
    {
     "name": "stdout",
     "output_type": "stream",
     "text": [
      "Epoch 1/30\n",
      "182/182 [==============================] - 37s 177ms/step - loss: 5.7921 - acc: 0.5171 - auc_1: 0.8044 - precision_1: 0.5657 - recall_1: 0.3704 - val_loss: 5.4766 - val_acc: 0.5481 - val_auc_1: 0.8307 - val_precision_1: 0.5856 - val_recall_1: 0.4689\n",
      "Epoch 2/30\n",
      "182/182 [==============================] - 28s 153ms/step - loss: 5.1619 - acc: 0.5453 - auc_1: 0.8271 - precision_1: 0.6223 - recall_1: 0.3894 - val_loss: 4.8402 - val_acc: 0.5646 - val_auc_1: 0.8454 - val_precision_1: 0.6545 - val_recall_1: 0.4462\n",
      "Epoch 3/30\n",
      "182/182 [==============================] - 28s 152ms/step - loss: 4.6213 - acc: 0.5583 - auc_1: 0.8344 - precision_1: 0.6402 - recall_1: 0.3818 - val_loss: 4.3427 - val_acc: 0.5640 - val_auc_1: 0.8461 - val_precision_1: 0.6551 - val_recall_1: 0.4054\n",
      "Epoch 4/30\n",
      "182/182 [==============================] - 27s 150ms/step - loss: 4.1489 - acc: 0.5699 - auc_1: 0.8414 - precision_1: 0.6572 - recall_1: 0.4056 - val_loss: 3.8851 - val_acc: 0.5838 - val_auc_1: 0.8604 - val_precision_1: 0.7296 - val_recall_1: 0.3851\n",
      "Epoch 5/30\n",
      "182/182 [==============================] - 29s 161ms/step - loss: 3.7436 - acc: 0.5638 - auc_1: 0.8422 - precision_1: 0.6526 - recall_1: 0.3938 - val_loss: 3.5416 - val_acc: 0.5753 - val_auc_1: 0.8541 - val_precision_1: 0.7374 - val_recall_1: 0.3307\n",
      "Epoch 6/30\n",
      "182/182 [==============================] - 30s 165ms/step - loss: 3.3806 - acc: 0.5804 - auc_1: 0.8492 - precision_1: 0.6658 - recall_1: 0.4065 - val_loss: 3.1744 - val_acc: 0.6036 - val_auc_1: 0.8670 - val_precision_1: 0.7391 - val_recall_1: 0.4043\n",
      "Epoch 7/30\n",
      "182/182 [==============================] - 29s 159ms/step - loss: 3.0710 - acc: 0.5850 - auc_1: 0.8531 - precision_1: 0.6846 - recall_1: 0.4135 - val_loss: 2.8818 - val_acc: 0.6008 - val_auc_1: 0.8677 - val_precision_1: 0.6799 - val_recall_1: 0.4570\n",
      "Epoch 8/30\n",
      "182/182 [==============================] - 29s 159ms/step - loss: 2.7986 - acc: 0.5942 - auc_1: 0.8562 - precision_1: 0.6876 - recall_1: 0.4200 - val_loss: 2.6529 - val_acc: 0.6014 - val_auc_1: 0.8656 - val_precision_1: 0.7266 - val_recall_1: 0.4049\n",
      "Epoch 9/30\n",
      "182/182 [==============================] - 29s 158ms/step - loss: 2.5718 - acc: 0.5879 - auc_1: 0.8563 - precision_1: 0.6853 - recall_1: 0.4183 - val_loss: 2.4297 - val_acc: 0.6104 - val_auc_1: 0.8691 - val_precision_1: 0.7050 - val_recall_1: 0.4343\n",
      "Epoch 10/30\n",
      "182/182 [==============================] - 29s 158ms/step - loss: 2.3636 - acc: 0.6048 - auc_1: 0.8621 - precision_1: 0.6937 - recall_1: 0.4360 - val_loss: 2.2502 - val_acc: 0.6059 - val_auc_1: 0.8687 - val_precision_1: 0.6990 - val_recall_1: 0.4575\n",
      "Epoch 11/30\n",
      "182/182 [==============================] - 29s 156ms/step - loss: 2.1964 - acc: 0.6026 - auc_1: 0.8625 - precision_1: 0.6817 - recall_1: 0.4410 - val_loss: 2.1017 - val_acc: 0.5997 - val_auc_1: 0.8648 - val_precision_1: 0.6773 - val_recall_1: 0.4468\n",
      "Epoch 12/30\n",
      "182/182 [==============================] - 29s 159ms/step - loss: 2.0507 - acc: 0.6055 - auc_1: 0.8635 - precision_1: 0.6889 - recall_1: 0.4460 - val_loss: 1.9529 - val_acc: 0.6144 - val_auc_1: 0.8720 - val_precision_1: 0.7069 - val_recall_1: 0.4547\n",
      "Epoch 13/30\n",
      "182/182 [==============================] - 30s 162ms/step - loss: 1.9263 - acc: 0.6101 - auc_1: 0.8651 - precision_1: 0.6965 - recall_1: 0.4533 - val_loss: 1.8793 - val_acc: 0.6189 - val_auc_1: 0.8706 - val_precision_1: 0.7697 - val_recall_1: 0.3313\n",
      "Epoch 14/30\n",
      "182/182 [==============================] - 28s 155ms/step - loss: 1.8209 - acc: 0.6041 - auc_1: 0.8645 - precision_1: 0.6928 - recall_1: 0.4492 - val_loss: 1.7409 - val_acc: 0.6240 - val_auc_1: 0.8763 - val_precision_1: 0.7373 - val_recall_1: 0.4371\n",
      "Epoch 15/30\n",
      "182/182 [==============================] - 27s 150ms/step - loss: 1.7240 - acc: 0.6115 - auc_1: 0.8672 - precision_1: 0.6947 - recall_1: 0.4612 - val_loss: 1.6562 - val_acc: 0.6104 - val_auc_1: 0.8787 - val_precision_1: 0.7252 - val_recall_1: 0.4394\n",
      "Epoch 16/30\n",
      "182/182 [==============================] - 28s 155ms/step - loss: 1.6366 - acc: 0.6178 - auc_1: 0.8713 - precision_1: 0.7143 - recall_1: 0.4608 - val_loss: 1.5880 - val_acc: 0.6025 - val_auc_1: 0.8712 - val_precision_1: 0.6890 - val_recall_1: 0.4779\n",
      "Epoch 17/30\n",
      "182/182 [==============================] - 30s 166ms/step - loss: 1.5615 - acc: 0.6216 - auc_1: 0.8742 - precision_1: 0.7128 - recall_1: 0.4771 - val_loss: 1.5255 - val_acc: 0.6251 - val_auc_1: 0.8751 - val_precision_1: 0.6861 - val_recall_1: 0.4875\n",
      "Epoch 18/30\n",
      "182/182 [==============================] - 32s 175ms/step - loss: 1.5079 - acc: 0.6192 - auc_1: 0.8721 - precision_1: 0.6985 - recall_1: 0.4733 - val_loss: 1.4239 - val_acc: 0.6586 - val_auc_1: 0.8920 - val_precision_1: 0.7546 - val_recall_1: 0.4875\n",
      "Epoch 19/30\n",
      "182/182 [==============================] - 30s 165ms/step - loss: 1.4533 - acc: 0.6156 - auc_1: 0.8729 - precision_1: 0.7026 - recall_1: 0.4764 - val_loss: 1.3780 - val_acc: 0.6563 - val_auc_1: 0.8949 - val_precision_1: 0.7613 - val_recall_1: 0.4677\n",
      "Epoch 20/30\n",
      "182/182 [==============================] - 30s 166ms/step - loss: 1.4000 - acc: 0.6240 - auc_1: 0.8764 - precision_1: 0.7084 - recall_1: 0.4865 - val_loss: 1.3503 - val_acc: 0.6438 - val_auc_1: 0.8862 - val_precision_1: 0.7229 - val_recall_1: 0.4949\n",
      "Epoch 21/30\n",
      "182/182 [==============================] - 30s 165ms/step - loss: 1.3589 - acc: 0.6247 - auc_1: 0.8766 - precision_1: 0.7005 - recall_1: 0.4892 - val_loss: 1.3154 - val_acc: 0.6319 - val_auc_1: 0.8854 - val_precision_1: 0.7270 - val_recall_1: 0.4932\n",
      "Epoch 22/30\n",
      "182/182 [==============================] - 30s 162ms/step - loss: 1.3249 - acc: 0.6238 - auc_1: 0.8769 - precision_1: 0.7042 - recall_1: 0.4959 - val_loss: 1.2710 - val_acc: 0.6546 - val_auc_1: 0.8897 - val_precision_1: 0.7465 - val_recall_1: 0.4819\n",
      "Epoch 23/30\n",
      "182/182 [==============================] - 30s 167ms/step - loss: 1.2939 - acc: 0.6279 - auc_1: 0.8774 - precision_1: 0.7117 - recall_1: 0.4930 - val_loss: 1.2302 - val_acc: 0.6535 - val_auc_1: 0.8917 - val_precision_1: 0.7287 - val_recall_1: 0.5170\n",
      "Epoch 24/30\n",
      "182/182 [==============================] - 30s 164ms/step - loss: 1.2536 - acc: 0.6460 - auc_1: 0.8828 - precision_1: 0.7094 - recall_1: 0.5162 - val_loss: 1.2052 - val_acc: 0.6569 - val_auc_1: 0.8970 - val_precision_1: 0.7446 - val_recall_1: 0.5119\n",
      "Epoch 25/30\n",
      "182/182 [==============================] - 30s 165ms/step - loss: 1.2214 - acc: 0.6424 - auc_1: 0.8852 - precision_1: 0.7128 - recall_1: 0.5255 - val_loss: 1.1723 - val_acc: 0.6687 - val_auc_1: 0.8963 - val_precision_1: 0.7307 - val_recall_1: 0.5883\n",
      "Epoch 26/30\n",
      "182/182 [==============================] - 30s 163ms/step - loss: 1.2021 - acc: 0.6467 - auc_1: 0.8844 - precision_1: 0.7124 - recall_1: 0.5286 - val_loss: 1.1472 - val_acc: 0.6619 - val_auc_1: 0.8991 - val_precision_1: 0.7473 - val_recall_1: 0.5023\n",
      "Epoch 27/30\n",
      "182/182 [==============================] - 29s 161ms/step - loss: 1.1772 - acc: 0.6433 - auc_1: 0.8862 - precision_1: 0.7185 - recall_1: 0.5260 - val_loss: 1.1251 - val_acc: 0.6614 - val_auc_1: 0.8988 - val_precision_1: 0.7375 - val_recall_1: 0.5362\n",
      "Epoch 28/30\n",
      "182/182 [==============================] - 29s 161ms/step - loss: 1.1620 - acc: 0.6341 - auc_1: 0.8843 - precision_1: 0.7086 - recall_1: 0.5215 - val_loss: 1.1049 - val_acc: 0.6602 - val_auc_1: 0.8988 - val_precision_1: 0.7457 - val_recall_1: 0.5379\n",
      "Epoch 29/30\n",
      "182/182 [==============================] - 30s 164ms/step - loss: 1.1247 - acc: 0.6542 - auc_1: 0.8915 - precision_1: 0.7210 - recall_1: 0.5397 - val_loss: 1.0799 - val_acc: 0.6755 - val_auc_1: 0.9022 - val_precision_1: 0.7435 - val_recall_1: 0.5861\n",
      "Epoch 30/30\n",
      "182/182 [==============================] - 29s 161ms/step - loss: 1.1283 - acc: 0.6353 - auc_1: 0.8847 - precision_1: 0.6973 - recall_1: 0.5267 - val_loss: 1.1242 - val_acc: 0.6127 - val_auc_1: 0.8831 - val_precision_1: 0.6813 - val_recall_1: 0.5193\n"
     ]
    }
   ],
   "source": [
    "#training the model\n",
    "history = model.fit(train_generator, \n",
    "      steps_per_epoch=train_generator.samples/train_generator.batch_size,\n",
    "      epochs=30, \n",
    "      validation_data=validation_generator, \n",
    "      validation_steps=validation_generator.samples/validation_generator.batch_size,\n",
    "      verbose=1)   "
   ]
  },
  {
   "cell_type": "markdown",
   "metadata": {},
   "source": [
    "UNFREEZING THE MODEL"
   ]
  },
  {
   "cell_type": "code",
   "execution_count": 16,
   "metadata": {},
   "outputs": [
    {
     "name": "stdout",
     "output_type": "stream",
     "text": [
      "Model: \"sequential_1\"\n",
      "_________________________________________________________________\n",
      "Layer (type)                 Output Shape              Param #   \n",
      "=================================================================\n",
      "inception_v3 (Functional)    (None, 2048)              21802784  \n",
      "_________________________________________________________________\n",
      "flatten_1 (Flatten)          (None, 2048)              0         \n",
      "_________________________________________________________________\n",
      "dropout_1 (Dropout)          (None, 2048)              0         \n",
      "_________________________________________________________________\n",
      "dense_7 (Dense)              (None, 506)               1036794   \n",
      "_________________________________________________________________\n",
      "dense_8 (Dense)              (None, 128)               64896     \n",
      "_________________________________________________________________\n",
      "dense_9 (Dense)              (None, 64)                8256      \n",
      "_________________________________________________________________\n",
      "dense_10 (Dense)             (None, 32)                2080      \n",
      "_________________________________________________________________\n",
      "dense_11 (Dense)             (None, 16)                528       \n",
      "_________________________________________________________________\n",
      "dense_12 (Dense)             (None, 8)                 136       \n",
      "_________________________________________________________________\n",
      "dense_13 (Dense)             (None, 4)                 36        \n",
      "=================================================================\n",
      "Total params: 22,915,510\n",
      "Trainable params: 22,881,078\n",
      "Non-trainable params: 34,432\n",
      "_________________________________________________________________\n"
     ]
    }
   ],
   "source": [
    "#unfreezing the pretrained layers\n",
    "model.layers[0].trainable = True\n",
    "model.summary()"
   ]
  },
  {
   "cell_type": "code",
   "execution_count": 17,
   "metadata": {},
   "outputs": [],
   "source": [
    "#compliling the model\n",
    "model.compile(optimizer=keras.optimizers.Adam(learning_rate = best_hps.get('learning_rate')),\n",
    "              loss=keras.losses.CategoricalCrossentropy(from_logits=True),\n",
    "              metrics=[['acc'], tf.keras.metrics.AUC(), tf.keras.metrics.Precision(), tf.keras.metrics.Recall()]) "
   ]
  },
  {
   "cell_type": "code",
   "execution_count": 18,
   "metadata": {
    "scrolled": true
   },
   "outputs": [
    {
     "name": "stdout",
     "output_type": "stream",
     "text": [
      "Epoch 1/30\n",
      "182/182 [==============================] - 43s 181ms/step - loss: 1.2104 - acc: 0.5705 - auc_2: 0.8471 - precision_2: 0.6960 - recall_2: 0.3668 - val_loss: 1.2636 - val_acc: 0.4960 - val_auc_2: 0.8085 - val_precision_2: 0.5491 - val_recall_2: 0.3358\n",
      "Epoch 2/30\n",
      "182/182 [==============================] - 29s 156ms/step - loss: 0.9616 - acc: 0.7011 - auc_2: 0.9151 - precision_2: 0.7650 - recall_2: 0.6089 - val_loss: 1.2087 - val_acc: 0.6359 - val_auc_2: 0.8831 - val_precision_2: 0.6623 - val_recall_2: 0.6008\n",
      "Epoch 3/30\n",
      "182/182 [==============================] - 29s 159ms/step - loss: 0.7221 - acc: 0.8167 - auc_2: 0.9595 - precision_2: 0.8448 - recall_2: 0.7874 - val_loss: 0.6920 - val_acc: 0.8154 - val_auc_2: 0.9647 - val_precision_2: 0.8254 - val_recall_2: 0.8029\n",
      "Epoch 4/30\n",
      "182/182 [==============================] - 28s 155ms/step - loss: 0.5339 - acc: 0.8835 - auc_2: 0.9819 - precision_2: 0.8977 - recall_2: 0.8702 - val_loss: 0.4367 - val_acc: 0.9162 - val_auc_2: 0.9907 - val_precision_2: 0.9286 - val_recall_2: 0.9054\n",
      "Epoch 5/30\n",
      "182/182 [==============================] - 28s 155ms/step - loss: 0.4142 - acc: 0.9201 - auc_2: 0.9909 - precision_2: 0.9293 - recall_2: 0.9121 - val_loss: 0.3720 - val_acc: 0.9394 - val_auc_2: 0.9918 - val_precision_2: 0.9412 - val_recall_2: 0.9337\n",
      "Epoch 6/30\n",
      "182/182 [==============================] - 31s 171ms/step - loss: 0.3422 - acc: 0.9413 - auc_2: 0.9945 - precision_2: 0.9458 - recall_2: 0.9372 - val_loss: 0.7816 - val_acc: 0.7911 - val_auc_2: 0.9496 - val_precision_2: 0.7961 - val_recall_2: 0.7848\n",
      "Epoch 7/30\n",
      "182/182 [==============================] - 38s 210ms/step - loss: 0.2941 - acc: 0.9519 - auc_2: 0.9962 - precision_2: 0.9553 - recall_2: 0.9494 - val_loss: 0.2498 - val_acc: 0.9672 - val_auc_2: 0.9978 - val_precision_2: 0.9693 - val_recall_2: 0.9655\n",
      "Epoch 8/30\n",
      "182/182 [==============================] - 35s 193ms/step - loss: 0.2520 - acc: 0.9639 - auc_2: 0.9972 - precision_2: 0.9652 - recall_2: 0.9620 - val_loss: 0.1953 - val_acc: 0.9824 - val_auc_2: 0.9990 - val_precision_2: 0.9835 - val_recall_2: 0.9807\n",
      "Epoch 9/30\n",
      "182/182 [==============================] - 33s 179ms/step - loss: 0.2113 - acc: 0.9711 - auc_2: 0.9982 - precision_2: 0.9724 - recall_2: 0.9692 - val_loss: 0.1822 - val_acc: 0.9785 - val_auc_2: 0.9988 - val_precision_2: 0.9785 - val_recall_2: 0.9779\n",
      "Epoch 10/30\n",
      "182/182 [==============================] - 33s 179ms/step - loss: 0.1941 - acc: 0.9737 - auc_2: 0.9978 - precision_2: 0.9746 - recall_2: 0.9725 - val_loss: 0.2318 - val_acc: 0.9570 - val_auc_2: 0.9968 - val_precision_2: 0.9585 - val_recall_2: 0.9553\n",
      "Epoch 11/30\n",
      "182/182 [==============================] - 32s 177ms/step - loss: 0.1728 - acc: 0.9769 - auc_2: 0.9985 - precision_2: 0.9776 - recall_2: 0.9755 - val_loss: 0.1639 - val_acc: 0.9779 - val_auc_2: 0.9992 - val_precision_2: 0.9790 - val_recall_2: 0.9773\n",
      "Epoch 12/30\n",
      "182/182 [==============================] - 33s 179ms/step - loss: 0.1660 - acc: 0.9761 - auc_2: 0.9986 - precision_2: 0.9777 - recall_2: 0.9752 - val_loss: 0.1327 - val_acc: 0.9864 - val_auc_2: 0.9992 - val_precision_2: 0.9881 - val_recall_2: 0.9858\n",
      "Epoch 13/30\n",
      "182/182 [==============================] - 33s 182ms/step - loss: 0.1508 - acc: 0.9757 - auc_2: 0.9988 - precision_2: 0.9774 - recall_2: 0.9747 - val_loss: 0.1310 - val_acc: 0.9779 - val_auc_2: 0.9995 - val_precision_2: 0.9801 - val_recall_2: 0.9768\n",
      "Epoch 14/30\n",
      "182/182 [==============================] - 33s 180ms/step - loss: 0.1062 - acc: 0.9909 - auc_2: 0.9995 - precision_2: 0.9909 - recall_2: 0.9903 - val_loss: 0.1006 - val_acc: 0.9898 - val_auc_2: 0.9991 - val_precision_2: 0.9904 - val_recall_2: 0.9898\n",
      "Epoch 15/30\n",
      "182/182 [==============================] - 32s 175ms/step - loss: 0.1185 - acc: 0.9843 - auc_2: 0.9987 - precision_2: 0.9849 - recall_2: 0.9839 - val_loss: 0.1270 - val_acc: 0.9830 - val_auc_2: 0.9979 - val_precision_2: 0.9830 - val_recall_2: 0.9830\n",
      "Epoch 16/30\n",
      "182/182 [==============================] - 31s 172ms/step - loss: 0.1045 - acc: 0.9855 - auc_2: 0.9992 - precision_2: 0.9856 - recall_2: 0.9848 - val_loss: 0.0949 - val_acc: 0.9881 - val_auc_2: 0.9994 - val_precision_2: 0.9881 - val_recall_2: 0.9875\n",
      "Epoch 17/30\n",
      "182/182 [==============================] - 31s 172ms/step - loss: 0.0995 - acc: 0.9850 - auc_2: 0.9992 - precision_2: 0.9858 - recall_2: 0.9839 - val_loss: 0.1059 - val_acc: 0.9813 - val_auc_2: 0.9984 - val_precision_2: 0.9813 - val_recall_2: 0.9807\n",
      "Epoch 18/30\n",
      "182/182 [==============================] - 32s 172ms/step - loss: 0.0944 - acc: 0.9860 - auc_2: 0.9992 - precision_2: 0.9868 - recall_2: 0.9853 - val_loss: 0.0776 - val_acc: 0.9881 - val_auc_2: 0.9998 - val_precision_2: 0.9892 - val_recall_2: 0.9870\n",
      "Epoch 19/30\n",
      "182/182 [==============================] - 32s 172ms/step - loss: 0.0871 - acc: 0.9853 - auc_2: 0.9995 - precision_2: 0.9858 - recall_2: 0.9844 - val_loss: 0.1019 - val_acc: 0.9785 - val_auc_2: 0.9983 - val_precision_2: 0.9785 - val_recall_2: 0.9785\n",
      "Epoch 20/30\n",
      "182/182 [==============================] - 32s 175ms/step - loss: 0.0757 - acc: 0.9870 - auc_2: 0.9997 - precision_2: 0.9877 - recall_2: 0.9867 - val_loss: 0.0786 - val_acc: 0.9881 - val_auc_2: 0.9984 - val_precision_2: 0.9881 - val_recall_2: 0.9870\n",
      "Epoch 21/30\n",
      "182/182 [==============================] - 32s 173ms/step - loss: 0.0764 - acc: 0.9860 - auc_2: 0.9996 - precision_2: 0.9861 - recall_2: 0.9855 - val_loss: 0.1041 - val_acc: 0.9757 - val_auc_2: 0.9981 - val_precision_2: 0.9762 - val_recall_2: 0.9751\n",
      "Epoch 22/30\n",
      "182/182 [==============================] - 31s 171ms/step - loss: 0.0760 - acc: 0.9855 - auc_2: 0.9994 - precision_2: 0.9863 - recall_2: 0.9850 - val_loss: 0.0650 - val_acc: 0.9887 - val_auc_2: 0.9995 - val_precision_2: 0.9892 - val_recall_2: 0.9887\n",
      "Epoch 23/30\n",
      "182/182 [==============================] - 34s 187ms/step - loss: 0.0764 - acc: 0.9870 - auc_2: 0.9988 - precision_2: 0.9878 - recall_2: 0.9865 - val_loss: 0.0907 - val_acc: 0.9802 - val_auc_2: 0.9993 - val_precision_2: 0.9824 - val_recall_2: 0.9779\n",
      "Epoch 24/30\n",
      "182/182 [==============================] - 36s 199ms/step - loss: 0.0576 - acc: 0.9916 - auc_2: 0.9995 - precision_2: 0.9918 - recall_2: 0.9913 - val_loss: 0.0549 - val_acc: 0.9915 - val_auc_2: 0.9995 - val_precision_2: 0.9926 - val_recall_2: 0.9909\n",
      "Epoch 25/30\n",
      "182/182 [==============================] - 32s 173ms/step - loss: 0.0485 - acc: 0.9938 - auc_2: 0.9997 - precision_2: 0.9940 - recall_2: 0.9937 - val_loss: 0.0432 - val_acc: 0.9955 - val_auc_2: 0.9996 - val_precision_2: 0.9955 - val_recall_2: 0.9955\n",
      "Epoch 26/30\n",
      "182/182 [==============================] - 32s 174ms/step - loss: 0.0606 - acc: 0.9868 - auc_2: 0.9994 - precision_2: 0.9877 - recall_2: 0.9858 - val_loss: 0.0523 - val_acc: 0.9915 - val_auc_2: 0.9995 - val_precision_2: 0.9915 - val_recall_2: 0.9915\n",
      "Epoch 27/30\n",
      "182/182 [==============================] - 32s 173ms/step - loss: 0.0563 - acc: 0.9901 - auc_2: 0.9995 - precision_2: 0.9909 - recall_2: 0.9901 - val_loss: 0.0645 - val_acc: 0.9892 - val_auc_2: 0.9990 - val_precision_2: 0.9898 - val_recall_2: 0.9887\n",
      "Epoch 28/30\n",
      "182/182 [==============================] - 31s 172ms/step - loss: 0.0505 - acc: 0.9908 - auc_2: 0.9997 - precision_2: 0.9913 - recall_2: 0.9906 - val_loss: 0.0387 - val_acc: 0.9932 - val_auc_2: 0.9999 - val_precision_2: 0.9943 - val_recall_2: 0.9926\n",
      "Epoch 29/30\n",
      "182/182 [==============================] - 32s 174ms/step - loss: 0.0573 - acc: 0.9884 - auc_2: 0.9992 - precision_2: 0.9887 - recall_2: 0.9880 - val_loss: 0.0713 - val_acc: 0.9830 - val_auc_2: 0.9994 - val_precision_2: 0.9847 - val_recall_2: 0.9824\n",
      "Epoch 30/30\n",
      "182/182 [==============================] - 32s 173ms/step - loss: 0.0549 - acc: 0.9897 - auc_2: 0.9991 - precision_2: 0.9901 - recall_2: 0.9896 - val_loss: 0.0450 - val_acc: 0.9926 - val_auc_2: 0.9996 - val_precision_2: 0.9938 - val_recall_2: 0.9926\n"
     ]
    }
   ],
   "source": [
    "#training the model\n",
    "history = model.fit(train_generator, \n",
    "      steps_per_epoch=train_generator.samples/train_generator.batch_size,\n",
    "      epochs=30, \n",
    "      validation_data=validation_generator, \n",
    "      validation_steps=validation_generator.samples/validation_generator.batch_size,\n",
    "      verbose=1)  "
   ]
  },
  {
   "cell_type": "markdown",
   "metadata": {
    "id": "-YZeZC_qqazZ"
   },
   "source": [
    "SAVING THE MODEL AND ITS WEIGHTS AFTER HYPERPARAMETER TUNING"
   ]
  },
  {
   "cell_type": "code",
   "execution_count": 19,
   "metadata": {
    "id": "ldwQxrwPrWvW"
   },
   "outputs": [
    {
     "name": "stdout",
     "output_type": "stream",
     "text": [
      "INFO:tensorflow:Assets written to: \\Users\\vvsat\\Documents\\machine learning\\Alzheimer_s\\models\\save\\InceptionV3_after_hpt\\assets\n"
     ]
    }
   ],
   "source": [
    "#saving the model in both hdf5 and normal format\n",
    "model.save('\\\\Users\\\\vvsat\\\\Documents\\\\machine learning\\\\Alzheimer_s\\\\models\\\\save\\\\InceptionV3_after_hpt')   "
   ]
  },
  {
   "cell_type": "code",
   "execution_count": 20,
   "metadata": {
    "id": "lU3_Py4Tqazj"
   },
   "outputs": [],
   "source": [
    "#saving the model in both hdf5 and normal format\n",
    "model.save('model_after_hpt_InceptionV3.h5')   "
   ]
  },
  {
   "cell_type": "code",
   "execution_count": 21,
   "metadata": {
    "id": "VkcD3i33sLKh",
    "scrolled": false
   },
   "outputs": [],
   "source": [
    "#loading the model\n",
    "#model = keras.models.load_model('model_after_hpt_resnet50.h5') "
   ]
  },
  {
   "cell_type": "markdown",
   "metadata": {
    "id": "V8v_lEvcHpSr"
   },
   "source": [
    "PLOTTING THE GRAPHS"
   ]
  },
  {
   "cell_type": "code",
   "execution_count": 22,
   "metadata": {
    "id": "3oKDhC-QmvFE"
   },
   "outputs": [],
   "source": [
    "train_acc = history.history['acc'] \n",
    "val_acc = history.history['val_acc']\n",
    "train_loss = history.history['loss'] \n",
    "val_loss = history.history['val_loss'] \n",
    "train_precision = history.history['precision_2'] \n",
    "val_precision = history.history['val_precision_2'] \n",
    "train_recall = history.history['recall_2']\n",
    "val_recall = history.history['val_recall_2']\n",
    "train_auc = history.history['auc_2']\n",
    "val_auc = history.history['val_auc_2'] "
   ]
  },
  {
   "cell_type": "code",
   "execution_count": 23,
   "metadata": {
    "id": "-My1lI9qmvF6"
   },
   "outputs": [
    {
     "data": {
      "image/png": "[encoded data removed]",
      "text/plain": [
       "<Figure size 432x288 with 1 Axes>"
      ]
     },
     "metadata": {
      "needs_background": "light"
     },
     "output_type": "display_data"
    },
    {
     "data": {
      "text/plain": [
       "<Figure size 432x288 with 0 Axes>"
      ]
     },
     "metadata": {},
     "output_type": "display_data"
    },
    {
     "data": {
      "image/png": "[encoded data removed]",
      "text/plain": [
       "<Figure size 432x288 with 1 Axes>"
      ]
     },
     "metadata": {
      "needs_background": "light"
     },
     "output_type": "display_data"
    },
    {
     "data": {
      "image/png": "[encoded data removed]",
      "text/plain": [
       "<Figure size 432x288 with 1 Axes>"
      ]
     },
     "metadata": {
      "needs_background": "light"
     },
     "output_type": "display_data"
    },
    {
     "data": {
      "image/png": "[encoded data removed]",
      "text/plain": [
       "<Figure size 432x288 with 1 Axes>"
      ]
     },
     "metadata": {
      "needs_background": "light"
     },
     "output_type": "display_data"
    },
    {
     "data": {
      "image/png": "[encoded data removed]",
      "text/plain": [
       "<Figure size 432x288 with 1 Axes>"
      ]
     },
     "metadata": {
      "needs_background": "light"
     },
     "output_type": "display_data"
    }
   ],
   "source": [
    "epochs = range(len(train_acc)) \n",
    "plt.plot(epochs, train_acc, 'b', label='Training Accuracy')\n",
    "plt.plot(epochs, val_acc, 'r', label='Validation Accuracy')\n",
    "plt.title('Training and Validation Accuracy')\n",
    "plt.legend()\n",
    "plt.figure()\n",
    "plt.show()\n",
    "\n",
    "plt.plot(epochs, train_loss, 'b', label='Training Loss')\n",
    "plt.plot(epochs, val_loss, 'r', label='Validation Loss')\n",
    "plt.title('Training and Validation Loss')\n",
    "plt.legend()\n",
    "plt.show()\n",
    "\n",
    "plt.plot(epochs, train_precision, 'b', label='training precision')\n",
    "plt.plot(epochs, val_precision, 'r', label='valid precision')\n",
    "plt.title('Training and Validation precision')\n",
    "plt.legend()\n",
    "plt.show()\n",
    "\n",
    "plt.plot(epochs, train_recall, 'b', label='training recall')\n",
    "plt.plot(epochs, val_recall, 'r', label='valid recall')\n",
    "plt.title('Training and Validation recall')\n",
    "plt.legend()\n",
    "plt.show() \n",
    "\n",
    "plt.plot(epochs, train_auc, 'b', label='training auc')\n",
    "plt.plot(epochs, val_auc, 'r', label='valid auc')\n",
    "plt.title('Training and Validation auc curve')\n",
    "plt.legend()\n",
    "plt.show()"
   ]
  },
  {
   "cell_type": "markdown",
   "metadata": {
    "id": "CmGyOuglHnA5"
   },
   "source": [
    "TESTING THE MODEL"
   ]
  },
  {
   "cell_type": "code",
   "execution_count": 24,
   "metadata": {},
   "outputs": [
    {
     "name": "stderr",
     "output_type": "stream",
     "text": [
      "C:\\Users\\vvsat\\anaconda3\\envs\\tf-gpu\\lib\\site-packages\\keras_preprocessing\\image\\image_data_generator.py:720: UserWarning: This ImageDataGenerator specifies `featurewise_center`, but it hasn't been fit on any training data. Fit it first by calling `.fit(numpy_data)`.\n",
      "  warnings.warn('This ImageDataGenerator specifies '\n",
      "C:\\Users\\vvsat\\anaconda3\\envs\\tf-gpu\\lib\\site-packages\\keras_preprocessing\\image\\image_data_generator.py:728: UserWarning: This ImageDataGenerator specifies `featurewise_std_normalization`, but it hasn't been fit on any training data. Fit it first by calling `.fit(numpy_data)`.\n",
      "  warnings.warn('This ImageDataGenerator specifies '\n"
     ]
    },
    {
     "name": "stdout",
     "output_type": "stream",
     "text": [
      "56/56 [==============================] - 7s 126ms/step - loss: 0.0471 - acc: 0.9910 - auc_2: 0.9998 - precision_2: 0.9910 - recall_2: 0.9905\n",
      "[test loss, test accuracy]: [0.04707600548863411, 0.9910464286804199, 0.9998472332954407, 0.9910414218902588, 0.9904868602752686]\n"
     ]
    }
   ],
   "source": [
    "#testing the hypermodel on the test dataset\n",
    "eval_result = model.evaluate(test_generator)\n",
    "print(\"[test loss, test accuracy]:\", eval_result)  "
   ]
  },
  {
   "cell_type": "markdown",
   "metadata": {
    "id": "ZPQETN8jW-CS"
   },
   "source": [
    "CLASSIFICATION REPORTS AND CONFUSION MATRIX"
   ]
  },
  {
   "cell_type": "code",
   "execution_count": 25,
   "metadata": {},
   "outputs": [],
   "source": [
    "from sklearn.metrics import confusion_matrix, classification_report"
   ]
  },
  {
   "cell_type": "code",
   "execution_count": 26,
   "metadata": {},
   "outputs": [],
   "source": [
    "#Confution Matrix and Classification Report\n",
    "batch_size = 32\n",
    "#developing the predictions for the test dataset\n",
    "Y_pred = model.predict(test_generator, test_generator.samples // batch_size+1)\n",
    "y_pred = np.argmax(Y_pred, axis=1) "
   ]
  },
  {
   "cell_type": "code",
   "execution_count": 27,
   "metadata": {},
   "outputs": [
    {
     "data": {
      "text/plain": [
       "<AxesSubplot:>"
      ]
     },
     "execution_count": 27,
     "metadata": {},
     "output_type": "execute_result"
    },
    {
     "data": {
      "image/png": "[encoded data removed]",
      "text/plain": [
       "<Figure size 1080x720 with 2 Axes>"
      ]
     },
     "metadata": {
      "needs_background": "light"
     },
     "output_type": "display_data"
    }
   ],
   "source": [
    "#displaying the confusion matrix\n",
    "cf_matrix = confusion_matrix(test_generator.classes, y_pred)\n",
    "fig, ax = plt.subplots(figsize=(15,10)) \n",
    "sns.heatmap(cf_matrix, linewidths=1, annot=True, ax=ax, fmt='g') "
   ]
  },
  {
   "cell_type": "code",
   "execution_count": 28,
   "metadata": {},
   "outputs": [
    {
     "name": "stdout",
     "output_type": "stream",
     "text": [
      "Classification Report\n",
      "                  precision    recall  f1-score   support\n",
      "\n",
      "    MildDemented       0.98      1.00      0.99       254\n",
      "ModerateDemented       1.00      1.00      1.00        22\n",
      "     NonDemented       1.00      0.99      0.99       889\n",
      "VeryMildDemented       0.99      0.99      0.99       622\n",
      "\n",
      "        accuracy                           0.99      1787\n",
      "       macro avg       0.99      0.99      0.99      1787\n",
      "    weighted avg       0.99      0.99      0.99      1787\n",
      "\n"
     ]
    }
   ],
   "source": [
    "#Classification Report\n",
    "print('Classification Report') \n",
    "target_names = disease_cls\n",
    "print(classification_report(test_generator.classes, y_pred, target_names=target_names)) "
   ]
  },
  {
   "cell_type": "code",
   "execution_count": 29,
   "metadata": {},
   "outputs": [],
   "source": [
    "#tf.keras.models.save_model(model, \"\\\\Users\\\\vvsat\\\\Documents\\\\machine learning\\\\Alzheimer_s\\\\models\")"
   ]
  }
 ],
 "metadata": {
  "accelerator": "GPU",
  "colab": {
   "authorship_tag": "ABX9TyOY6ZEJhB2lP0ZoEQ73k5KI",
   "collapsed_sections": [],
   "name": "alzheimer classifier resnet50.ipynb",
   "provenance": []
  },
  "kernelspec": {
   "display_name": "Python 3 (ipykernel)",
   "language": "python",
   "name": "python3"
  },
  "language_info": {
   "codemirror_mode": {
    "name": "ipython",
    "version": 3
   },
   "file_extension": ".py",
   "mimetype": "text/x-python",
   "name": "python",
   "nbconvert_exporter": "python",
   "pygments_lexer": "ipython3",
   "version": "3.9.7"
  }
 },
 "nbformat": 4,
 "nbformat_minor": 1
}
