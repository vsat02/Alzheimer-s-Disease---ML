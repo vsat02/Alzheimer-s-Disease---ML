{
 "cells": [
  {
   "cell_type": "code",
   "execution_count": 1,
   "metadata": {
    "executionInfo": {
     "elapsed": 3113,
     "status": "ok",
     "timestamp": 1635811753910,
     "user": {
      "displayName": "Sathyanarayanan Vasudevan",
      "photoUrl": "https://lh3.googleusercontent.com/a/default-user=s64",
      "userId": "18152865855978230831"
     },
     "user_tz": -330
    },
    "id": "SWhX3w0JK0w7"
   },
   "outputs": [],
   "source": [
    "#importing the required packages\n",
    "import tensorflow as tf\n",
    "from tensorflow.keras.optimizers import Adam \n",
    "from tensorflow import keras\n",
    "from tensorflow.keras import layers\n",
    "import os \n",
    "import numpy as np\n",
    "from matplotlib import pyplot as plt  \n",
    "import seaborn as sns"
   ]
  },
  {
   "cell_type": "code",
   "execution_count": 2,
   "metadata": {
    "executionInfo": {
     "elapsed": 17,
     "status": "ok",
     "timestamp": 1635811753912,
     "user": {
      "displayName": "Sathyanarayanan Vasudevan",
      "photoUrl": "https://lh3.googleusercontent.com/a/default-user=s64",
      "userId": "18152865855978230831"
     },
     "user_tz": -330
    },
    "id": "QnTEvwDQMMxw"
   },
   "outputs": [],
   "source": [
    "#specifying the path \n",
    "DATASET_PATH = \"\\\\Users\\\\vvsat\\\\Documents\\\\machine learning\\\\Alzheimer_s\\\\Dataset\"  "
   ]
  },
  {
   "cell_type": "code",
   "execution_count": 3,
   "metadata": {
    "executionInfo": {
     "elapsed": 20,
     "status": "ok",
     "timestamp": 1635811753914,
     "user": {
      "displayName": "Sathyanarayanan Vasudevan",
      "photoUrl": "https://lh3.googleusercontent.com/a/default-user=s64",
      "userId": "18152865855978230831"
     },
     "user_tz": -330
    },
    "id": "u1lbLmEdMsTC"
   },
   "outputs": [],
   "source": [
    "#defining the classes of the dataset \n",
    "disease_cls = ['MildDemented','ModerateDemented','NonDemented','VeryMildDemented']  "
   ]
  },
  {
   "cell_type": "markdown",
   "metadata": {
    "id": "PWqoikd4YUP7"
   },
   "source": [
    "SPLITTTING THE IMAGES INTO TRAIN, TEST AND VALID DATASETS"
   ]
  },
  {
   "cell_type": "code",
   "execution_count": 4,
   "metadata": {
    "colab": {
     "base_uri": "https://localhost:8080/"
    },
    "executionInfo": {
     "elapsed": 18870,
     "status": "ok",
     "timestamp": 1635811775274,
     "user": {
      "displayName": "Sathyanarayanan Vasudevan",
      "photoUrl": "https://lh3.googleusercontent.com/a/default-user=s64",
      "userId": "18152865855978230831"
     },
     "user_tz": -330
    },
    "id": "8xXGHVOIlheA",
    "outputId": "ba9061b6-8e28-49c3-d622-4fe5b2a955f8"
   },
   "outputs": [],
   "source": [
    "#splitting the images into train, test and valid datasets with 70, 15 and 15 percentage weightage\n",
    "import splitfolders \n",
    "splitfolders.ratio(DATASET_PATH, output=\"split\", seed=1, ratio=(.7, .15, .15), group_prefix=None)  "
   ]
  },
  {
   "cell_type": "markdown",
   "metadata": {
    "id": "6hqNNOjeQ_46"
   },
   "source": [
    "IMAGE DATA PREPROCESSING"
   ]
  },
  {
   "cell_type": "code",
   "execution_count": 5,
   "metadata": {
    "executionInfo": {
     "elapsed": 11,
     "status": "ok",
     "timestamp": 1635811775277,
     "user": {
      "displayName": "Sathyanarayanan Vasudevan",
      "photoUrl": "https://lh3.googleusercontent.com/a/default-user=s64",
      "userId": "18152865855978230831"
     },
     "user_tz": -330
    },
    "id": "2XANDdVKUSjB"
   },
   "outputs": [],
   "source": [
    "#importing the required packages \n",
    "from tensorflow.keras.preprocessing.image import ImageDataGenerator  "
   ]
  },
  {
   "cell_type": "code",
   "execution_count": 6,
   "metadata": {
    "colab": {
     "base_uri": "https://localhost:8080/"
    },
    "executionInfo": {
     "elapsed": 579,
     "status": "ok",
     "timestamp": 1635811775846,
     "user": {
      "displayName": "Sathyanarayanan Vasudevan",
      "photoUrl": "https://lh3.googleusercontent.com/a/default-user=s64",
      "userId": "18152865855978230831"
     },
     "user_tz": -330
    },
    "id": "25OOia7FUd2m",
    "outputId": "26c4444e-2746-44d0-e6f1-ba84c476d108"
   },
   "outputs": [
    {
     "name": "stderr",
     "output_type": "stream",
     "text": [
      "C:\\Users\\vvsat\\anaconda3\\envs\\tf-gpu\\lib\\site-packages\\keras_preprocessing\\image\\image_data_generator.py:349: UserWarning: This ImageDataGenerator specifies `featurewise_std_normalization`, which overrides setting of `featurewise_center`.\n",
      "  warnings.warn('This ImageDataGenerator specifies '\n",
      "C:\\Users\\vvsat\\anaconda3\\envs\\tf-gpu\\lib\\site-packages\\keras_preprocessing\\image\\image_data_generator.py:356: UserWarning: This ImageDataGenerator specifies `samplewise_std_normalization`, which overrides setting of `samplewise_center`.\n",
      "  warnings.warn('This ImageDataGenerator specifies '\n"
     ]
    },
    {
     "name": "stdout",
     "output_type": "stream",
     "text": [
      "Found 5848 images belonging to 4 classes.\n",
      "Found 1766 images belonging to 4 classes.\n",
      "Found 1787 images belonging to 4 classes.\n"
     ]
    }
   ],
   "source": [
    "#applying the neccessary preprocessing required for this data\n",
    "train_datagen = ImageDataGenerator(rescale=1./255, \n",
    "                                   featurewise_std_normalization=True,\n",
    "                                   samplewise_std_normalization=True,\n",
    "                                   brightness_range=[0.3,0.5],\n",
    "                                   zoom_range = 0.05, \n",
    "                                   horizontal_flip = True) \n",
    "\n",
    "validation_datagen = ImageDataGenerator(rescale=1./255, \n",
    "                                        featurewise_std_normalization=True,\n",
    "                                        samplewise_std_normalization=True,\n",
    "                                        brightness_range=[0.3,0.5],\n",
    "                                        zoom_range = 0.05, \n",
    "                                        horizontal_flip = True)\n",
    "\n",
    "test_datagen = ImageDataGenerator(rescale=1./255,\n",
    "                                  featurewise_std_normalization=True,\n",
    "                                  samplewise_std_normalization=True,\n",
    "                                  brightness_range=[0.3,0.5],\n",
    "                                  zoom_range = 0.05, \n",
    "                                  horizontal_flip = True)\n",
    "\n",
    "\n",
    "# Read the training sample and set the batch size \n",
    "train_generator = train_datagen.flow_from_directory(\n",
    "        'split/train/',\n",
    "        target_size=(128, 128),\n",
    "        batch_size=32,\n",
    "        seed=100,\n",
    "        class_mode='categorical')\n",
    "\n",
    "# Read Validation data from directory and define target size with batch size\n",
    "validation_generator = validation_datagen.flow_from_directory(\n",
    "        'split/val/',\n",
    "        target_size=(128, 128),\n",
    "        batch_size=32,\n",
    "        class_mode='categorical',\n",
    "        seed=500, \n",
    "        shuffle=False)\n",
    "\n",
    "# Read test data from directory and define target size with batch size\n",
    "test_generator = test_datagen.flow_from_directory(\n",
    "        'split/test/',\n",
    "        target_size=(128, 128),\n",
    "        batch_size=32,\n",
    "        seed=1000,\n",
    "        class_mode='categorical',\n",
    "        shuffle=False)  "
   ]
  },
  {
   "cell_type": "markdown",
   "metadata": {
    "id": "ITEQZMJHfqbO"
   },
   "source": [
    "MODEL BUILDING"
   ]
  },
  {
   "cell_type": "markdown",
   "metadata": {
    "id": "YLMHOGGjDDYc"
   },
   "source": [
    "HYPERPARAMETER TUNING"
   ]
  },
  {
   "cell_type": "code",
   "execution_count": 7,
   "metadata": {
    "id": "tBHn5wKsd1Y5"
   },
   "outputs": [],
   "source": [
    "#importing the required packages\n",
    "from tensorflow.keras.models import Sequential \n",
    "from tensorflow.keras import regularizers \n",
    "from tensorflow.keras.applications.mobilenet_v2 import MobileNetV2\n",
    "from tensorflow.keras.layers import Dense, Flatten, GlobalAveragePooling2D,BatchNormalization,Dropout,Conv2D,MaxPool2D      "
   ]
  },
  {
   "cell_type": "markdown",
   "metadata": {},
   "source": [
    "FREEZING THE MODEL"
   ]
  },
  {
   "cell_type": "code",
   "execution_count": 8,
   "metadata": {
    "id": "fMPvu-5Md1Y7"
   },
   "outputs": [],
   "source": [
    "#defining a function with all the hyperparameters for tuning  \n",
    "def model_builder(hp):    \n",
    "    #defining the hyperparameters units, dropout, lr and weight decay\n",
    "    hp_units = hp.Int('units', min_value=256, max_value=512, step=10)\n",
    "    hp_dropout = hp.Choice('drop_out', values=[0.2, 0.3, 0.5, 0.7, 0.8]) \n",
    "    hp_learning_rate = hp.Choice('learning_rate', values=[0.0001, 0.001, 0.01, 0.05, 0.1])\n",
    "    hp_weight_decay = hp.Choice('weight_decay', values=[0.0001, 0.001, 0.01, 0.05, 0.1])   \n",
    "    hp_weight_decay_2 = hp.Choice('weight_decay_2', values=[0.0001, 0.001, 0.01, 0.05, 0.1])  \n",
    "    # building a sequential model \n",
    "    model = Sequential()  \n",
    "    model.add(MobileNetV2(include_top=False,input_tensor=None,input_shape=(128,128,3),\n",
    "                     pooling='avg',classes=4,weights='imagenet'))     \n",
    "    #freezing the pretrained layers\n",
    "    model.layers[0].trainable = False    \n",
    "    model.add(Flatten())  \n",
    "    model.add(Dropout(rate = hp_dropout))   \n",
    "    #fully connected layers\n",
    "    model.add(Dense(units = hp_units, activation='relu', kernel_regularizer=regularizers.l2(l2 = hp_weight_decay)))\n",
    "    model.add(Dense(128, activation='relu'))\n",
    "    model.add(Dense(64))\n",
    "    model.add(Dense(32, kernel_regularizer=regularizers.l2(l2 = hp_weight_decay_2)))\n",
    "    model.add(Dense(16, activation='relu'))\n",
    "    model.add(Dense(8))\n",
    "    model.add(Dense(4, activation='softmax'))\n",
    "    model.summary()  \n",
    "    \n",
    "                                     \n",
    "    model.compile(optimizer=keras.optimizers.Adam(learning_rate = hp_learning_rate),\n",
    "                  loss=keras.losses.CategoricalCrossentropy(from_logits=True),\n",
    "                  metrics=[['acc'], tf.keras.metrics.AUC(), tf.keras.metrics.Precision(), tf.keras.metrics.Recall()]) \n",
    "\n",
    "    return model   "
   ]
  },
  {
   "cell_type": "code",
   "execution_count": 9,
   "metadata": {
    "id": "ax5iRSAhXJ_I"
   },
   "outputs": [],
   "source": [
    "import keras_tuner as kt "
   ]
  },
  {
   "cell_type": "code",
   "execution_count": 10,
   "metadata": {
    "id": "zY475JOiW76I"
   },
   "outputs": [
    {
     "name": "stdout",
     "output_type": "stream",
     "text": [
      "Model: \"sequential\"\n",
      "_________________________________________________________________\n",
      "Layer (type)                 Output Shape              Param #   \n",
      "=================================================================\n",
      "mobilenetv2_1.00_128 (Functi (None, 1280)              2257984   \n",
      "_________________________________________________________________\n",
      "flatten (Flatten)            (None, 1280)              0         \n",
      "_________________________________________________________________\n",
      "dropout (Dropout)            (None, 1280)              0         \n",
      "_________________________________________________________________\n",
      "dense (Dense)                (None, 256)               327936    \n",
      "_________________________________________________________________\n",
      "dense_1 (Dense)              (None, 128)               32896     \n",
      "_________________________________________________________________\n",
      "dense_2 (Dense)              (None, 64)                8256      \n",
      "_________________________________________________________________\n",
      "dense_3 (Dense)              (None, 32)                2080      \n",
      "_________________________________________________________________\n",
      "dense_4 (Dense)              (None, 16)                528       \n",
      "_________________________________________________________________\n",
      "dense_5 (Dense)              (None, 8)                 136       \n",
      "_________________________________________________________________\n",
      "dense_6 (Dense)              (None, 4)                 36        \n",
      "=================================================================\n",
      "Total params: 2,629,852\n",
      "Trainable params: 371,868\n",
      "Non-trainable params: 2,257,984\n",
      "_________________________________________________________________\n"
     ]
    }
   ],
   "source": [
    "#creating a hyperband tuner using keras tuner \n",
    "tuner = kt.Hyperband(model_builder, \n",
    "                     objective='acc', \n",
    "                     max_epochs=10, \n",
    "                     hyperband_iterations=10,        \n",
    "                     factor=50,\n",
    "                     directory='alzheimer_mobilenet_V2',\n",
    "                     project_name='intro_to_kt')    "
   ]
  },
  {
   "cell_type": "code",
   "execution_count": 11,
   "metadata": {
    "id": "0P8Ct8VZXL-B"
   },
   "outputs": [],
   "source": [
    "#early stopping callback to stop the model when the loss shoots up \n",
    "stop_early = tf.keras.callbacks.EarlyStopping(monitor='loss', patience=3, mode = 'auto', restore_best_weights=True)    "
   ]
  },
  {
   "cell_type": "code",
   "execution_count": 12,
   "metadata": {
    "id": "Syofi2qiVkgi"
   },
   "outputs": [
    {
     "name": "stdout",
     "output_type": "stream",
     "text": [
      "Trial 20 Complete [00h 03m 57s]\n",
      "acc: 0.5347127318382263\n",
      "\n",
      "Best acc So Far: 0.6085841059684753\n",
      "Total elapsed time: 01h 15m 39s\n",
      "INFO:tensorflow:Oracle triggered exit\n",
      "best number of units for the dense layer 506\n",
      "best dropout 0.2\n",
      "best learning rate 0.0001\n",
      "best weight decay 0.001\n",
      "best weight decay 2 0.1\n"
     ]
    }
   ],
   "source": [
    "#run the hyperband tuner\n",
    "tuner.search(train_generator, callbacks=[stop_early])    \n",
    "# Get the optimal hyperparameters\n",
    "best_hps=tuner.get_best_hyperparameters(num_trials=1)[0]\n",
    "print('best number of units for the dense layer', best_hps.get('units'))\n",
    "print('best dropout', best_hps.get('drop_out'))\n",
    "print('best learning rate', best_hps.get('learning_rate'))\n",
    "print('best weight decay', best_hps.get('weight_decay'))\n",
    "print('best weight decay 2', best_hps.get('weight_decay_2'))"
   ]
  },
  {
   "cell_type": "markdown",
   "metadata": {},
   "source": [
    "CREATING A NEW SEQUENTIAL MODEL"
   ]
  },
  {
   "cell_type": "code",
   "execution_count": 13,
   "metadata": {},
   "outputs": [
    {
     "name": "stdout",
     "output_type": "stream",
     "text": [
      "Model: \"sequential_1\"\n",
      "_________________________________________________________________\n",
      "Layer (type)                 Output Shape              Param #   \n",
      "=================================================================\n",
      "mobilenetv2_1.00_128 (Functi (None, 1280)              2257984   \n",
      "_________________________________________________________________\n",
      "flatten_1 (Flatten)          (None, 1280)              0         \n",
      "_________________________________________________________________\n",
      "dropout_1 (Dropout)          (None, 1280)              0         \n",
      "_________________________________________________________________\n",
      "dense_7 (Dense)              (None, 506)               648186    \n",
      "_________________________________________________________________\n",
      "dense_8 (Dense)              (None, 128)               64896     \n",
      "_________________________________________________________________\n",
      "dense_9 (Dense)              (None, 64)                8256      \n",
      "_________________________________________________________________\n",
      "dense_10 (Dense)             (None, 32)                2080      \n",
      "_________________________________________________________________\n",
      "dense_11 (Dense)             (None, 16)                528       \n",
      "_________________________________________________________________\n",
      "dense_12 (Dense)             (None, 8)                 136       \n",
      "_________________________________________________________________\n",
      "dense_13 (Dense)             (None, 4)                 36        \n",
      "=================================================================\n",
      "Total params: 2,982,102\n",
      "Trainable params: 724,118\n",
      "Non-trainable params: 2,257,984\n",
      "_________________________________________________________________\n"
     ]
    }
   ],
   "source": [
    "# building the final sequential model \n",
    "model = Sequential()  \n",
    "#adding VGG19 with the imagenet weights\n",
    "model.add(MobileNetV2(include_top=False,input_tensor=None,input_shape=(128,128,3),\n",
    "                     pooling='avg',classes=4,weights='imagenet')) \n",
    "#freezing the pretrained layers\n",
    "model.layers[0].trainable = False\n",
    "#flattening the outputs of the model    \n",
    "model.add(Flatten())  \n",
    "#dropping out the a percentage of the model weights \n",
    "model.add(Dropout(rate = best_hps.get('drop_out')))   \n",
    "#fully connected layer\n",
    "model.add(Dense(units = best_hps.get('units'), activation='relu', \n",
    "                kernel_regularizer=regularizers.l2(l2 = best_hps.get('weight_decay'))))\n",
    "model.add(Dense(128, activation='relu'))\n",
    "model.add(Dense(64))\n",
    "model.add(Dense(32, kernel_regularizer=regularizers.l2(l2 = best_hps.get('weight_decay_2'))))\n",
    "model.add(Dense(16, activation='relu'))\n",
    "model.add(Dense(8))\n",
    "model.add(Dense(4, activation='softmax'))\n",
    "model.summary()                                      "
   ]
  },
  {
   "cell_type": "code",
   "execution_count": 14,
   "metadata": {},
   "outputs": [],
   "source": [
    "#compliling the model\n",
    "model.compile(optimizer=keras.optimizers.Adam(learning_rate = best_hps.get('learning_rate')),\n",
    "              loss=keras.losses.CategoricalCrossentropy(from_logits=True),\n",
    "              metrics=[['acc'], tf.keras.metrics.AUC(), tf.keras.metrics.Precision(), tf.keras.metrics.Recall()]) "
   ]
  },
  {
   "cell_type": "code",
   "execution_count": 15,
   "metadata": {},
   "outputs": [
    {
     "name": "stdout",
     "output_type": "stream",
     "text": [
      "Epoch 1/30\n",
      "182/182 [==============================] - 34s 169ms/step - loss: 5.5899 - acc: 0.5087 - auc_1: 0.7984 - precision_1: 0.5922 - recall_1: 0.3069 - val_loss: 5.0709 - val_acc: 0.5685 - val_auc_1: 0.8437 - val_precision_1: 0.6728 - val_recall_1: 0.4168\n",
      "Epoch 2/30\n",
      "182/182 [==============================] - 29s 161ms/step - loss: 4.7621 - acc: 0.5520 - auc_1: 0.8328 - precision_1: 0.6567 - recall_1: 0.3547 - val_loss: 4.3851 - val_acc: 0.5838 - val_auc_1: 0.8539 - val_precision_1: 0.6932 - val_recall_1: 0.3941\n",
      "Epoch 3/30\n",
      "182/182 [==============================] - 30s 166ms/step - loss: 4.1434 - acc: 0.5710 - auc_1: 0.8442 - precision_1: 0.6764 - recall_1: 0.3764 - val_loss: 3.8460 - val_acc: 0.5747 - val_auc_1: 0.8545 - val_precision_1: 0.6911 - val_recall_1: 0.3851\n",
      "Epoch 4/30\n",
      "182/182 [==============================] - 35s 191ms/step - loss: 3.6373 - acc: 0.5814 - auc_1: 0.8517 - precision_1: 0.6836 - recall_1: 0.3923 - val_loss: 3.3879 - val_acc: 0.5912 - val_auc_1: 0.8662 - val_precision_1: 0.7070 - val_recall_1: 0.4400\n",
      "Epoch 5/30\n",
      "182/182 [==============================] - 31s 169ms/step - loss: 3.2340 - acc: 0.5831 - auc_1: 0.8517 - precision_1: 0.6743 - recall_1: 0.4025 - val_loss: 3.0400 - val_acc: 0.6059 - val_auc_1: 0.8621 - val_precision_1: 0.7306 - val_recall_1: 0.3669\n",
      "Epoch 6/30\n",
      "182/182 [==============================] - 29s 156ms/step - loss: 2.8840 - acc: 0.5812 - auc_1: 0.8554 - precision_1: 0.6829 - recall_1: 0.4000 - val_loss: 2.6771 - val_acc: 0.6133 - val_auc_1: 0.8745 - val_precision_1: 0.6976 - val_recall_1: 0.4507\n",
      "Epoch 7/30\n",
      "182/182 [==============================] - 29s 157ms/step - loss: 2.5908 - acc: 0.5797 - auc_1: 0.8571 - precision_1: 0.6906 - recall_1: 0.4061 - val_loss: 2.4162 - val_acc: 0.6178 - val_auc_1: 0.8747 - val_precision_1: 0.6997 - val_recall_1: 0.4604\n",
      "Epoch 8/30\n",
      "182/182 [==============================] - 29s 156ms/step - loss: 2.3397 - acc: 0.6021 - auc_1: 0.8632 - precision_1: 0.6981 - recall_1: 0.4224 - val_loss: 2.2250 - val_acc: 0.6200 - val_auc_1: 0.8783 - val_precision_1: 0.8003 - val_recall_1: 0.3290\n",
      "Epoch 9/30\n",
      "182/182 [==============================] - 29s 159ms/step - loss: 2.1375 - acc: 0.6035 - auc_1: 0.8639 - precision_1: 0.7039 - recall_1: 0.4256 - val_loss: 2.0002 - val_acc: 0.6200 - val_auc_1: 0.8784 - val_precision_1: 0.7204 - val_recall_1: 0.4304\n",
      "Epoch 10/30\n",
      "182/182 [==============================] - 29s 157ms/step - loss: 1.9620 - acc: 0.6012 - auc_1: 0.8656 - precision_1: 0.6916 - recall_1: 0.4376 - val_loss: 1.8382 - val_acc: 0.6331 - val_auc_1: 0.8824 - val_precision_1: 0.7346 - val_recall_1: 0.4655\n",
      "Epoch 11/30\n",
      "182/182 [==============================] - 29s 159ms/step - loss: 1.8177 - acc: 0.6111 - auc_1: 0.8681 - precision_1: 0.6969 - recall_1: 0.4537 - val_loss: 1.7142 - val_acc: 0.6280 - val_auc_1: 0.8834 - val_precision_1: 0.7398 - val_recall_1: 0.4394\n",
      "Epoch 12/30\n",
      "182/182 [==============================] - 29s 157ms/step - loss: 1.6928 - acc: 0.6127 - auc_1: 0.8713 - precision_1: 0.7022 - recall_1: 0.4545 - val_loss: 1.5950 - val_acc: 0.6359 - val_auc_1: 0.8840 - val_precision_1: 0.7109 - val_recall_1: 0.4819\n",
      "Epoch 13/30\n",
      "182/182 [==============================] - 29s 159ms/step - loss: 1.5942 - acc: 0.6096 - auc_1: 0.8707 - precision_1: 0.7085 - recall_1: 0.4581 - val_loss: 1.5257 - val_acc: 0.6472 - val_auc_1: 0.8881 - val_precision_1: 0.7670 - val_recall_1: 0.4026\n",
      "Epoch 14/30\n",
      "182/182 [==============================] - 32s 178ms/step - loss: 1.5010 - acc: 0.6202 - auc_1: 0.8738 - precision_1: 0.6996 - recall_1: 0.4636 - val_loss: 1.4277 - val_acc: 0.6268 - val_auc_1: 0.8845 - val_precision_1: 0.7149 - val_recall_1: 0.4587\n",
      "Epoch 15/30\n",
      "182/182 [==============================] - 34s 186ms/step - loss: 1.4316 - acc: 0.6171 - auc_1: 0.8739 - precision_1: 0.6994 - recall_1: 0.4807 - val_loss: 1.4128 - val_acc: 0.6246 - val_auc_1: 0.8751 - val_precision_1: 0.7273 - val_recall_1: 0.4485\n",
      "Epoch 16/30\n",
      "182/182 [==============================] - 29s 157ms/step - loss: 1.3634 - acc: 0.6315 - auc_1: 0.8786 - precision_1: 0.7082 - recall_1: 0.4909 - val_loss: 1.3035 - val_acc: 0.6404 - val_auc_1: 0.8873 - val_precision_1: 0.7266 - val_recall_1: 0.5057\n",
      "Epoch 17/30\n",
      "182/182 [==============================] - 29s 160ms/step - loss: 1.3237 - acc: 0.6245 - auc_1: 0.8757 - precision_1: 0.7037 - recall_1: 0.4879 - val_loss: 1.2548 - val_acc: 0.6404 - val_auc_1: 0.8878 - val_precision_1: 0.7139 - val_recall_1: 0.5102\n",
      "Epoch 18/30\n",
      "182/182 [==============================] - 30s 162ms/step - loss: 1.2769 - acc: 0.6272 - auc_1: 0.8768 - precision_1: 0.7102 - recall_1: 0.4891 - val_loss: 1.2027 - val_acc: 0.6653 - val_auc_1: 0.8997 - val_precision_1: 0.7677 - val_recall_1: 0.4960\n",
      "Epoch 19/30\n",
      "182/182 [==============================] - 29s 158ms/step - loss: 1.2354 - acc: 0.6253 - auc_1: 0.8785 - precision_1: 0.7042 - recall_1: 0.4962 - val_loss: 1.1592 - val_acc: 0.6761 - val_auc_1: 0.9037 - val_precision_1: 0.7802 - val_recall_1: 0.4943\n",
      "Epoch 20/30\n",
      "182/182 [==============================] - 29s 156ms/step - loss: 1.2001 - acc: 0.6284 - auc_1: 0.8809 - precision_1: 0.7037 - recall_1: 0.5003 - val_loss: 1.1384 - val_acc: 0.6529 - val_auc_1: 0.8966 - val_precision_1: 0.7407 - val_recall_1: 0.4966\n",
      "Epoch 21/30\n",
      "182/182 [==============================] - 29s 158ms/step - loss: 1.1653 - acc: 0.6365 - auc_1: 0.8839 - precision_1: 0.7043 - recall_1: 0.5116 - val_loss: 1.0972 - val_acc: 0.6750 - val_auc_1: 0.9038 - val_precision_1: 0.7463 - val_recall_1: 0.5413\n",
      "Epoch 22/30\n",
      "182/182 [==============================] - 29s 159ms/step - loss: 1.1529 - acc: 0.6303 - auc_1: 0.8811 - precision_1: 0.7055 - recall_1: 0.5072 - val_loss: 1.1002 - val_acc: 0.6755 - val_auc_1: 0.9038 - val_precision_1: 0.7754 - val_recall_1: 0.4711\n",
      "Epoch 23/30\n",
      "182/182 [==============================] - 29s 159ms/step - loss: 1.1190 - acc: 0.6375 - auc_1: 0.8854 - precision_1: 0.7114 - recall_1: 0.5207 - val_loss: 1.0691 - val_acc: 0.6767 - val_auc_1: 0.9034 - val_precision_1: 0.7603 - val_recall_1: 0.4904\n",
      "Epoch 24/30\n",
      "182/182 [==============================] - 29s 160ms/step - loss: 1.0955 - acc: 0.6390 - auc_1: 0.8875 - precision_1: 0.7072 - recall_1: 0.5233 - val_loss: 1.0530 - val_acc: 0.6829 - val_auc_1: 0.9058 - val_precision_1: 0.7622 - val_recall_1: 0.5136\n",
      "Epoch 25/30\n",
      "182/182 [==============================] - 27s 146ms/step - loss: 1.0849 - acc: 0.6435 - auc_1: 0.8864 - precision_1: 0.7057 - recall_1: 0.5262 - val_loss: 1.0486 - val_acc: 0.6840 - val_auc_1: 0.9046 - val_precision_1: 0.7815 - val_recall_1: 0.4921\n",
      "Epoch 26/30\n",
      "182/182 [==============================] - 29s 157ms/step - loss: 1.0708 - acc: 0.6462 - auc_1: 0.8870 - precision_1: 0.7129 - recall_1: 0.5296 - val_loss: 1.0166 - val_acc: 0.6971 - val_auc_1: 0.9081 - val_precision_1: 0.7769 - val_recall_1: 0.5362\n",
      "Epoch 27/30\n",
      "182/182 [==============================] - 28s 152ms/step - loss: 1.0562 - acc: 0.6406 - auc_1: 0.8872 - precision_1: 0.7029 - recall_1: 0.5345 - val_loss: 0.9664 - val_acc: 0.7022 - val_auc_1: 0.9162 - val_precision_1: 0.7755 - val_recall_1: 0.5555\n",
      "Epoch 28/30\n",
      "182/182 [==============================] - 28s 156ms/step - loss: 1.0224 - acc: 0.6522 - auc_1: 0.8938 - precision_1: 0.7145 - recall_1: 0.5556 - val_loss: 0.9523 - val_acc: 0.6931 - val_auc_1: 0.9142 - val_precision_1: 0.7552 - val_recall_1: 0.5940\n",
      "Epoch 29/30\n",
      "182/182 [==============================] - 29s 158ms/step - loss: 1.0195 - acc: 0.6530 - auc_1: 0.8924 - precision_1: 0.7140 - recall_1: 0.5545 - val_loss: 0.9481 - val_acc: 0.7140 - val_auc_1: 0.9168 - val_precision_1: 0.7718 - val_recall_1: 0.5651\n",
      "Epoch 30/30\n",
      "182/182 [==============================] - 29s 161ms/step - loss: 1.0108 - acc: 0.6566 - auc_1: 0.8927 - precision_1: 0.7186 - recall_1: 0.5585 - val_loss: 0.9611 - val_acc: 0.6755 - val_auc_1: 0.9090 - val_precision_1: 0.7470 - val_recall_1: 0.5368\n"
     ]
    }
   ],
   "source": [
    "#training the model\n",
    "history = model.fit(train_generator, \n",
    "      steps_per_epoch=train_generator.samples/train_generator.batch_size,\n",
    "      epochs=30, \n",
    "      validation_data=validation_generator, \n",
    "      validation_steps=validation_generator.samples/validation_generator.batch_size,\n",
    "      verbose=1)   "
   ]
  },
  {
   "cell_type": "markdown",
   "metadata": {},
   "source": [
    "UNFREEZING THE MODEL"
   ]
  },
  {
   "cell_type": "code",
   "execution_count": 16,
   "metadata": {},
   "outputs": [
    {
     "name": "stdout",
     "output_type": "stream",
     "text": [
      "Model: \"sequential_1\"\n",
      "_________________________________________________________________\n",
      "Layer (type)                 Output Shape              Param #   \n",
      "=================================================================\n",
      "mobilenetv2_1.00_128 (Functi (None, 1280)              2257984   \n",
      "_________________________________________________________________\n",
      "flatten_1 (Flatten)          (None, 1280)              0         \n",
      "_________________________________________________________________\n",
      "dropout_1 (Dropout)          (None, 1280)              0         \n",
      "_________________________________________________________________\n",
      "dense_7 (Dense)              (None, 506)               648186    \n",
      "_________________________________________________________________\n",
      "dense_8 (Dense)              (None, 128)               64896     \n",
      "_________________________________________________________________\n",
      "dense_9 (Dense)              (None, 64)                8256      \n",
      "_________________________________________________________________\n",
      "dense_10 (Dense)             (None, 32)                2080      \n",
      "_________________________________________________________________\n",
      "dense_11 (Dense)             (None, 16)                528       \n",
      "_________________________________________________________________\n",
      "dense_12 (Dense)             (None, 8)                 136       \n",
      "_________________________________________________________________\n",
      "dense_13 (Dense)             (None, 4)                 36        \n",
      "=================================================================\n",
      "Total params: 2,982,102\n",
      "Trainable params: 2,947,990\n",
      "Non-trainable params: 34,112\n",
      "_________________________________________________________________\n"
     ]
    }
   ],
   "source": [
    "#unfreezing the pretrained layers\n",
    "model.layers[0].trainable = True\n",
    "model.summary()"
   ]
  },
  {
   "cell_type": "code",
   "execution_count": 17,
   "metadata": {},
   "outputs": [],
   "source": [
    "#compliling the model\n",
    "model.compile(optimizer=keras.optimizers.Adam(learning_rate = best_hps.get('learning_rate')),\n",
    "              loss=keras.losses.CategoricalCrossentropy(from_logits=True),\n",
    "              metrics=[['acc'], tf.keras.metrics.AUC(), tf.keras.metrics.Precision(), tf.keras.metrics.Recall()]) "
   ]
  },
  {
   "cell_type": "code",
   "execution_count": 18,
   "metadata": {
    "scrolled": true
   },
   "outputs": [
    {
     "name": "stdout",
     "output_type": "stream",
     "text": [
      "Epoch 1/30\n",
      "182/182 [==============================] - 33s 147ms/step - loss: 1.0929 - acc: 0.5994 - auc_2: 0.8614 - precision_2: 0.6797 - recall_2: 0.4508 - val_loss: 1.2914 - val_acc: 0.5283 - val_auc_2: 0.8185 - val_precision_2: 0.5462 - val_recall_2: 0.4824\n",
      "Epoch 2/30\n",
      "182/182 [==============================] - 25s 137ms/step - loss: 0.8723 - acc: 0.7208 - auc_2: 0.9222 - precision_2: 0.7615 - recall_2: 0.6607 - val_loss: 1.6837 - val_acc: 0.5317 - val_auc_2: 0.8018 - val_precision_2: 0.5321 - val_recall_2: 0.5306\n",
      "Epoch 3/30\n",
      "182/182 [==============================] - 25s 138ms/step - loss: 0.7111 - acc: 0.7898 - auc_2: 0.9531 - precision_2: 0.8117 - recall_2: 0.7673 - val_loss: 1.9286 - val_acc: 0.5357 - val_auc_2: 0.7873 - val_precision_2: 0.5360 - val_recall_2: 0.5357\n",
      "Epoch 4/30\n",
      "182/182 [==============================] - 25s 139ms/step - loss: 0.5713 - acc: 0.8458 - auc_2: 0.9736 - precision_2: 0.8603 - recall_2: 0.8338 - val_loss: 3.4737 - val_acc: 0.5068 - val_auc_2: 0.7112 - val_precision_2: 0.5068 - val_recall_2: 0.5068\n",
      "Epoch 5/30\n",
      "182/182 [==============================] - 26s 140ms/step - loss: 0.4495 - acc: 0.8916 - auc_2: 0.9867 - precision_2: 0.9005 - recall_2: 0.8822 - val_loss: 3.4461 - val_acc: 0.5136 - val_auc_2: 0.7419 - val_precision_2: 0.5136 - val_recall_2: 0.5136\n",
      "Epoch 6/30\n",
      "182/182 [==============================] - 25s 138ms/step - loss: 0.3706 - acc: 0.9277 - auc_2: 0.9922 - precision_2: 0.9324 - recall_2: 0.9244 - val_loss: 2.8750 - val_acc: 0.5204 - val_auc_2: 0.7618 - val_precision_2: 0.5204 - val_recall_2: 0.5198\n",
      "Epoch 7/30\n",
      "182/182 [==============================] - 25s 139ms/step - loss: 0.3258 - acc: 0.9384 - auc_2: 0.9944 - precision_2: 0.9418 - recall_2: 0.9381 - val_loss: 1.7258 - val_acc: 0.6285 - val_auc_2: 0.8494 - val_precision_2: 0.6293 - val_recall_2: 0.6285\n",
      "Epoch 8/30\n",
      "182/182 [==============================] - 25s 139ms/step - loss: 0.2925 - acc: 0.9496 - auc_2: 0.9957 - precision_2: 0.9508 - recall_2: 0.9480 - val_loss: 1.8927 - val_acc: 0.6404 - val_auc_2: 0.8473 - val_precision_2: 0.6406 - val_recall_2: 0.6399\n",
      "Epoch 9/30\n",
      "182/182 [==============================] - 26s 142ms/step - loss: 0.2503 - acc: 0.9608 - auc_2: 0.9976 - precision_2: 0.9627 - recall_2: 0.9583 - val_loss: 1.7370 - val_acc: 0.6014 - val_auc_2: 0.8402 - val_precision_2: 0.6018 - val_recall_2: 0.5974\n",
      "Epoch 10/30\n",
      "182/182 [==============================] - 26s 140ms/step - loss: 0.2262 - acc: 0.9658 - auc_2: 0.9980 - precision_2: 0.9673 - recall_2: 0.9651 - val_loss: 1.7371 - val_acc: 0.6065 - val_auc_2: 0.8402 - val_precision_2: 0.6081 - val_recall_2: 0.6053\n",
      "Epoch 11/30\n",
      "182/182 [==============================] - 25s 139ms/step - loss: 0.2076 - acc: 0.9716 - auc_2: 0.9986 - precision_2: 0.9723 - recall_2: 0.9709 - val_loss: 1.6068 - val_acc: 0.7010 - val_auc_2: 0.8728 - val_precision_2: 0.7019 - val_recall_2: 0.6999\n",
      "Epoch 12/30\n",
      "182/182 [==============================] - 26s 140ms/step - loss: 0.2101 - acc: 0.9690 - auc_2: 0.9977 - precision_2: 0.9700 - recall_2: 0.9677 - val_loss: 1.5522 - val_acc: 0.6908 - val_auc_2: 0.8690 - val_precision_2: 0.6923 - val_recall_2: 0.6880\n",
      "Epoch 13/30\n",
      "182/182 [==============================] - 26s 142ms/step - loss: 0.1922 - acc: 0.9714 - auc_2: 0.9986 - precision_2: 0.9728 - recall_2: 0.9709 - val_loss: 1.4269 - val_acc: 0.6342 - val_auc_2: 0.8667 - val_precision_2: 0.6368 - val_recall_2: 0.6314\n",
      "Epoch 14/30\n",
      "182/182 [==============================] - 28s 153ms/step - loss: 0.1550 - acc: 0.9822 - auc_2: 0.9994 - precision_2: 0.9829 - recall_2: 0.9819 - val_loss: 2.0646 - val_acc: 0.6189 - val_auc_2: 0.8343 - val_precision_2: 0.6193 - val_recall_2: 0.6172\n",
      "Epoch 15/30\n",
      "182/182 [==============================] - 26s 143ms/step - loss: 0.1612 - acc: 0.9781 - auc_2: 0.9989 - precision_2: 0.9786 - recall_2: 0.9778 - val_loss: 1.4325 - val_acc: 0.6733 - val_auc_2: 0.8825 - val_precision_2: 0.6744 - val_recall_2: 0.6733\n",
      "Epoch 16/30\n",
      "182/182 [==============================] - 26s 142ms/step - loss: 0.1418 - acc: 0.9839 - auc_2: 0.9992 - precision_2: 0.9844 - recall_2: 0.9836 - val_loss: 2.3910 - val_acc: 0.6116 - val_auc_2: 0.8168 - val_precision_2: 0.6129 - val_recall_2: 0.6116\n",
      "Epoch 17/30\n",
      "182/182 [==============================] - 26s 141ms/step - loss: 0.1448 - acc: 0.9774 - auc_2: 0.9993 - precision_2: 0.9779 - recall_2: 0.9767 - val_loss: 2.3404 - val_acc: 0.6512 - val_auc_2: 0.8322 - val_precision_2: 0.6538 - val_recall_2: 0.6501\n",
      "Epoch 18/30\n",
      "182/182 [==============================] - 26s 143ms/step - loss: 0.1269 - acc: 0.9831 - auc_2: 0.9993 - precision_2: 0.9836 - recall_2: 0.9822 - val_loss: 1.7300 - val_acc: 0.6897 - val_auc_2: 0.8621 - val_precision_2: 0.6915 - val_recall_2: 0.6880\n",
      "Epoch 19/30\n",
      "182/182 [==============================] - 26s 144ms/step - loss: 0.1260 - acc: 0.9829 - auc_2: 0.9993 - precision_2: 0.9837 - recall_2: 0.9827 - val_loss: 1.3758 - val_acc: 0.7265 - val_auc_2: 0.8947 - val_precision_2: 0.7278 - val_recall_2: 0.7254\n",
      "Epoch 20/30\n",
      "182/182 [==============================] - 27s 146ms/step - loss: 0.1141 - acc: 0.9843 - auc_2: 0.9993 - precision_2: 0.9848 - recall_2: 0.9838 - val_loss: 1.3235 - val_acc: 0.7123 - val_auc_2: 0.8974 - val_precision_2: 0.7136 - val_recall_2: 0.7095\n",
      "Epoch 21/30\n",
      "182/182 [==============================] - 26s 144ms/step - loss: 0.0940 - acc: 0.9899 - auc_2: 0.9998 - precision_2: 0.9899 - recall_2: 0.9896 - val_loss: 1.8041 - val_acc: 0.6874 - val_auc_2: 0.8631 - val_precision_2: 0.6892 - val_recall_2: 0.6869\n",
      "Epoch 22/30\n",
      "182/182 [==============================] - 26s 145ms/step - loss: 0.0983 - acc: 0.9873 - auc_2: 0.9995 - precision_2: 0.9875 - recall_2: 0.9872 - val_loss: 1.5108 - val_acc: 0.7288 - val_auc_2: 0.8878 - val_precision_2: 0.7300 - val_recall_2: 0.7271\n",
      "Epoch 23/30\n",
      "182/182 [==============================] - 28s 155ms/step - loss: 0.1000 - acc: 0.9846 - auc_2: 0.9995 - precision_2: 0.9851 - recall_2: 0.9838 - val_loss: 0.6022 - val_acc: 0.8273 - val_auc_2: 0.9642 - val_precision_2: 0.8312 - val_recall_2: 0.8228\n",
      "Epoch 24/30\n",
      "182/182 [==============================] - 29s 156ms/step - loss: 0.0956 - acc: 0.9843 - auc_2: 0.9993 - precision_2: 0.9846 - recall_2: 0.9839 - val_loss: 0.5424 - val_acc: 0.8431 - val_auc_2: 0.9694 - val_precision_2: 0.8475 - val_recall_2: 0.8403\n",
      "Epoch 25/30\n",
      "182/182 [==============================] - 28s 153ms/step - loss: 0.0831 - acc: 0.9899 - auc_2: 0.9995 - precision_2: 0.9901 - recall_2: 0.9896 - val_loss: 0.7370 - val_acc: 0.8284 - val_auc_2: 0.9499 - val_precision_2: 0.8291 - val_recall_2: 0.8267\n",
      "Epoch 26/30\n",
      "182/182 [==============================] - 28s 153ms/step - loss: 0.0801 - acc: 0.9903 - auc_2: 0.9994 - precision_2: 0.9904 - recall_2: 0.9901 - val_loss: 1.1205 - val_acc: 0.7877 - val_auc_2: 0.9191 - val_precision_2: 0.7878 - val_recall_2: 0.7843\n",
      "Epoch 27/30\n",
      "182/182 [==============================] - 27s 149ms/step - loss: 0.0843 - acc: 0.9853 - auc_2: 0.9995 - precision_2: 0.9855 - recall_2: 0.9846 - val_loss: 0.6836 - val_acc: 0.8448 - val_auc_2: 0.9559 - val_precision_2: 0.8472 - val_recall_2: 0.8443\n",
      "Epoch 28/30\n",
      "182/182 [==============================] - 29s 161ms/step - loss: 0.0724 - acc: 0.9892 - auc_2: 0.9995 - precision_2: 0.9897 - recall_2: 0.9887 - val_loss: 0.4593 - val_acc: 0.8834 - val_auc_2: 0.9732 - val_precision_2: 0.8845 - val_recall_2: 0.8805\n",
      "Epoch 29/30\n",
      "182/182 [==============================] - 27s 148ms/step - loss: 0.0910 - acc: 0.9802 - auc_2: 0.9992 - precision_2: 0.9810 - recall_2: 0.9793 - val_loss: 0.3108 - val_acc: 0.9111 - val_auc_2: 0.9876 - val_precision_2: 0.9139 - val_recall_2: 0.9071\n",
      "Epoch 30/30\n",
      "182/182 [==============================] - 28s 152ms/step - loss: 0.0666 - acc: 0.9897 - auc_2: 0.9997 - precision_2: 0.9899 - recall_2: 0.9897 - val_loss: 0.3281 - val_acc: 0.9117 - val_auc_2: 0.9827 - val_precision_2: 0.9126 - val_recall_2: 0.9105\n"
     ]
    }
   ],
   "source": [
    "#training the model\n",
    "history = model.fit(train_generator, \n",
    "      steps_per_epoch=train_generator.samples/train_generator.batch_size,\n",
    "      epochs=30, \n",
    "      validation_data=validation_generator, \n",
    "      validation_steps=validation_generator.samples/validation_generator.batch_size,\n",
    "      verbose=1)  "
   ]
  },
  {
   "cell_type": "markdown",
   "metadata": {
    "id": "-YZeZC_qqazZ"
   },
   "source": [
    "SAVING THE MODEL AND ITS WEIGHTS AFTER HYPERPARAMETER TUNING"
   ]
  },
  {
   "cell_type": "code",
   "execution_count": 19,
   "metadata": {
    "id": "ldwQxrwPrWvW"
   },
   "outputs": [
    {
     "name": "stderr",
     "output_type": "stream",
     "text": [
      "WARNING:absl:Function `_wrapped_model` contains input name(s) mobilenetv2_1.00_128_input with unsupported characters which will be renamed to mobilenetv2_1_00_128_input in the SavedModel.\n",
      "C:\\Users\\vvsat\\anaconda3\\envs\\tf-gpu\\lib\\site-packages\\tensorflow\\python\\keras\\utils\\generic_utils.py:494: CustomMaskWarning: Custom mask layers require a config and must override get_config. When loading, the custom mask layer must be passed to the custom_objects argument.\n",
      "  warnings.warn('Custom mask layers require a config and must override '\n"
     ]
    },
    {
     "name": "stdout",
     "output_type": "stream",
     "text": [
      "INFO:tensorflow:Assets written to: \\Users\\vvsat\\Documents\\machine learning\\Alzheimer_s\\models\\save\\mobilenet_after_hpt\\assets\n"
     ]
    },
    {
     "name": "stderr",
     "output_type": "stream",
     "text": [
      "INFO:tensorflow:Assets written to: \\Users\\vvsat\\Documents\\machine learning\\Alzheimer_s\\models\\save\\mobilenet_after_hpt\\assets\n"
     ]
    }
   ],
   "source": [
    "#saving the model in both hdf5 and normal format\n",
    "model.save('\\\\Users\\\\vvsat\\\\Documents\\\\machine learning\\\\Alzheimer_s\\\\models\\\\save\\\\mobilenet_after_hpt')   "
   ]
  },
  {
   "cell_type": "code",
   "execution_count": 20,
   "metadata": {
    "id": "lU3_Py4Tqazj"
   },
   "outputs": [],
   "source": [
    "#saving the model in both hdf5 and normal format\n",
    "model.save('model_after_hpt_mobilenet.h5')   "
   ]
  },
  {
   "cell_type": "code",
   "execution_count": 21,
   "metadata": {
    "id": "VkcD3i33sLKh",
    "scrolled": false
   },
   "outputs": [],
   "source": [
    "#loading the model\n",
    "#model = keras.models.load_model('model_after_hpt_resnet50.h5') "
   ]
  },
  {
   "cell_type": "markdown",
   "metadata": {
    "id": "V8v_lEvcHpSr"
   },
   "source": [
    "PLOTTING THE GRAPHS"
   ]
  },
  {
   "cell_type": "code",
   "execution_count": 22,
   "metadata": {
    "id": "3oKDhC-QmvFE"
   },
   "outputs": [],
   "source": [
    "train_acc = history.history['acc'] \n",
    "val_acc = history.history['val_acc']\n",
    "train_loss = history.history['loss'] \n",
    "val_loss = history.history['val_loss'] \n",
    "train_precision = history.history['precision_2'] \n",
    "val_precision = history.history['val_precision_2'] \n",
    "train_recall = history.history['recall_2']\n",
    "val_recall = history.history['val_recall_2']\n",
    "train_auc = history.history['auc_2']\n",
    "val_auc = history.history['val_auc_2'] "
   ]
  },
  {
   "cell_type": "code",
   "execution_count": 23,
   "metadata": {
    "id": "-My1lI9qmvF6"
   },
   "outputs": [
    {
     "data": {
      "image/png": "[encoded data removed]",
      "text/plain": [
       "<Figure size 432x288 with 1 Axes>"
      ]
     },
     "metadata": {
      "needs_background": "light"
     },
     "output_type": "display_data"
    },
    {
     "data": {
      "text/plain": [
       "<Figure size 432x288 with 0 Axes>"
      ]
     },
     "metadata": {},
     "output_type": "display_data"
    },
    {
     "data": {
      "image/png": "[encoded data removed]",
      "text/plain": [
       "<Figure size 432x288 with 1 Axes>"
      ]
     },
     "metadata": {
      "needs_background": "light"
     },
     "output_type": "display_data"
    },
    {
     "data": {
      "image/png": "[encoded data removed]",
      "text/plain": [
       "<Figure size 432x288 with 1 Axes>"
      ]
     },
     "metadata": {
      "needs_background": "light"
     },
     "output_type": "display_data"
    },
    {
     "data": {
      "image/png": "[encoded data removed]",
      "text/plain": [
       "<Figure size 432x288 with 1 Axes>"
      ]
     },
     "metadata": {
      "needs_background": "light"
     },
     "output_type": "display_data"
    },
    {
     "data": {
      "image/png": "[encoded data removed]",
      "text/plain": [
       "<Figure size 432x288 with 1 Axes>"
      ]
     },
     "metadata": {
      "needs_background": "light"
     },
     "output_type": "display_data"
    }
   ],
   "source": [
    "epochs = range(len(train_acc)) \n",
    "plt.plot(epochs, train_acc, 'b', label='Training Accuracy')\n",
    "plt.plot(epochs, val_acc, 'r', label='Validation Accuracy')\n",
    "plt.title('Training and Validation Accuracy')\n",
    "plt.legend()\n",
    "plt.figure()\n",
    "plt.show()\n",
    "\n",
    "plt.plot(epochs, train_loss, 'b', label='Training Loss')\n",
    "plt.plot(epochs, val_loss, 'r', label='Validation Loss')\n",
    "plt.title('Training and Validation Loss')\n",
    "plt.legend()\n",
    "plt.show()\n",
    "\n",
    "plt.plot(epochs, train_precision, 'b', label='training precision')\n",
    "plt.plot(epochs, val_precision, 'r', label='valid precision')\n",
    "plt.title('Training and Validation precision')\n",
    "plt.legend()\n",
    "plt.show()\n",
    "\n",
    "plt.plot(epochs, train_recall, 'b', label='training recall')\n",
    "plt.plot(epochs, val_recall, 'r', label='valid recall')\n",
    "plt.title('Training and Validation recall')\n",
    "plt.legend()\n",
    "plt.show() \n",
    "\n",
    "plt.plot(epochs, train_auc, 'b', label='training auc')\n",
    "plt.plot(epochs, val_auc, 'r', label='valid auc')\n",
    "plt.title('Training and Validation auc curve')\n",
    "plt.legend()\n",
    "plt.show()"
   ]
  },
  {
   "cell_type": "markdown",
   "metadata": {
    "id": "CmGyOuglHnA5"
   },
   "source": [
    "TESTING THE MODEL"
   ]
  },
  {
   "cell_type": "code",
   "execution_count": 24,
   "metadata": {},
   "outputs": [
    {
     "name": "stderr",
     "output_type": "stream",
     "text": [
      "C:\\Users\\vvsat\\anaconda3\\envs\\tf-gpu\\lib\\site-packages\\keras_preprocessing\\image\\image_data_generator.py:720: UserWarning: This ImageDataGenerator specifies `featurewise_center`, but it hasn't been fit on any training data. Fit it first by calling `.fit(numpy_data)`.\n",
      "  warnings.warn('This ImageDataGenerator specifies '\n",
      "C:\\Users\\vvsat\\anaconda3\\envs\\tf-gpu\\lib\\site-packages\\keras_preprocessing\\image\\image_data_generator.py:728: UserWarning: This ImageDataGenerator specifies `featurewise_std_normalization`, but it hasn't been fit on any training data. Fit it first by calling `.fit(numpy_data)`.\n",
      "  warnings.warn('This ImageDataGenerator specifies '\n"
     ]
    },
    {
     "name": "stdout",
     "output_type": "stream",
     "text": [
      "56/56 [==============================] - 7s 122ms/step - loss: 0.3466 - acc: 0.9127 - auc_2: 0.9830 - precision_2: 0.9137 - recall_2: 0.9127\n",
      "[test loss, test accuracy]: [0.34664303064346313, 0.9127028584480286, 0.9830379486083984, 0.9137254953384399, 0.9127028584480286]\n"
     ]
    }
   ],
   "source": [
    "#testing the hypermodel on the test dataset\n",
    "eval_result = model.evaluate(test_generator)\n",
    "print(\"[test loss, test accuracy]:\", eval_result)  "
   ]
  },
  {
   "cell_type": "markdown",
   "metadata": {
    "id": "ZPQETN8jW-CS"
   },
   "source": [
    "CLASSIFICATION REPORTS AND CONFUSION MATRIX"
   ]
  },
  {
   "cell_type": "code",
   "execution_count": 25,
   "metadata": {},
   "outputs": [],
   "source": [
    "from sklearn.metrics import confusion_matrix, classification_report"
   ]
  },
  {
   "cell_type": "code",
   "execution_count": 26,
   "metadata": {},
   "outputs": [],
   "source": [
    "#Confution Matrix and Classification Report\n",
    "batch_size = 32\n",
    "#developing the predictions for the test dataset\n",
    "Y_pred = model.predict(test_generator, test_generator.samples // batch_size+1)\n",
    "y_pred = np.argmax(Y_pred, axis=1) "
   ]
  },
  {
   "cell_type": "code",
   "execution_count": 27,
   "metadata": {},
   "outputs": [
    {
     "data": {
      "text/plain": [
       "<AxesSubplot:>"
      ]
     },
     "execution_count": 27,
     "metadata": {},
     "output_type": "execute_result"
    },
    {
     "data": {
      "image/png": "[encoded data removed]",
      "text/plain": [
       "<Figure size 1080x720 with 2 Axes>"
      ]
     },
     "metadata": {
      "needs_background": "light"
     },
     "output_type": "display_data"
    }
   ],
   "source": [
    "#displaying the confusion matrix\n",
    "cf_matrix = confusion_matrix(test_generator.classes, y_pred)\n",
    "fig, ax = plt.subplots(figsize=(15,10)) \n",
    "sns.heatmap(cf_matrix, linewidths=1, annot=True, ax=ax, fmt='g') "
   ]
  },
  {
   "cell_type": "code",
   "execution_count": 28,
   "metadata": {},
   "outputs": [
    {
     "name": "stdout",
     "output_type": "stream",
     "text": [
      "Classification Report\n",
      "                  precision    recall  f1-score   support\n",
      "\n",
      "    MildDemented       1.00      0.83      0.91       254\n",
      "ModerateDemented       1.00      0.82      0.90        22\n",
      "     NonDemented       0.85      1.00      0.92       889\n",
      "VeryMildDemented       1.00      0.81      0.90       622\n",
      "\n",
      "        accuracy                           0.91      1787\n",
      "       macro avg       0.96      0.87      0.91      1787\n",
      "    weighted avg       0.92      0.91      0.91      1787\n",
      "\n"
     ]
    }
   ],
   "source": [
    "#Classification Report\n",
    "print('Classification Report') \n",
    "target_names = disease_cls\n",
    "print(classification_report(test_generator.classes, y_pred, target_names=target_names)) "
   ]
  },
  {
   "cell_type": "code",
   "execution_count": 29,
   "metadata": {},
   "outputs": [],
   "source": [
    "#tf.keras.models.save_model(model, \"\\\\Users\\\\vvsat\\\\Documents\\\\machine learning\\\\Alzheimer_s\\\\models\")"
   ]
  }
 ],
 "metadata": {
  "accelerator": "GPU",
  "colab": {
   "authorship_tag": "ABX9TyOY6ZEJhB2lP0ZoEQ73k5KI",
   "collapsed_sections": [],
   "name": "alzheimer classifier resnet50.ipynb",
   "provenance": []
  },
  "kernelspec": {
   "display_name": "Python 3 (ipykernel)",
   "language": "python",
   "name": "python3"
  },
  "language_info": {
   "codemirror_mode": {
    "name": "ipython",
    "version": 3
   },
   "file_extension": ".py",
   "mimetype": "text/x-python",
   "name": "python",
   "nbconvert_exporter": "python",
   "pygments_lexer": "ipython3",
   "version": "3.9.7"
  }
 },
 "nbformat": 4,
 "nbformat_minor": 1
}
