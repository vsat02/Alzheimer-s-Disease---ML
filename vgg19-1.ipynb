{
 "cells": [
  {
   "cell_type": "code",
   "execution_count": 1,
   "metadata": {
    "executionInfo": {
     "elapsed": 3113,
     "status": "ok",
     "timestamp": 1635811753910,
     "user": {
      "displayName": "Sathyanarayanan Vasudevan",
      "photoUrl": "https://lh3.googleusercontent.com/a/default-user=s64",
      "userId": "18152865855978230831"
     },
     "user_tz": -330
    },
    "id": "SWhX3w0JK0w7"
   },
   "outputs": [],
   "source": [
    "#importing the required packages\n",
    "import tensorflow as tf\n",
    "from tensorflow.keras.optimizers import Adam \n",
    "from tensorflow import keras\n",
    "from tensorflow.keras import layers\n",
    "import os \n",
    "import numpy as np\n",
    "from matplotlib import pyplot as plt  \n",
    "import seaborn as sns"
   ]
  },
  {
   "cell_type": "code",
   "execution_count": 2,
   "metadata": {
    "executionInfo": {
     "elapsed": 17,
     "status": "ok",
     "timestamp": 1635811753912,
     "user": {
      "displayName": "Sathyanarayanan Vasudevan",
      "photoUrl": "https://lh3.googleusercontent.com/a/default-user=s64",
      "userId": "18152865855978230831"
     },
     "user_tz": -330
    },
    "id": "QnTEvwDQMMxw"
   },
   "outputs": [],
   "source": [
    "#specifying the path \n",
    "DATASET_PATH = \"\\\\Users\\\\vvsat\\\\Documents\\\\machine learning\\\\Alzheimer_s\\\\Dataset\"  "
   ]
  },
  {
   "cell_type": "code",
   "execution_count": 3,
   "metadata": {
    "executionInfo": {
     "elapsed": 20,
     "status": "ok",
     "timestamp": 1635811753914,
     "user": {
      "displayName": "Sathyanarayanan Vasudevan",
      "photoUrl": "https://lh3.googleusercontent.com/a/default-user=s64",
      "userId": "18152865855978230831"
     },
     "user_tz": -330
    },
    "id": "u1lbLmEdMsTC"
   },
   "outputs": [],
   "source": [
    "#defining the classes of the dataset \n",
    "disease_cls = ['MildDemented','ModerateDemented','NonDemented','VeryMildDemented']  "
   ]
  },
  {
   "cell_type": "markdown",
   "metadata": {
    "id": "PWqoikd4YUP7"
   },
   "source": [
    "SPLITTTING THE IMAGES INTO TRAIN, TEST AND VALID DATASETS"
   ]
  },
  {
   "cell_type": "code",
   "execution_count": 4,
   "metadata": {
    "colab": {
     "base_uri": "https://localhost:8080/"
    },
    "executionInfo": {
     "elapsed": 18870,
     "status": "ok",
     "timestamp": 1635811775274,
     "user": {
      "displayName": "Sathyanarayanan Vasudevan",
      "photoUrl": "https://lh3.googleusercontent.com/a/default-user=s64",
      "userId": "18152865855978230831"
     },
     "user_tz": -330
    },
    "id": "8xXGHVOIlheA",
    "outputId": "ba9061b6-8e28-49c3-d622-4fe5b2a955f8"
   },
   "outputs": [],
   "source": [
    "#splitting the images into train, test and valid datasets with 70, 15 and 15 percentage weightage\n",
    "import splitfolders \n",
    "splitfolders.ratio(DATASET_PATH, output=\"split\", seed=1, ratio=(.7, .15, .15), group_prefix=None)  "
   ]
  },
  {
   "cell_type": "markdown",
   "metadata": {
    "id": "6hqNNOjeQ_46"
   },
   "source": [
    "IMAGE DATA PREPROCESSING"
   ]
  },
  {
   "cell_type": "code",
   "execution_count": 5,
   "metadata": {
    "executionInfo": {
     "elapsed": 11,
     "status": "ok",
     "timestamp": 1635811775277,
     "user": {
      "displayName": "Sathyanarayanan Vasudevan",
      "photoUrl": "https://lh3.googleusercontent.com/a/default-user=s64",
      "userId": "18152865855978230831"
     },
     "user_tz": -330
    },
    "id": "2XANDdVKUSjB"
   },
   "outputs": [],
   "source": [
    "#importing the required packages \n",
    "from tensorflow.keras.preprocessing.image import ImageDataGenerator  "
   ]
  },
  {
   "cell_type": "code",
   "execution_count": 6,
   "metadata": {
    "colab": {
     "base_uri": "https://localhost:8080/"
    },
    "executionInfo": {
     "elapsed": 579,
     "status": "ok",
     "timestamp": 1635811775846,
     "user": {
      "displayName": "Sathyanarayanan Vasudevan",
      "photoUrl": "https://lh3.googleusercontent.com/a/default-user=s64",
      "userId": "18152865855978230831"
     },
     "user_tz": -330
    },
    "id": "25OOia7FUd2m",
    "outputId": "26c4444e-2746-44d0-e6f1-ba84c476d108"
   },
   "outputs": [
    {
     "name": "stderr",
     "output_type": "stream",
     "text": [
      "C:\\Users\\vvsat\\anaconda3\\envs\\tf-gpu\\lib\\site-packages\\keras_preprocessing\\image\\image_data_generator.py:349: UserWarning: This ImageDataGenerator specifies `featurewise_std_normalization`, which overrides setting of `featurewise_center`.\n",
      "  warnings.warn('This ImageDataGenerator specifies '\n",
      "C:\\Users\\vvsat\\anaconda3\\envs\\tf-gpu\\lib\\site-packages\\keras_preprocessing\\image\\image_data_generator.py:356: UserWarning: This ImageDataGenerator specifies `samplewise_std_normalization`, which overrides setting of `samplewise_center`.\n",
      "  warnings.warn('This ImageDataGenerator specifies '\n"
     ]
    },
    {
     "name": "stdout",
     "output_type": "stream",
     "text": [
      "Found 5848 images belonging to 4 classes.\n",
      "Found 1766 images belonging to 4 classes.\n",
      "Found 1787 images belonging to 4 classes.\n"
     ]
    }
   ],
   "source": [
    "#applying the neccessary preprocessing required for this data\n",
    "train_datagen = ImageDataGenerator(rescale=1./255, \n",
    "                                   featurewise_std_normalization=True,\n",
    "                                   samplewise_std_normalization=True,\n",
    "                                   brightness_range=[0.3,0.5],\n",
    "                                   zoom_range = 0.05, \n",
    "                                   horizontal_flip = True) \n",
    "\n",
    "validation_datagen = ImageDataGenerator(rescale=1./255, \n",
    "                                        featurewise_std_normalization=True,\n",
    "                                        samplewise_std_normalization=True,\n",
    "                                        brightness_range=[0.3,0.5],\n",
    "                                        zoom_range = 0.05, \n",
    "                                        horizontal_flip = True)\n",
    "\n",
    "test_datagen = ImageDataGenerator(rescale=1./255,\n",
    "                                  featurewise_std_normalization=True,\n",
    "                                  samplewise_std_normalization=True,\n",
    "                                  brightness_range=[0.3,0.5],\n",
    "                                  zoom_range = 0.05, \n",
    "                                  horizontal_flip = True)\n",
    "\n",
    "\n",
    "# Read the training sample and set the batch size \n",
    "train_generator = train_datagen.flow_from_directory(\n",
    "        'split/train/',\n",
    "        target_size=(128, 128),\n",
    "        batch_size=32,\n",
    "        seed=100,\n",
    "        class_mode='categorical')\n",
    "\n",
    "# Read Validation data from directory and define target size with batch size\n",
    "validation_generator = validation_datagen.flow_from_directory(\n",
    "        'split/val/',\n",
    "        target_size=(128, 128),\n",
    "        batch_size=32,\n",
    "        class_mode='categorical',\n",
    "        seed=500, \n",
    "        shuffle=False)\n",
    "\n",
    "# Read test data from directory and define target size with batch size\n",
    "test_generator = test_datagen.flow_from_directory(\n",
    "        'split/test/',\n",
    "        target_size=(128, 128),\n",
    "        batch_size=32,\n",
    "        seed=1000,\n",
    "        class_mode='categorical',\n",
    "        shuffle=False)  "
   ]
  },
  {
   "cell_type": "markdown",
   "metadata": {
    "id": "ITEQZMJHfqbO"
   },
   "source": [
    "MODEL BUILDING"
   ]
  },
  {
   "cell_type": "markdown",
   "metadata": {
    "id": "YLMHOGGjDDYc"
   },
   "source": [
    "HYPERPARAMETER TUNING"
   ]
  },
  {
   "cell_type": "code",
   "execution_count": 7,
   "metadata": {
    "id": "tBHn5wKsd1Y5"
   },
   "outputs": [],
   "source": [
    "#importing the required packages\n",
    "from tensorflow.keras.models import Sequential \n",
    "from tensorflow.keras import regularizers \n",
    "from tensorflow.keras.applications.vgg19 import VGG19\n",
    "from tensorflow.keras.layers import Dense, Flatten, GlobalAveragePooling2D,BatchNormalization,Dropout,Conv2D,MaxPool2D      "
   ]
  },
  {
   "cell_type": "markdown",
   "metadata": {},
   "source": [
    "FREEZING THE MODEL"
   ]
  },
  {
   "cell_type": "code",
   "execution_count": 8,
   "metadata": {
    "id": "fMPvu-5Md1Y7"
   },
   "outputs": [],
   "source": [
    "#defining a function with all the hyperparameters for tuning  \n",
    "def model_builder(hp):    \n",
    "    #defining the hyperparameters units, dropout, lr and weight decay\n",
    "    hp_units = hp.Int('units', min_value=256, max_value=512, step=10)\n",
    "    hp_dropout = hp.Choice('drop_out', values=[0.2, 0.3, 0.5, 0.7, 0.8]) \n",
    "    hp_learning_rate = hp.Choice('learning_rate', values=[0.0001, 0.001, 0.01, 0.05, 0.1])\n",
    "    hp_weight_decay = hp.Choice('weight_decay', values=[0.0001, 0.001, 0.01, 0.05, 0.1])   \n",
    "    hp_weight_decay_2 = hp.Choice('weight_decay_2', values=[0.0001, 0.001, 0.01, 0.05, 0.1])  \n",
    "    # building a sequential model \n",
    "    model = Sequential()  \n",
    "    model.add(VGG19(include_top=False,input_tensor=None,input_shape=(128,128,3),\n",
    "                     pooling='avg',classes=4,weights='imagenet'))     \n",
    "    #freezing the pretrained layers\n",
    "    model.layers[0].trainable = False    \n",
    "    model.add(Flatten())  \n",
    "    model.add(Dropout(rate = hp_dropout))   \n",
    "    #fully connected layers\n",
    "    model.add(Dense(units = hp_units, activation='relu', kernel_regularizer=regularizers.l2(l2 = hp_weight_decay)))\n",
    "    model.add(Dense(128, activation='relu'))\n",
    "    model.add(Dense(64))\n",
    "    model.add(Dense(32, kernel_regularizer=regularizers.l2(l2 = hp_weight_decay_2)))\n",
    "    model.add(Dense(16, activation='relu'))\n",
    "    model.add(Dense(8))\n",
    "    model.add(Dense(4, activation='softmax'))\n",
    "    model.summary()  \n",
    "    \n",
    "                                     \n",
    "    model.compile(optimizer=keras.optimizers.Adam(learning_rate = hp_learning_rate),\n",
    "                  loss=keras.losses.CategoricalCrossentropy(from_logits=True),\n",
    "                  metrics=[['acc'], tf.keras.metrics.AUC(), tf.keras.metrics.Precision(), tf.keras.metrics.Recall()]) \n",
    "\n",
    "    return model   "
   ]
  },
  {
   "cell_type": "code",
   "execution_count": 9,
   "metadata": {
    "id": "ax5iRSAhXJ_I"
   },
   "outputs": [],
   "source": [
    "import keras_tuner as kt "
   ]
  },
  {
   "cell_type": "code",
   "execution_count": 10,
   "metadata": {
    "id": "zY475JOiW76I"
   },
   "outputs": [
    {
     "name": "stdout",
     "output_type": "stream",
     "text": [
      "Model: \"sequential\"\n",
      "_________________________________________________________________\n",
      "Layer (type)                 Output Shape              Param #   \n",
      "=================================================================\n",
      "vgg19 (Functional)           (None, 512)               20024384  \n",
      "_________________________________________________________________\n",
      "flatten (Flatten)            (None, 512)               0         \n",
      "_________________________________________________________________\n",
      "dropout (Dropout)            (None, 512)               0         \n",
      "_________________________________________________________________\n",
      "dense (Dense)                (None, 256)               131328    \n",
      "_________________________________________________________________\n",
      "dense_1 (Dense)              (None, 128)               32896     \n",
      "_________________________________________________________________\n",
      "dense_2 (Dense)              (None, 64)                8256      \n",
      "_________________________________________________________________\n",
      "dense_3 (Dense)              (None, 32)                2080      \n",
      "_________________________________________________________________\n",
      "dense_4 (Dense)              (None, 16)                528       \n",
      "_________________________________________________________________\n",
      "dense_5 (Dense)              (None, 8)                 136       \n",
      "_________________________________________________________________\n",
      "dense_6 (Dense)              (None, 4)                 36        \n",
      "=================================================================\n",
      "Total params: 20,199,644\n",
      "Trainable params: 175,260\n",
      "Non-trainable params: 20,024,384\n",
      "_________________________________________________________________\n"
     ]
    }
   ],
   "source": [
    "#creating a hyperband tuner using keras tuner \n",
    "tuner = kt.Hyperband(model_builder, \n",
    "                     objective='acc', \n",
    "                     max_epochs=10, \n",
    "                     hyperband_iterations=10,        \n",
    "                     factor=50,\n",
    "                     directory='alzheimer_vgg19_2',\n",
    "                     project_name='intro_to_kt')    "
   ]
  },
  {
   "cell_type": "code",
   "execution_count": 11,
   "metadata": {
    "id": "0P8Ct8VZXL-B"
   },
   "outputs": [],
   "source": [
    "#early stopping callback to stop the model when the loss shoots up \n",
    "stop_early = tf.keras.callbacks.EarlyStopping(monitor='loss', patience=3, mode = 'auto', restore_best_weights=True)    "
   ]
  },
  {
   "cell_type": "code",
   "execution_count": 12,
   "metadata": {
    "id": "Syofi2qiVkgi"
   },
   "outputs": [
    {
     "name": "stdout",
     "output_type": "stream",
     "text": [
      "Trial 20 Complete [00h 03m 43s]\n",
      "acc: 0.5010259747505188\n",
      "\n",
      "Best acc So Far: 0.5422366857528687\n",
      "Total elapsed time: 01h 15m 44s\n",
      "INFO:tensorflow:Oracle triggered exit\n",
      "best number of units for the dense layer 266\n",
      "best dropout 0.2\n",
      "best learning rate 0.0001\n",
      "best weight decay 0.0001\n",
      "best weight decay 2 0.1\n"
     ]
    }
   ],
   "source": [
    "#run the hyperband tuner\n",
    "tuner.search(train_generator, callbacks=[stop_early])    \n",
    "# Get the optimal hyperparameters\n",
    "best_hps=tuner.get_best_hyperparameters(num_trials=1)[0]\n",
    "print('best number of units for the dense layer', best_hps.get('units'))\n",
    "print('best dropout', best_hps.get('drop_out'))\n",
    "print('best learning rate', best_hps.get('learning_rate'))\n",
    "print('best weight decay', best_hps.get('weight_decay'))\n",
    "print('best weight decay 2', best_hps.get('weight_decay_2'))"
   ]
  },
  {
   "cell_type": "markdown",
   "metadata": {},
   "source": [
    "CREATING A NEW SEQUENTIAL MODEL"
   ]
  },
  {
   "cell_type": "code",
   "execution_count": 13,
   "metadata": {},
   "outputs": [
    {
     "name": "stdout",
     "output_type": "stream",
     "text": [
      "Model: \"sequential_1\"\n",
      "_________________________________________________________________\n",
      "Layer (type)                 Output Shape              Param #   \n",
      "=================================================================\n",
      "vgg19 (Functional)           (None, 512)               20024384  \n",
      "_________________________________________________________________\n",
      "flatten_1 (Flatten)          (None, 512)               0         \n",
      "_________________________________________________________________\n",
      "dropout_1 (Dropout)          (None, 512)               0         \n",
      "_________________________________________________________________\n",
      "dense_7 (Dense)              (None, 266)               136458    \n",
      "_________________________________________________________________\n",
      "dense_8 (Dense)              (None, 128)               34176     \n",
      "_________________________________________________________________\n",
      "dense_9 (Dense)              (None, 64)                8256      \n",
      "_________________________________________________________________\n",
      "dense_10 (Dense)             (None, 32)                2080      \n",
      "_________________________________________________________________\n",
      "dense_11 (Dense)             (None, 16)                528       \n",
      "_________________________________________________________________\n",
      "dense_12 (Dense)             (None, 8)                 136       \n",
      "_________________________________________________________________\n",
      "dense_13 (Dense)             (None, 4)                 36        \n",
      "=================================================================\n",
      "Total params: 20,206,054\n",
      "Trainable params: 181,670\n",
      "Non-trainable params: 20,024,384\n",
      "_________________________________________________________________\n"
     ]
    }
   ],
   "source": [
    "# building the final sequential model \n",
    "model = Sequential()  \n",
    "#adding VGG19 with the imagenet weights\n",
    "model.add(VGG19(include_top=False,input_tensor=None,input_shape=(128,128,3),\n",
    "                     pooling='avg',classes=4,weights='imagenet')) \n",
    "#freezing the pretrained layers\n",
    "model.layers[0].trainable = False\n",
    "#flattening the outputs of the model    \n",
    "model.add(Flatten())  \n",
    "#dropping out the a percentage of the model weights\n",
    "model.add(Dropout(rate = best_hps.get('drop_out')))   \n",
    "#fully connected layer\n",
    "model.add(Dense(units = best_hps.get('units'), activation='relu', \n",
    "                kernel_regularizer=regularizers.l2(l2 = best_hps.get('weight_decay'))))\n",
    "model.add(Dense(128, activation='relu'))\n",
    "model.add(Dense(64))\n",
    "model.add(Dense(32, kernel_regularizer=regularizers.l2(l2 = best_hps.get('weight_decay_2'))))\n",
    "model.add(Dense(16, activation='relu'))\n",
    "model.add(Dense(8))\n",
    "model.add(Dense(4, activation='softmax'))\n",
    "model.summary()                                      "
   ]
  },
  {
   "cell_type": "code",
   "execution_count": 14,
   "metadata": {},
   "outputs": [],
   "source": [
    "#compliling the model\n",
    "model.compile(optimizer=keras.optimizers.Adam(learning_rate = best_hps.get('learning_rate')),\n",
    "              loss=keras.losses.CategoricalCrossentropy(from_logits=True),\n",
    "              metrics=[['acc'], tf.keras.metrics.AUC(), tf.keras.metrics.Precision(), tf.keras.metrics.Recall()]) "
   ]
  },
  {
   "cell_type": "code",
   "execution_count": 15,
   "metadata": {},
   "outputs": [
    {
     "name": "stdout",
     "output_type": "stream",
     "text": [
      "Epoch 1/30\n",
      "182/182 [==============================] - 32s 166ms/step - loss: 5.0817 - acc: 0.4566 - auc_1: 0.7260 - precision_1: 0.6061 - recall_1: 0.0508 - val_loss: 4.5319 - val_acc: 0.5147 - val_auc_1: 0.8079 - val_precision_1: 0.7525 - val_recall_1: 0.2118\n",
      "Epoch 2/30\n",
      "182/182 [==============================] - 29s 160ms/step - loss: 4.2160 - acc: 0.5074 - auc_1: 0.7969 - precision_1: 0.5913 - recall_1: 0.2907 - val_loss: 3.8846 - val_acc: 0.5277 - val_auc_1: 0.8180 - val_precision_1: 0.6971 - val_recall_1: 0.3024\n",
      "Epoch 3/30\n",
      "182/182 [==============================] - 32s 173ms/step - loss: 3.6299 - acc: 0.5164 - auc_1: 0.8062 - precision_1: 0.6227 - recall_1: 0.3215 - val_loss: 3.3574 - val_acc: 0.5272 - val_auc_1: 0.8229 - val_precision_1: 0.6468 - val_recall_1: 0.3630\n",
      "Epoch 4/30\n",
      "182/182 [==============================] - 31s 168ms/step - loss: 3.1520 - acc: 0.5202 - auc_1: 0.8104 - precision_1: 0.6225 - recall_1: 0.3311 - val_loss: 2.9160 - val_acc: 0.5425 - val_auc_1: 0.8282 - val_precision_1: 0.6614 - val_recall_1: 0.3539\n",
      "Epoch 5/30\n",
      "182/182 [==============================] - 29s 161ms/step - loss: 2.7565 - acc: 0.5212 - auc_1: 0.8125 - precision_1: 0.6174 - recall_1: 0.3377 - val_loss: 2.5854 - val_acc: 0.5419 - val_auc_1: 0.8220 - val_precision_1: 0.6391 - val_recall_1: 0.2497\n",
      "Epoch 6/30\n",
      "182/182 [==============================] - 29s 160ms/step - loss: 2.4291 - acc: 0.5262 - auc_1: 0.8168 - precision_1: 0.6151 - recall_1: 0.3435 - val_loss: 2.2606 - val_acc: 0.5374 - val_auc_1: 0.8299 - val_precision_1: 0.6466 - val_recall_1: 0.3822\n",
      "Epoch 7/30\n",
      "182/182 [==============================] - 29s 160ms/step - loss: 2.1625 - acc: 0.5342 - auc_1: 0.8194 - precision_1: 0.6212 - recall_1: 0.3485 - val_loss: 2.0198 - val_acc: 0.5453 - val_auc_1: 0.8323 - val_precision_1: 0.6615 - val_recall_1: 0.3652\n",
      "Epoch 8/30\n",
      "182/182 [==============================] - 29s 160ms/step - loss: 1.9382 - acc: 0.5422 - auc_1: 0.8248 - precision_1: 0.6436 - recall_1: 0.3526 - val_loss: 1.8185 - val_acc: 0.5504 - val_auc_1: 0.8390 - val_precision_1: 0.7372 - val_recall_1: 0.3097\n",
      "Epoch 9/30\n",
      "182/182 [==============================] - 29s 158ms/step - loss: 1.7650 - acc: 0.5398 - auc_1: 0.8241 - precision_1: 0.6526 - recall_1: 0.3321 - val_loss: 1.6650 - val_acc: 0.5442 - val_auc_1: 0.8338 - val_precision_1: 0.6421 - val_recall_1: 0.3851\n",
      "Epoch 10/30\n",
      "182/182 [==============================] - 29s 159ms/step - loss: 1.6185 - acc: 0.5496 - auc_1: 0.8269 - precision_1: 0.6504 - recall_1: 0.3435 - val_loss: 1.5320 - val_acc: 0.5493 - val_auc_1: 0.8391 - val_precision_1: 0.7455 - val_recall_1: 0.3052\n",
      "Epoch 11/30\n",
      "182/182 [==============================] - 29s 160ms/step - loss: 1.5068 - acc: 0.5404 - auc_1: 0.8254 - precision_1: 0.6520 - recall_1: 0.3275 - val_loss: 1.4261 - val_acc: 0.5470 - val_auc_1: 0.8367 - val_precision_1: 0.6600 - val_recall_1: 0.3715\n",
      "Epoch 12/30\n",
      "182/182 [==============================] - 29s 161ms/step - loss: 1.4154 - acc: 0.5397 - auc_1: 0.8258 - precision_1: 0.6714 - recall_1: 0.3235 - val_loss: 1.3487 - val_acc: 0.5396 - val_auc_1: 0.8350 - val_precision_1: 0.6449 - val_recall_1: 0.3856\n",
      "Epoch 13/30\n",
      "182/182 [==============================] - 36s 195ms/step - loss: 1.3355 - acc: 0.5419 - auc_1: 0.8280 - precision_1: 0.6657 - recall_1: 0.3228 - val_loss: 1.2716 - val_acc: 0.5521 - val_auc_1: 0.8396 - val_precision_1: 0.7143 - val_recall_1: 0.3341\n",
      "Epoch 14/30\n",
      "182/182 [==============================] - 31s 170ms/step - loss: 1.2763 - acc: 0.5455 - auc_1: 0.8277 - precision_1: 0.6767 - recall_1: 0.3239 - val_loss: 1.2197 - val_acc: 0.5498 - val_auc_1: 0.8407 - val_precision_1: 0.7188 - val_recall_1: 0.3228\n",
      "Epoch 15/30\n",
      "182/182 [==============================] - 28s 154ms/step - loss: 1.2283 - acc: 0.5412 - auc_1: 0.8276 - precision_1: 0.6711 - recall_1: 0.3186 - val_loss: 1.1777 - val_acc: 0.5595 - val_auc_1: 0.8415 - val_precision_1: 0.7287 - val_recall_1: 0.3103\n",
      "Epoch 16/30\n",
      "182/182 [==============================] - 29s 157ms/step - loss: 1.1877 - acc: 0.5412 - auc_1: 0.8289 - precision_1: 0.6741 - recall_1: 0.3225 - val_loss: 1.1372 - val_acc: 0.5572 - val_auc_1: 0.8418 - val_precision_1: 0.6917 - val_recall_1: 0.3392\n",
      "Epoch 17/30\n",
      "182/182 [==============================] - 28s 155ms/step - loss: 1.1534 - acc: 0.5467 - auc_1: 0.8302 - precision_1: 0.6777 - recall_1: 0.3225 - val_loss: 1.1115 - val_acc: 0.5447 - val_auc_1: 0.8390 - val_precision_1: 0.6624 - val_recall_1: 0.3766\n",
      "Epoch 18/30\n",
      "182/182 [==============================] - 28s 156ms/step - loss: 1.1285 - acc: 0.5443 - auc_1: 0.8297 - precision_1: 0.6759 - recall_1: 0.3199 - val_loss: 1.0844 - val_acc: 0.5566 - val_auc_1: 0.8409 - val_precision_1: 0.6728 - val_recall_1: 0.3726\n",
      "Epoch 19/30\n",
      "182/182 [==============================] - 30s 163ms/step - loss: 1.1060 - acc: 0.5513 - auc_1: 0.8310 - precision_1: 0.6798 - recall_1: 0.3235 - val_loss: 1.0742 - val_acc: 0.5561 - val_auc_1: 0.8436 - val_precision_1: 0.7594 - val_recall_1: 0.2967\n",
      "Epoch 20/30\n",
      "182/182 [==============================] - 28s 155ms/step - loss: 1.0883 - acc: 0.5410 - auc_1: 0.8304 - precision_1: 0.6879 - recall_1: 0.3174 - val_loss: 1.0491 - val_acc: 0.5532 - val_auc_1: 0.8421 - val_precision_1: 0.7029 - val_recall_1: 0.3443\n",
      "Epoch 21/30\n",
      "182/182 [==============================] - 28s 156ms/step - loss: 1.0780 - acc: 0.5513 - auc_1: 0.8299 - precision_1: 0.6781 - recall_1: 0.3170 - val_loss: 1.0332 - val_acc: 0.5578 - val_auc_1: 0.8434 - val_precision_1: 0.6999 - val_recall_1: 0.3460\n",
      "Epoch 22/30\n",
      "182/182 [==============================] - 28s 156ms/step - loss: 1.0611 - acc: 0.5429 - auc_1: 0.8313 - precision_1: 0.6858 - recall_1: 0.3203 - val_loss: 1.0375 - val_acc: 0.5657 - val_auc_1: 0.8442 - val_precision_1: 0.7990 - val_recall_1: 0.2678\n",
      "Epoch 23/30\n",
      "182/182 [==============================] - 29s 160ms/step - loss: 1.0461 - acc: 0.5532 - auc_1: 0.8340 - precision_1: 0.6850 - recall_1: 0.3213 - val_loss: 1.0118 - val_acc: 0.5730 - val_auc_1: 0.8492 - val_precision_1: 0.7607 - val_recall_1: 0.3024\n",
      "Epoch 24/30\n",
      "182/182 [==============================] - 30s 162ms/step - loss: 1.0387 - acc: 0.5571 - auc_1: 0.8337 - precision_1: 0.6832 - recall_1: 0.3259 - val_loss: 0.9998 - val_acc: 0.5691 - val_auc_1: 0.8472 - val_precision_1: 0.7272 - val_recall_1: 0.3245\n",
      "Epoch 25/30\n",
      "182/182 [==============================] - 29s 160ms/step - loss: 1.0320 - acc: 0.5453 - auc_1: 0.8330 - precision_1: 0.6852 - recall_1: 0.3182 - val_loss: 0.9989 - val_acc: 0.5708 - val_auc_1: 0.8487 - val_precision_1: 0.7756 - val_recall_1: 0.2956\n",
      "Epoch 26/30\n",
      "182/182 [==============================] - 29s 159ms/step - loss: 1.0256 - acc: 0.5491 - auc_1: 0.8331 - precision_1: 0.6916 - recall_1: 0.3179 - val_loss: 0.9835 - val_acc: 0.5634 - val_auc_1: 0.8470 - val_precision_1: 0.7025 - val_recall_1: 0.3664\n",
      "Epoch 27/30\n",
      "182/182 [==============================] - 29s 160ms/step - loss: 1.0187 - acc: 0.5508 - auc_1: 0.8335 - precision_1: 0.6899 - recall_1: 0.3169 - val_loss: 0.9780 - val_acc: 0.5595 - val_auc_1: 0.8467 - val_precision_1: 0.6946 - val_recall_1: 0.3567\n",
      "Epoch 28/30\n",
      "182/182 [==============================] - 28s 152ms/step - loss: 1.0114 - acc: 0.5472 - auc_1: 0.8336 - precision_1: 0.6895 - recall_1: 0.3213 - val_loss: 0.9795 - val_acc: 0.5589 - val_auc_1: 0.8481 - val_precision_1: 0.7625 - val_recall_1: 0.2928\n",
      "Epoch 29/30\n",
      "182/182 [==============================] - 29s 159ms/step - loss: 1.0031 - acc: 0.5544 - auc_1: 0.8365 - precision_1: 0.6946 - recall_1: 0.3299 - val_loss: 0.9673 - val_acc: 0.5646 - val_auc_1: 0.8480 - val_precision_1: 0.7190 - val_recall_1: 0.3448\n",
      "Epoch 30/30\n",
      "182/182 [==============================] - 29s 159ms/step - loss: 1.0009 - acc: 0.5540 - auc_1: 0.8359 - precision_1: 0.6813 - recall_1: 0.3287 - val_loss: 0.9588 - val_acc: 0.5612 - val_auc_1: 0.8501 - val_precision_1: 0.7182 - val_recall_1: 0.3448\n"
     ]
    }
   ],
   "source": [
    "#training the model\n",
    "history = model.fit(train_generator, \n",
    "      steps_per_epoch=train_generator.samples/train_generator.batch_size,\n",
    "      epochs=30, \n",
    "      validation_data=validation_generator, \n",
    "      validation_steps=validation_generator.samples/validation_generator.batch_size,\n",
    "      verbose=1)   "
   ]
  },
  {
   "cell_type": "markdown",
   "metadata": {},
   "source": [
    "UNFREEZING THE MODEL"
   ]
  },
  {
   "cell_type": "code",
   "execution_count": 16,
   "metadata": {},
   "outputs": [
    {
     "name": "stdout",
     "output_type": "stream",
     "text": [
      "Model: \"sequential_1\"\n",
      "_________________________________________________________________\n",
      "Layer (type)                 Output Shape              Param #   \n",
      "=================================================================\n",
      "vgg19 (Functional)           (None, 512)               20024384  \n",
      "_________________________________________________________________\n",
      "flatten_1 (Flatten)          (None, 512)               0         \n",
      "_________________________________________________________________\n",
      "dropout_1 (Dropout)          (None, 512)               0         \n",
      "_________________________________________________________________\n",
      "dense_7 (Dense)              (None, 266)               136458    \n",
      "_________________________________________________________________\n",
      "dense_8 (Dense)              (None, 128)               34176     \n",
      "_________________________________________________________________\n",
      "dense_9 (Dense)              (None, 64)                8256      \n",
      "_________________________________________________________________\n",
      "dense_10 (Dense)             (None, 32)                2080      \n",
      "_________________________________________________________________\n",
      "dense_11 (Dense)             (None, 16)                528       \n",
      "_________________________________________________________________\n",
      "dense_12 (Dense)             (None, 8)                 136       \n",
      "_________________________________________________________________\n",
      "dense_13 (Dense)             (None, 4)                 36        \n",
      "=================================================================\n",
      "Total params: 20,206,054\n",
      "Trainable params: 20,206,054\n",
      "Non-trainable params: 0\n",
      "_________________________________________________________________\n"
     ]
    }
   ],
   "source": [
    "#unfreezing the pretrained layers\n",
    "model.layers[0].trainable = True\n",
    "model.summary()"
   ]
  },
  {
   "cell_type": "code",
   "execution_count": 17,
   "metadata": {},
   "outputs": [],
   "source": [
    "#compliling the model\n",
    "model.compile(optimizer=keras.optimizers.Adam(learning_rate = best_hps.get('learning_rate')),\n",
    "              loss=keras.losses.CategoricalCrossentropy(from_logits=True),\n",
    "              metrics=[['acc'], tf.keras.metrics.AUC(), tf.keras.metrics.Precision(), tf.keras.metrics.Recall()]) "
   ]
  },
  {
   "cell_type": "code",
   "execution_count": 18,
   "metadata": {
    "scrolled": true
   },
   "outputs": [
    {
     "name": "stdout",
     "output_type": "stream",
     "text": [
      "Epoch 1/30\n",
      "182/182 [==============================] - 38s 181ms/step - loss: 1.1392 - acc: 0.4935 - auc_2: 0.7784 - precision_2: 0.5013 - recall_2: 0.2045 - val_loss: 1.1114 - val_acc: 0.5068 - val_auc_2: 0.8008 - val_precision_2: 0.0000e+00 - val_recall_2: 0.0000e+00\n",
      "Epoch 2/30\n",
      "182/182 [==============================] - 32s 174ms/step - loss: 1.1016 - acc: 0.4983 - auc_2: 0.7861 - precision_2: 0.5347 - recall_2: 0.2202 - val_loss: 1.0910 - val_acc: 0.5068 - val_auc_2: 0.7934 - val_precision_2: 0.5077 - val_recall_2: 0.5068\n",
      "Epoch 3/30\n",
      "182/182 [==============================] - 32s 173ms/step - loss: 1.0888 - acc: 0.5002 - auc_2: 0.7880 - precision_2: 0.5372 - recall_2: 0.2380 - val_loss: 1.0184 - val_acc: 0.5119 - val_auc_2: 0.8235 - val_precision_2: 0.6032 - val_recall_2: 0.4054\n",
      "Epoch 4/30\n",
      "182/182 [==============================] - 31s 168ms/step - loss: 0.9966 - acc: 0.5385 - auc_2: 0.8263 - precision_2: 0.7162 - recall_2: 0.2779 - val_loss: 0.9554 - val_acc: 0.5685 - val_auc_2: 0.8451 - val_precision_2: 0.8409 - val_recall_2: 0.2514\n",
      "Epoch 5/30\n",
      "182/182 [==============================] - 31s 171ms/step - loss: 0.9497 - acc: 0.5525 - auc_2: 0.8401 - precision_2: 0.7578 - recall_2: 0.2890 - val_loss: 0.9189 - val_acc: 0.5719 - val_auc_2: 0.8575 - val_precision_2: 0.8738 - val_recall_2: 0.2588\n",
      "Epoch 6/30\n",
      "182/182 [==============================] - 32s 174ms/step - loss: 0.9288 - acc: 0.5658 - auc_2: 0.8464 - precision_2: 0.7535 - recall_2: 0.2958 - val_loss: 0.8882 - val_acc: 0.5804 - val_auc_2: 0.8652 - val_precision_2: 0.8656 - val_recall_2: 0.2809\n",
      "Epoch 7/30\n",
      "182/182 [==============================] - 32s 177ms/step - loss: 0.8827 - acc: 0.5804 - auc_2: 0.8610 - precision_2: 0.7538 - recall_2: 0.3451 - val_loss: 0.8545 - val_acc: 0.5929 - val_auc_2: 0.8708 - val_precision_2: 0.8326 - val_recall_2: 0.3069\n",
      "Epoch 8/30\n",
      "182/182 [==============================] - 33s 177ms/step - loss: 0.8533 - acc: 0.5954 - auc_2: 0.8702 - precision_2: 0.7507 - recall_2: 0.3866 - val_loss: 0.8046 - val_acc: 0.6048 - val_auc_2: 0.8835 - val_precision_2: 0.7078 - val_recall_2: 0.4773\n",
      "Epoch 9/30\n",
      "182/182 [==============================] - 32s 175ms/step - loss: 0.8328 - acc: 0.6060 - auc_2: 0.8776 - precision_2: 0.7375 - recall_2: 0.4400 - val_loss: 0.7914 - val_acc: 0.6251 - val_auc_2: 0.8894 - val_precision_2: 0.7023 - val_recall_2: 0.5249\n",
      "Epoch 10/30\n",
      "182/182 [==============================] - 31s 170ms/step - loss: 0.7843 - acc: 0.6385 - auc_2: 0.8931 - precision_2: 0.7291 - recall_2: 0.4944 - val_loss: 0.7230 - val_acc: 0.6636 - val_auc_2: 0.9122 - val_precision_2: 0.7879 - val_recall_2: 0.5215\n",
      "Epoch 11/30\n",
      "182/182 [==============================] - 31s 169ms/step - loss: 0.7285 - acc: 0.6729 - auc_2: 0.9099 - precision_2: 0.7490 - recall_2: 0.5751 - val_loss: 0.6222 - val_acc: 0.7452 - val_auc_2: 0.9407 - val_precision_2: 0.8287 - val_recall_2: 0.6189\n",
      "Epoch 12/30\n",
      "182/182 [==============================] - 31s 169ms/step - loss: 0.6842 - acc: 0.7009 - auc_2: 0.9220 - precision_2: 0.7640 - recall_2: 0.6212 - val_loss: 0.6629 - val_acc: 0.6846 - val_auc_2: 0.9217 - val_precision_2: 0.7496 - val_recall_2: 0.5612\n",
      "Epoch 13/30\n",
      "182/182 [==============================] - 31s 169ms/step - loss: 0.6195 - acc: 0.7469 - auc_2: 0.9375 - precision_2: 0.7840 - recall_2: 0.6891 - val_loss: 0.5392 - val_acc: 0.7967 - val_auc_2: 0.9567 - val_precision_2: 0.8286 - val_recall_2: 0.7361\n",
      "Epoch 14/30\n",
      "182/182 [==============================] - 31s 169ms/step - loss: 0.5271 - acc: 0.7842 - auc_2: 0.9551 - precision_2: 0.8095 - recall_2: 0.7507 - val_loss: 0.5454 - val_acc: 0.7724 - val_auc_2: 0.9518 - val_precision_2: 0.7942 - val_recall_2: 0.7582\n",
      "Epoch 15/30\n",
      "182/182 [==============================] - 31s 167ms/step - loss: 0.4935 - acc: 0.8105 - auc_2: 0.9609 - precision_2: 0.8289 - recall_2: 0.7845 - val_loss: 0.3678 - val_acc: 0.8641 - val_auc_2: 0.9792 - val_precision_2: 0.8718 - val_recall_2: 0.8584\n",
      "Epoch 16/30\n",
      "182/182 [==============================] - 31s 172ms/step - loss: 0.4290 - acc: 0.8379 - auc_2: 0.9709 - precision_2: 0.8514 - recall_2: 0.8240 - val_loss: 0.2969 - val_acc: 0.8981 - val_auc_2: 0.9868 - val_precision_2: 0.9002 - val_recall_2: 0.8941\n",
      "Epoch 17/30\n",
      "182/182 [==============================] - 31s 169ms/step - loss: 0.3484 - acc: 0.8743 - auc_2: 0.9811 - precision_2: 0.8822 - recall_2: 0.8647 - val_loss: 0.3454 - val_acc: 0.8766 - val_auc_2: 0.9810 - val_precision_2: 0.8803 - val_recall_2: 0.8749\n",
      "Epoch 18/30\n",
      "182/182 [==============================] - 31s 167ms/step - loss: 0.3192 - acc: 0.8875 - auc_2: 0.9843 - precision_2: 0.8969 - recall_2: 0.8817 - val_loss: 0.2376 - val_acc: 0.9151 - val_auc_2: 0.9917 - val_precision_2: 0.9235 - val_recall_2: 0.9088\n",
      "Epoch 19/30\n",
      "182/182 [==============================] - 31s 169ms/step - loss: 0.2524 - acc: 0.9150 - auc_2: 0.9901 - precision_2: 0.9218 - recall_2: 0.9094 - val_loss: 0.3796 - val_acc: 0.8664 - val_auc_2: 0.9788 - val_precision_2: 0.8704 - val_recall_2: 0.8630\n",
      "Epoch 20/30\n",
      "182/182 [==============================] - 31s 169ms/step - loss: 0.2338 - acc: 0.9191 - auc_2: 0.9916 - precision_2: 0.9251 - recall_2: 0.9150 - val_loss: 0.1724 - val_acc: 0.9394 - val_auc_2: 0.9958 - val_precision_2: 0.9442 - val_recall_2: 0.9383\n",
      "Epoch 21/30\n",
      "182/182 [==============================] - 31s 168ms/step - loss: 0.1786 - acc: 0.9441 - auc_2: 0.9951 - precision_2: 0.9476 - recall_2: 0.9398 - val_loss: 0.1641 - val_acc: 0.9445 - val_auc_2: 0.9964 - val_precision_2: 0.9476 - val_recall_2: 0.9417\n",
      "Epoch 22/30\n",
      "182/182 [==============================] - 31s 170ms/step - loss: 0.1906 - acc: 0.9355 - auc_2: 0.9944 - precision_2: 0.9388 - recall_2: 0.9304 - val_loss: 0.1586 - val_acc: 0.9490 - val_auc_2: 0.9966 - val_precision_2: 0.9505 - val_recall_2: 0.9462\n",
      "Epoch 23/30\n",
      "182/182 [==============================] - 31s 170ms/step - loss: 0.1365 - acc: 0.9590 - auc_2: 0.9973 - precision_2: 0.9602 - recall_2: 0.9576 - val_loss: 0.1690 - val_acc: 0.9445 - val_auc_2: 0.9954 - val_precision_2: 0.9460 - val_recall_2: 0.9428\n",
      "Epoch 24/30\n",
      "182/182 [==============================] - 31s 169ms/step - loss: 0.1357 - acc: 0.9596 - auc_2: 0.9973 - precision_2: 0.9603 - recall_2: 0.9584 - val_loss: 0.1387 - val_acc: 0.9587 - val_auc_2: 0.9964 - val_precision_2: 0.9592 - val_recall_2: 0.9581\n",
      "Epoch 25/30\n",
      "182/182 [==============================] - 31s 169ms/step - loss: 0.1179 - acc: 0.9648 - auc_2: 0.9979 - precision_2: 0.9654 - recall_2: 0.9644 - val_loss: 0.1947 - val_acc: 0.9371 - val_auc_2: 0.9928 - val_precision_2: 0.9382 - val_recall_2: 0.9366\n",
      "Epoch 26/30\n",
      "182/182 [==============================] - 30s 166ms/step - loss: 0.1297 - acc: 0.9624 - auc_2: 0.9971 - precision_2: 0.9642 - recall_2: 0.9612 - val_loss: 0.1126 - val_acc: 0.9655 - val_auc_2: 0.9982 - val_precision_2: 0.9671 - val_recall_2: 0.9649\n",
      "Epoch 27/30\n",
      "182/182 [==============================] - 32s 175ms/step - loss: 0.0845 - acc: 0.9781 - auc_2: 0.9989 - precision_2: 0.9786 - recall_2: 0.9776 - val_loss: 0.2099 - val_acc: 0.9388 - val_auc_2: 0.9934 - val_precision_2: 0.9388 - val_recall_2: 0.9383\n",
      "Epoch 28/30\n",
      "182/182 [==============================] - 35s 193ms/step - loss: 0.0999 - acc: 0.9701 - auc_2: 0.9986 - precision_2: 0.9704 - recall_2: 0.9699 - val_loss: 0.0758 - val_acc: 0.9836 - val_auc_2: 0.9986 - val_precision_2: 0.9836 - val_recall_2: 0.9836\n",
      "Epoch 29/30\n",
      "182/182 [==============================] - 33s 182ms/step - loss: 0.1125 - acc: 0.9685 - auc_2: 0.9981 - precision_2: 0.9687 - recall_2: 0.9680 - val_loss: 0.1304 - val_acc: 0.9570 - val_auc_2: 0.9971 - val_precision_2: 0.9569 - val_recall_2: 0.9564\n",
      "Epoch 30/30\n",
      "182/182 [==============================] - 37s 203ms/step - loss: 0.1000 - acc: 0.9716 - auc_2: 0.9983 - precision_2: 0.9717 - recall_2: 0.9704 - val_loss: 0.0672 - val_acc: 0.9847 - val_auc_2: 0.9988 - val_precision_2: 0.9847 - val_recall_2: 0.9847\n"
     ]
    }
   ],
   "source": [
    "#training the model\n",
    "history = model.fit(train_generator, \n",
    "      steps_per_epoch=train_generator.samples/train_generator.batch_size,\n",
    "      epochs=30, \n",
    "      validation_data=validation_generator, \n",
    "      validation_steps=validation_generator.samples/validation_generator.batch_size,\n",
    "      verbose=1)  "
   ]
  },
  {
   "cell_type": "markdown",
   "metadata": {
    "id": "-YZeZC_qqazZ"
   },
   "source": [
    "SAVING THE MODEL AND ITS WEIGHTS AFTER HYPERPARAMETER TUNING"
   ]
  },
  {
   "cell_type": "code",
   "execution_count": 19,
   "metadata": {
    "id": "ldwQxrwPrWvW"
   },
   "outputs": [
    {
     "name": "stdout",
     "output_type": "stream",
     "text": [
      "INFO:tensorflow:Assets written to: \\Users\\vvsat\\Documents\\machine learning\\Alzheimer_s\\models\\save\\vgg19_after_hpt\\assets\n"
     ]
    }
   ],
   "source": [
    "#saving the model in both hdf5 and normal format\n",
    "model.save('\\\\Users\\\\vvsat\\\\Documents\\\\machine learning\\\\Alzheimer_s\\\\models\\\\save\\\\vgg19_after_hpt')  "
   ]
  },
  {
   "cell_type": "code",
   "execution_count": 20,
   "metadata": {
    "id": "lU3_Py4Tqazj"
   },
   "outputs": [],
   "source": [
    "#saving the model in both hdf5 and normal format\n",
    "model.save('model_after_hpt_vgg19.h5')  "
   ]
  },
  {
   "cell_type": "code",
   "execution_count": 21,
   "metadata": {
    "id": "VkcD3i33sLKh",
    "scrolled": false
   },
   "outputs": [],
   "source": [
    "#loading the model\n",
    "#model = keras.models.load_model('model_after_hpt_resnet50.h5') "
   ]
  },
  {
   "cell_type": "markdown",
   "metadata": {
    "id": "V8v_lEvcHpSr"
   },
   "source": [
    "PLOTTING THE GRAPHS"
   ]
  },
  {
   "cell_type": "code",
   "execution_count": 22,
   "metadata": {
    "id": "3oKDhC-QmvFE"
   },
   "outputs": [],
   "source": [
    "train_acc = history.history['acc'] \n",
    "val_acc = history.history['val_acc']\n",
    "train_loss = history.history['loss'] \n",
    "val_loss = history.history['val_loss'] \n",
    "train_precision = history.history['precision_2'] \n",
    "val_precision = history.history['val_precision_2'] \n",
    "train_recall = history.history['recall_2']\n",
    "val_recall = history.history['val_recall_2']\n",
    "train_auc = history.history['auc_2']\n",
    "val_auc = history.history['val_auc_2'] "
   ]
  },
  {
   "cell_type": "code",
   "execution_count": 23,
   "metadata": {
    "id": "-My1lI9qmvF6"
   },
   "outputs": [
    {
     "data": {
      "image/png": "[encoded data removed]",
      "text/plain": [
       "<Figure size 432x288 with 1 Axes>"
      ]
     },
     "metadata": {
      "needs_background": "light"
     },
     "output_type": "display_data"
    },
    {
     "data": {
      "text/plain": [
       "<Figure size 432x288 with 0 Axes>"
      ]
     },
     "metadata": {},
     "output_type": "display_data"
    },
    {
     "data": {
      "image/png": "[encoded data removed]",
      "text/plain": [
       "<Figure size 432x288 with 1 Axes>"
      ]
     },
     "metadata": {
      "needs_background": "light"
     },
     "output_type": "display_data"
    },
    {
     "data": {
      "image/png": "[encoded data removed]",
      "text/plain": [
       "<Figure size 432x288 with 1 Axes>"
      ]
     },
     "metadata": {
      "needs_background": "light"
     },
     "output_type": "display_data"
    },
    {
     "data": {
      "image/png": "[encoded data removed]",
      "text/plain": [
       "<Figure size 432x288 with 1 Axes>"
      ]
     },
     "metadata": {
      "needs_background": "light"
     },
     "output_type": "display_data"
    },
    {
     "data": {
      "image/png": "[encoded data removed]",
      "text/plain": [
       "<Figure size 432x288 with 1 Axes>"
      ]
     },
     "metadata": {
      "needs_background": "light"
     },
     "output_type": "display_data"
    }
   ],
   "source": [
    "epochs = range(len(train_acc)) \n",
    "plt.plot(epochs, train_acc, 'b', label='Training Accuracy')\n",
    "plt.plot(epochs, val_acc, 'r', label='Validation Accuracy')\n",
    "plt.title('Training and Validation Accuracy')\n",
    "plt.legend()\n",
    "plt.figure()\n",
    "plt.show()\n",
    "\n",
    "plt.plot(epochs, train_loss, 'b', label='Training Loss')\n",
    "plt.plot(epochs, val_loss, 'r', label='Validation Loss')\n",
    "plt.title('Training and Validation Loss')\n",
    "plt.legend()\n",
    "plt.show()\n",
    "\n",
    "plt.plot(epochs, train_precision, 'b', label='training precision')\n",
    "plt.plot(epochs, val_precision, 'r', label='valid precision')\n",
    "plt.title('Training and Validation precision')\n",
    "plt.legend()\n",
    "plt.show()\n",
    "\n",
    "plt.plot(epochs, train_recall, 'b', label='training recall')\n",
    "plt.plot(epochs, val_recall, 'r', label='valid recall')\n",
    "plt.title('Training and Validation recall')\n",
    "plt.legend()\n",
    "plt.show() \n",
    "\n",
    "plt.plot(epochs, train_auc, 'b', label='training auc')\n",
    "plt.plot(epochs, val_auc, 'r', label='valid auc')\n",
    "plt.title('Training and Validation auc curve')\n",
    "plt.legend()\n",
    "plt.show()"
   ]
  },
  {
   "cell_type": "markdown",
   "metadata": {
    "id": "CmGyOuglHnA5"
   },
   "source": [
    "TESTING THE MODEL"
   ]
  },
  {
   "cell_type": "code",
   "execution_count": 24,
   "metadata": {},
   "outputs": [
    {
     "name": "stderr",
     "output_type": "stream",
     "text": [
      "C:\\Users\\vvsat\\anaconda3\\envs\\tf-gpu\\lib\\site-packages\\keras_preprocessing\\image\\image_data_generator.py:720: UserWarning: This ImageDataGenerator specifies `featurewise_center`, but it hasn't been fit on any training data. Fit it first by calling `.fit(numpy_data)`.\n",
      "  warnings.warn('This ImageDataGenerator specifies '\n",
      "C:\\Users\\vvsat\\anaconda3\\envs\\tf-gpu\\lib\\site-packages\\keras_preprocessing\\image\\image_data_generator.py:728: UserWarning: This ImageDataGenerator specifies `featurewise_std_normalization`, but it hasn't been fit on any training data. Fit it first by calling `.fit(numpy_data)`.\n",
      "  warnings.warn('This ImageDataGenerator specifies '\n"
     ]
    },
    {
     "name": "stdout",
     "output_type": "stream",
     "text": [
      "56/56 [==============================] - 10s 174ms/step - loss: 0.0705 - acc: 0.9821 - auc_2: 0.9995 - precision_2: 0.9821 - recall_2: 0.9821\n",
      "[test loss, test accuracy]: [0.07046705484390259, 0.9820929169654846, 0.9994753003120422, 0.9820929169654846, 0.9820929169654846]\n"
     ]
    }
   ],
   "source": [
    "#testing the hypermodel on the test dataset\n",
    "eval_result = model.evaluate(test_generator)\n",
    "print(\"[test loss, test accuracy]:\", eval_result)  "
   ]
  },
  {
   "cell_type": "markdown",
   "metadata": {
    "id": "ZPQETN8jW-CS"
   },
   "source": [
    "CLASSIFICATION REPORTS AND CONFUSION MATRIX"
   ]
  },
  {
   "cell_type": "code",
   "execution_count": 34,
   "metadata": {},
   "outputs": [],
   "source": [
    "from sklearn.metrics import confusion_matrix, classification_report"
   ]
  },
  {
   "cell_type": "code",
   "execution_count": 26,
   "metadata": {},
   "outputs": [],
   "source": [
    "#Confution Matrix and Classification Report\n",
    "batch_size = 32\n",
    "#developing the predictions for the test dataset\n",
    "Y_pred = model.predict(test_generator, test_generator.samples // batch_size+1)\n",
    "y_pred = np.argmax(Y_pred, axis=1) "
   ]
  },
  {
   "cell_type": "code",
   "execution_count": 27,
   "metadata": {},
   "outputs": [
    {
     "data": {
      "text/plain": [
       "<AxesSubplot:>"
      ]
     },
     "execution_count": 27,
     "metadata": {},
     "output_type": "execute_result"
    },
    {
     "data": {
      "image/png": "[encoded data removed]",
      "text/plain": [
       "<Figure size 1080x720 with 2 Axes>"
      ]
     },
     "metadata": {
      "needs_background": "light"
     },
     "output_type": "display_data"
    }
   ],
   "source": [
    "#displaying the confusion matrix\n",
    "cf_matrix = confusion_matrix(test_generator.classes, y_pred)\n",
    "fig, ax = plt.subplots(figsize=(15,10)) \n",
    "sns.heatmap(cf_matrix, linewidths=1, annot=True, ax=ax, fmt='g') "
   ]
  },
  {
   "cell_type": "code",
   "execution_count": 35,
   "metadata": {},
   "outputs": [
    {
     "name": "stdout",
     "output_type": "stream",
     "text": [
      "Classification Report\n",
      "                  precision    recall  f1-score   support\n",
      "\n",
      "    MildDemented       0.97      0.98      0.97       254\n",
      "ModerateDemented       1.00      0.86      0.93        22\n",
      "     NonDemented       0.99      0.99      0.99       889\n",
      "VeryMildDemented       0.97      0.99      0.98       622\n",
      "\n",
      "        accuracy                           0.98      1787\n",
      "       macro avg       0.98      0.95      0.97      1787\n",
      "    weighted avg       0.98      0.98      0.98      1787\n",
      "\n"
     ]
    }
   ],
   "source": [
    "#Classification Report\n",
    "print('Classification Report') \n",
    "target_names = disease_cls\n",
    "print(classification_report(test_generator.classes, y_pred, target_names=target_names)) "
   ]
  },
  {
   "cell_type": "code",
   "execution_count": 32,
   "metadata": {},
   "outputs": [
    {
     "name": "stdout",
     "output_type": "stream",
     "text": [
      "INFO:tensorflow:Assets written to: \\Users\\vvsat\\Documents\\machine learning\\Alzheimer_s\\models\\assets\n"
     ]
    }
   ],
   "source": [
    "tf.keras.models.save_model(model, \"\\\\Users\\\\vvsat\\\\Documents\\\\machine learning\\\\Alzheimer_s\\\\models\")"
   ]
  }
 ],
 "metadata": {
  "accelerator": "GPU",
  "colab": {
   "authorship_tag": "ABX9TyOY6ZEJhB2lP0ZoEQ73k5KI",
   "collapsed_sections": [],
   "name": "alzheimer classifier resnet50.ipynb",
   "provenance": []
  },
  "kernelspec": {
   "display_name": "Python 3 (ipykernel)",
   "language": "python",
   "name": "python3"
  },
  "language_info": {
   "codemirror_mode": {
    "name": "ipython",
    "version": 3
   },
   "file_extension": ".py",
   "mimetype": "text/x-python",
   "name": "python",
   "nbconvert_exporter": "python",
   "pygments_lexer": "ipython3",
   "version": "3.9.7"
  }
 },
 "nbformat": 4,
 "nbformat_minor": 1
}
